{
 "cells": [
  {
   "cell_type": "markdown",
   "id": "139aea2e-4ec0-42a0-adfd-4e819c9c07c0",
   "metadata": {},
   "source": [
    "# Pattern Print"
   ]
  },
  {
   "cell_type": "code",
   "execution_count": 2,
   "id": "3e538e66-f43c-4411-853d-9cd586942072",
   "metadata": {},
   "outputs": [],
   "source": [
    "# Triangle>> Left,Middle, Right\n",
    "# Alpha and Digits Triangle>>\n"
   ]
  },
  {
   "cell_type": "code",
   "execution_count": 6,
   "id": "1dc530ca-7cd8-431f-a140-40b242c5ac65",
   "metadata": {},
   "outputs": [],
   "source": [
    "# *      \n",
    "# * *\n",
    "# * * *  \n",
    "# * * * *"
   ]
  },
  {
   "cell_type": "code",
   "execution_count": null,
   "id": "4dc38eff-7516-4ff2-856e-3600b1a481dc",
   "metadata": {},
   "outputs": [],
   "source": [
    "#       *  Space: 6    \n",
    "#     * *  Space: 4\n",
    "#   * * *  Space: 2\n",
    "# * * * *  Space: 0 "
   ]
  },
  {
   "cell_type": "code",
   "execution_count": 32,
   "id": "21724880-df0e-43b0-9c3d-882ca5daf1fb",
   "metadata": {},
   "outputs": [
    {
     "name": "stdout",
     "output_type": "stream",
     "text": [
      "              * \n",
      "            * * \n",
      "          * * * \n",
      "        * * * * \n",
      "      * * * * * \n",
      "    * * * * * * \n",
      "  * * * * * * * \n",
      "* * * * * * * * \n"
     ]
    }
   ],
   "source": [
    "# Right Triangle Pattern\n",
    "\n",
    "char = '* '\n",
    "n = 8\n",
    "for i in range(1, n+1):\n",
    "    print('  '*(n-i) + char*i)"
   ]
  },
  {
   "cell_type": "code",
   "execution_count": 34,
   "id": "dc076710-1642-4e45-9a83-d30565845543",
   "metadata": {},
   "outputs": [
    {
     "name": "stdout",
     "output_type": "stream",
     "text": [
      "       * \n",
      "      * * \n",
      "     * * * \n",
      "    * * * * \n",
      "   * * * * * \n",
      "  * * * * * * \n",
      " * * * * * * * \n",
      "* * * * * * * * \n"
     ]
    }
   ],
   "source": [
    "# Mid Triangle Pyramid\n",
    "\n",
    "char = '* '\n",
    "n = 8\n",
    "for i in range(1, n+1):\n",
    "    print(' '*(n-i) + char*i)"
   ]
  },
  {
   "cell_type": "code",
   "execution_count": 38,
   "id": "cab4b284-3a3c-4356-9982-724b1320f928",
   "metadata": {},
   "outputs": [
    {
     "name": "stdout",
     "output_type": "stream",
     "text": [
      "* \n",
      "* * \n",
      "* * * \n",
      "* * * * \n"
     ]
    }
   ],
   "source": [
    "# Left Triangle Pyramid\n",
    "\n",
    "char = '* '\n",
    "n = 4\n",
    "for i in range(1, n+1):\n",
    "    print(''*(n-i) + char*i)"
   ]
  },
  {
   "cell_type": "code",
   "execution_count": 70,
   "id": "6f991497-5206-4030-a29a-71cca0b428b7",
   "metadata": {},
   "outputs": [
    {
     "name": "stdout",
     "output_type": "stream",
     "text": [
      "      x \n",
      "    x x \n",
      "  x x x \n",
      "x x x x \n"
     ]
    }
   ],
   "source": [
    "# Any Triangle Pyramid\n",
    "\n",
    "char = 'x '\n",
    "n = 4\n",
    "for i in range(1, n+1):\n",
    "    print('  '*(n-i) + char*i) "
   ]
  },
  {
   "cell_type": "code",
   "execution_count": 74,
   "id": "ba4c9983-f143-45e2-9dde-241dbea59817",
   "metadata": {},
   "outputs": [
    {
     "name": "stdout",
     "output_type": "stream",
     "text": [
      "A \n",
      "A A \n",
      "A A A \n",
      "A A A A \n"
     ]
    }
   ],
   "source": [
    "# Any Triangle Pyramid\n",
    "\n",
    "char = 'A '\n",
    "n = 4\n",
    "for i in range(1, n+1):\n",
    "    print(''*(n-i) + char*i) "
   ]
  },
  {
   "cell_type": "code",
   "execution_count": 76,
   "id": "656928e5-3f6c-4b73-a694-14ac0e689a80",
   "metadata": {},
   "outputs": [],
   "source": [
    "*      * *    * * *  * * * *"
   ]
  },
  {
   "cell_type": "code",
   "execution_count": 104,
   "id": "3e514233-a96c-4c3f-a280-75daa3643998",
   "metadata": {},
   "outputs": [
    {
     "name": "stdout",
     "output_type": "stream",
     "text": [
      "* \n",
      "* * \n",
      "* * * \n",
      "* * * * \n"
     ]
    }
   ],
   "source": [
    "char = '*'\n",
    "n = 4\n",
    "for i in range(1,n+1):\n",
    "    for j in range(i):\n",
    "        print(f'*', end = ' ')\n",
    "        \n",
    "    print()"
   ]
  },
  {
   "cell_type": "code",
   "execution_count": 120,
   "id": "7491d5d6-8e2c-4da8-b71e-7328df795f87",
   "metadata": {},
   "outputs": [
    {
     "name": "stdout",
     "output_type": "stream",
     "text": [
      "* \n",
      "* * \n",
      "* * * \n",
      "* * * * \n"
     ]
    }
   ],
   "source": [
    "char = '*'\n",
    "n = 4\n",
    "for i in range(1,n+1):\n",
    "    for j in range(i):\n",
    "        print(f'*', end = ' ')\n",
    "    print()"
   ]
  },
  {
   "cell_type": "code",
   "execution_count": null,
   "id": "2eb3c676-c56e-47d2-b774-97d8ca24260b",
   "metadata": {},
   "outputs": [],
   "source": []
  },
  {
   "cell_type": "code",
   "execution_count": 259,
   "id": "accc475c-0bec-4fce-bb88-c07cf8f57515",
   "metadata": {},
   "outputs": [
    {
     "name": "stdout",
     "output_type": "stream",
     "text": [
      "          * \n",
      "        * * \n",
      "      * * * \n",
      "    * * * * \n",
      "  * * * * * \n",
      "* * * * * * \n"
     ]
    }
   ],
   "source": [
    "char = '*'\n",
    "n = 6\n",
    "# Loop Run with value of n\n",
    "for i in range(1,n+1):\n",
    "    # Spaces Print\n",
    "    for j in range(n-i):\n",
    "        print(' ', end = ' ')    \n",
    "    # Star print\n",
    "    for k in range(1,i+1):\n",
    "        print('*', end = ' ')\n",
    "    print()"
   ]
  },
  {
   "cell_type": "code",
   "execution_count": 275,
   "id": "858fff4a-ef29-47c0-9a2d-a5d312130062",
   "metadata": {},
   "outputs": [
    {
     "name": "stdout",
     "output_type": "stream",
     "text": [
      "          A \n",
      "        A B \n",
      "      A B C \n",
      "    A B C D \n",
      "  A B C D E \n",
      "A B C D E F \n"
     ]
    }
   ],
   "source": [
    "char = '*'\n",
    "n = 6\n",
    "# Loop Run with value of n\n",
    "for i in range(1,n+1):\n",
    "    # Spaces Print\n",
    "    for j in range(n-i):\n",
    "        print(' ', end = ' ')    \n",
    "    # Star print\n",
    "    for k in range(1,i+1):\n",
    "        print(chr(k+64), end = ' ')\n",
    "    print()"
   ]
  },
  {
   "cell_type": "code",
   "execution_count": 273,
   "id": "a997763a-ed31-4795-a800-e9e2c93cb8cc",
   "metadata": {},
   "outputs": [
    {
     "data": {
      "text/plain": [
       "'B'"
      ]
     },
     "execution_count": 273,
     "metadata": {},
     "output_type": "execute_result"
    }
   ],
   "source": [
    "chr(66)"
   ]
  },
  {
   "cell_type": "code",
   "execution_count": 269,
   "id": "0e91950a-9243-4a2f-989e-57d6db59ad82",
   "metadata": {},
   "outputs": [
    {
     "data": {
      "text/plain": [
       "65"
      ]
     },
     "execution_count": 269,
     "metadata": {},
     "output_type": "execute_result"
    }
   ],
   "source": [
    "ord('A')"
   ]
  },
  {
   "cell_type": "code",
   "execution_count": 277,
   "id": "4b16ae2b-1b01-4a28-8945-7e53cc1076ec",
   "metadata": {},
   "outputs": [
    {
     "name": "stdout",
     "output_type": "stream",
     "text": [
      "     A \n",
      "    A B \n",
      "   A B C \n",
      "  A B C D \n",
      " A B C D E \n",
      "A B C D E F \n"
     ]
    }
   ],
   "source": [
    "char = '*'\n",
    "n = 6\n",
    "# Loop Run with value of n\n",
    "for i in range(1,n+1):\n",
    "    # Spaces Print\n",
    "    for j in range(n-i):\n",
    "        print('', end = ' ')    \n",
    "    # Star print\n",
    "    for k in range(1,i+1):\n",
    "        print(chr(k+64), end = ' ')\n",
    "    print()"
   ]
  },
  {
   "cell_type": "code",
   "execution_count": 287,
   "id": "d4a6d6e9-e86e-4dd1-ad8b-34e077861f26",
   "metadata": {},
   "outputs": [
    {
     "name": "stdout",
     "output_type": "stream",
     "text": [
      "A \n",
      "A B \n",
      "A B C \n",
      "A B C D \n"
     ]
    }
   ],
   "source": [
    "char = '*'\n",
    "n = 4\n",
    "for i in range(1,n+1):\n",
    "    for j in range(1,i+1):\n",
    "        print(chr(j+64), end = ' ')\n",
    "    print()"
   ]
  },
  {
   "cell_type": "code",
   "execution_count": 289,
   "id": "b8b83c17-91e0-44d5-845d-dfdacf32f21b",
   "metadata": {},
   "outputs": [
    {
     "name": "stdout",
     "output_type": "stream",
     "text": [
      "A \n",
      "A B \n",
      "A B C \n",
      "A B C D \n",
      "A B C D E \n",
      "A B C D E F \n",
      "A B C D E F G \n",
      "A B C D E F G H \n",
      "A B C D E F G H I \n",
      "A B C D E F G H I J \n"
     ]
    }
   ],
   "source": [
    "char = '*'\n",
    "n = 10\n",
    "for i in range(1,n+1):\n",
    "    for j in range(1,i+1):\n",
    "        print(chr(j+64), end = ' ')\n",
    "    print()"
   ]
  },
  {
   "cell_type": "code",
   "execution_count": 293,
   "id": "1c477285-fcd5-41bf-99ad-fc74a2865882",
   "metadata": {},
   "outputs": [
    {
     "name": "stdout",
     "output_type": "stream",
     "text": [
      "A B C D E \n",
      "A B C D \n",
      "A B C \n",
      "A B \n",
      "A \n"
     ]
    }
   ],
   "source": [
    "char = '*'\n",
    "n = 5\n",
    "for i in range(n,0,-1):\n",
    "    for j in range(1,i+1):\n",
    "        print(chr(j+64), end = ' ')\n",
    "    print()"
   ]
  },
  {
   "cell_type": "code",
   "execution_count": 295,
   "id": "33cbddfc-e0e7-414f-85dd-13e2e04443e5",
   "metadata": {},
   "outputs": [
    {
     "name": "stdout",
     "output_type": "stream",
     "text": [
      "1 2 3 4 5 \n",
      "1 2 3 4 \n",
      "1 2 3 \n",
      "1 2 \n",
      "1 \n"
     ]
    }
   ],
   "source": [
    "char = '*'\n",
    "n = 5\n",
    "for i in range(n,0,-1):\n",
    "    for j in range(1,i+1):\n",
    "        print(j, end = ' ')\n",
    "    print()"
   ]
  },
  {
   "cell_type": "code",
   "execution_count": 299,
   "id": "2a30f542-789d-48c1-996f-d7a12d9b399d",
   "metadata": {},
   "outputs": [
    {
     "name": "stdout",
     "output_type": "stream",
     "text": [
      "A \n",
      "A B \n",
      "A B C \n",
      "A B C D \n",
      "A B C D E \n",
      "A B C D \n",
      "A B C \n",
      "A B \n",
      "A \n"
     ]
    }
   ],
   "source": [
    "char = '*'\n",
    "n = 5\n",
    "\n",
    "# Forward\n",
    "for i in range(1,n+1):\n",
    "    for j in range(1,i+1):\n",
    "        print(chr(j+64), end = ' ')\n",
    "    print()\n",
    "\n",
    "# Reverse\n",
    "for i in range(n-1,0,-1):\n",
    "    for j in range(1,i+1):\n",
    "        print(chr(j+64), end = ' ')\n",
    "    print()"
   ]
  },
  {
   "cell_type": "code",
   "execution_count": 301,
   "id": "111e0d75-2594-4379-ac0b-ee9eceed48e8",
   "metadata": {},
   "outputs": [
    {
     "name": "stdout",
     "output_type": "stream",
     "text": [
      "     A \n",
      "    A B \n",
      "   A B C \n",
      "  A B C D \n",
      " A B C D E \n",
      "A B C D E F \n",
      " A B C D E \n",
      "  A B C D \n",
      "   A B C \n",
      "    A B \n",
      "     A \n"
     ]
    }
   ],
   "source": [
    "char = '*'\n",
    "n = 6\n",
    "\n",
    "# Forward\n",
    "# Loop Run with value of n\n",
    "for i in range(1,n+1):\n",
    "    # Spaces Print\n",
    "    for j in range(n-i):\n",
    "        print('', end = ' ')    \n",
    "    # Star print\n",
    "    for k in range(1,i+1):\n",
    "        print(chr(k+64), end = ' ')\n",
    "    print()\n",
    "\n",
    "for i in range(n-1,0,-1):\n",
    "    # Spaces Print\n",
    "    for j in range(n-i):\n",
    "        print('', end = ' ')    \n",
    "    # Star print\n",
    "    for k in range(1,i+1):\n",
    "        print(chr(k+64), end = ' ')\n",
    "    print()"
   ]
  },
  {
   "cell_type": "code",
   "execution_count": 303,
   "id": "44cffc34-8392-4a18-b314-08616f41bfe6",
   "metadata": {},
   "outputs": [
    {
     "name": "stdout",
     "output_type": "stream",
     "text": [
      "     1 \n",
      "    1 2 \n",
      "   1 2 3 \n",
      "  1 2 3 4 \n",
      " 1 2 3 4 5 \n",
      "1 2 3 4 5 6 \n",
      " 1 2 3 4 5 \n",
      "  1 2 3 4 \n",
      "   1 2 3 \n",
      "    1 2 \n",
      "     1 \n"
     ]
    }
   ],
   "source": [
    "char = '*'\n",
    "n = 6\n",
    "\n",
    "# Forward\n",
    "# Loop Run with value of n\n",
    "for i in range(1,n+1):\n",
    "    # Spaces Print\n",
    "    for j in range(n-i):\n",
    "        print('', end = ' ')    \n",
    "    # Star print\n",
    "    for k in range(1,i+1):\n",
    "        print(k, end = ' ')\n",
    "    print()\n",
    "\n",
    "for i in range(n-1,0,-1):\n",
    "    # Spaces Print\n",
    "    for j in range(n-i):\n",
    "        print('', end = ' ')    \n",
    "    # Star print\n",
    "    for k in range(1,i+1):\n",
    "        print(k, end = ' ')\n",
    "    print()"
   ]
  },
  {
   "cell_type": "code",
   "execution_count": null,
   "id": "e4783512-bed7-452b-b6fc-60b81813dcf1",
   "metadata": {},
   "outputs": [],
   "source": []
  }
 ],
 "metadata": {
  "kernelspec": {
   "display_name": "Python [conda env:base] *",
   "language": "python",
   "name": "conda-base-py"
  },
  "language_info": {
   "codemirror_mode": {
    "name": "ipython",
    "version": 3
   },
   "file_extension": ".py",
   "mimetype": "text/x-python",
   "name": "python",
   "nbconvert_exporter": "python",
   "pygments_lexer": "ipython3",
   "version": "3.12.7"
  }
 },
 "nbformat": 4,
 "nbformat_minor": 5
}
