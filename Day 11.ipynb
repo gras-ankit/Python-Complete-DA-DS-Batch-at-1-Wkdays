{
 "cells": [
  {
   "cell_type": "markdown",
   "id": "918e8a06-e7fc-4fd0-9497-5465519f99a7",
   "metadata": {},
   "source": [
    "# Continue, For with Else, Nested Loop, While"
   ]
  },
  {
   "cell_type": "code",
   "execution_count": 4,
   "id": "0b27f925-55fb-423d-b3a2-f25d8e0f4ddc",
   "metadata": {},
   "outputs": [],
   "source": [
    "# continue: loop iteration skip and pass control to next iteration\n",
    "# pass: loop iteration skip and pass control to next code\n",
    "# break: loop completely break and exit outside the loop"
   ]
  },
  {
   "cell_type": "code",
   "execution_count": 14,
   "id": "811f9309-9957-49d8-818d-7dc361c70ce5",
   "metadata": {},
   "outputs": [
    {
     "name": "stdout",
     "output_type": "stream",
     "text": [
      "Your ID 23 Payment Approved\n",
      "Your ID 54 Payment Approved\n",
      "Your ID 55 Payment Approved\n",
      "Your ID 435 Payment Approved\n",
      "Your ID 54 Payment Approved\n",
      "Your ID 78 Payment Approved\n",
      "Your ID 9 Payment Approved\n"
     ]
    }
   ],
   "source": [
    "data = [23,54,55,435,67,54,576,78,9]\n",
    "\n",
    "for i in  data:\n",
    "    if i in [67,576]:\n",
    "        continue\n",
    "        print('Just checking')\n",
    "        print(data)\n",
    "        print(23456789*345678)\n",
    "    else:\n",
    "        print(f'Your ID {i} Payment Approved')"
   ]
  },
  {
   "cell_type": "code",
   "execution_count": 16,
   "id": "1e7f4063-31bc-427c-a7a7-06feb1cb8783",
   "metadata": {},
   "outputs": [
    {
     "name": "stdout",
     "output_type": "stream",
     "text": [
      "Your ID 23 Payment Approved\n",
      "Your ID 54 Payment Approved\n",
      "Your ID 55 Payment Approved\n",
      "Your ID 435 Payment Approved\n",
      "Just checking\n",
      "[23, 54, 55, 435, 67, 54, 576, 78, 9]\n",
      "8108495907942\n",
      "Your ID 54 Payment Approved\n",
      "Just checking\n",
      "[23, 54, 55, 435, 67, 54, 576, 78, 9]\n",
      "8108495907942\n",
      "Your ID 78 Payment Approved\n",
      "Your ID 9 Payment Approved\n"
     ]
    }
   ],
   "source": [
    "data = [23,54,55,435,67,54,576,78,9]\n",
    "\n",
    "for i in  data:\n",
    "    if i in [67,576]:\n",
    "        pass\n",
    "        print('Just checking')\n",
    "        print(data)\n",
    "        print(23456789*345678)\n",
    "    else:\n",
    "        print(f'Your ID {i} Payment Approved')"
   ]
  },
  {
   "cell_type": "code",
   "execution_count": 20,
   "id": "5fcca44a-af1a-4364-ab8d-52f5b26ea323",
   "metadata": {},
   "outputs": [
    {
     "name": "stdout",
     "output_type": "stream",
     "text": [
      "Your ID 23 Payment Approved\n",
      "Your ID 54 Payment Approved\n",
      "Your ID 55 Payment Approved\n"
     ]
    }
   ],
   "source": [
    "data = [23,54,55,420,67,54,576,410,9]\n",
    "\n",
    "for i in  data:\n",
    "    if i == 420:\n",
    "        break\n",
    "    else:\n",
    "        print(f'Your ID {i} Payment Approved')"
   ]
  },
  {
   "cell_type": "code",
   "execution_count": null,
   "id": "ecda0e99-8061-4777-9e81-78d71121baed",
   "metadata": {},
   "outputs": [],
   "source": []
  },
  {
   "cell_type": "code",
   "execution_count": null,
   "id": "91b7eb7e-8e96-4116-8470-9046b9293cc5",
   "metadata": {},
   "outputs": [],
   "source": []
  },
  {
   "cell_type": "code",
   "execution_count": 24,
   "id": "31dd3a20-378f-46e0-80f0-5a924f890134",
   "metadata": {},
   "outputs": [],
   "source": [
    "# Prime Number"
   ]
  },
  {
   "cell_type": "code",
   "execution_count": 26,
   "id": "f66fccbd-f36f-49fc-9269-a5a84f3b7419",
   "metadata": {},
   "outputs": [],
   "source": [
    "# 2,3,5,7,11"
   ]
  },
  {
   "cell_type": "code",
   "execution_count": 5,
   "id": "a042a6ee-7c86-4fdb-bb63-71b40a55eacb",
   "metadata": {},
   "outputs": [
    {
     "name": "stdout",
     "output_type": "stream",
     "text": [
      "2 Prime Number\n",
      "3 Prime Number\n",
      "4 Not a Prime Number\n",
      "5 Prime Number\n",
      "6 Not a Prime Number\n",
      "7 Prime Number\n",
      "8 Not a Prime Number\n",
      "9 Not a Prime Number\n",
      "10 Not a Prime Number\n",
      "11 Prime Number\n",
      "12 Not a Prime Number\n",
      "13 Prime Number\n",
      "14 Not a Prime Number\n",
      "15 Not a Prime Number\n",
      "16 Not a Prime Number\n",
      "17 Prime Number\n",
      "18 Not a Prime Number\n",
      "19 Prime Number\n"
     ]
    }
   ],
   "source": [
    "for i in range(2,20):\n",
    "    for j in range(2,i):\n",
    "        if i % j == 0:\n",
    "            print(f'{i} Not a Prime Number')\n",
    "            break\n",
    "    else:\n",
    "        print(f'{i} Prime Number')"
   ]
  },
  {
   "cell_type": "code",
   "execution_count": 1,
   "id": "4c281a45-ca0a-4486-a975-598d485841ac",
   "metadata": {},
   "outputs": [
    {
     "name": "stdin",
     "output_type": "stream",
     "text": [
      "Enter Max range to get Prime list:  5\n"
     ]
    },
    {
     "name": "stdout",
     "output_type": "stream",
     "text": [
      "\n",
      "\n",
      "\n",
      "Prime Number list upto 200:  [2, 3]\n"
     ]
    }
   ],
   "source": [
    "all_prime_number = []\n",
    "max_range = int(input('Enter Max range to get Prime list: '))\n",
    "\n",
    "for i in range(2,max_range):\n",
    "    for j in range(2,i):\n",
    "        if i % j == 0:\n",
    "            # print(f'{i} Not a Prime Number')\n",
    "            break\n",
    "    else:\n",
    "        all_prime_number.append(i)\n",
    "        # print(f'{i} Prime Number')\n",
    "\n",
    "print('\\n'*2)\n",
    "print('Prime Number list upto 200: ',all_prime_number)"
   ]
  },
  {
   "cell_type": "code",
   "execution_count": 3,
   "id": "8388f078-d58c-475f-9d61-49ad1676f8bf",
   "metadata": {},
   "outputs": [
    {
     "name": "stdout",
     "output_type": "stream",
     "text": [
      "Not a prime Number\n"
     ]
    }
   ],
   "source": [
    "user_number = 45678611\n",
    "\n",
    "for i in range(2,user_number):\n",
    "    if user_number % i == 0:\n",
    "        print('Not a prime Number')\n",
    "        break\n",
    "\n",
    "else:\n",
    "    print('Yes it\\'s a Prime Number')"
   ]
  },
  {
   "cell_type": "code",
   "execution_count": null,
   "id": "ff4a338a-ec8f-4da4-b17a-22acca767dc5",
   "metadata": {},
   "outputs": [],
   "source": []
  },
  {
   "cell_type": "markdown",
   "id": "1c42f32a-3793-412d-a621-43a64688931f",
   "metadata": {},
   "source": [
    "# nested Loop"
   ]
  },
  {
   "cell_type": "code",
   "execution_count": 62,
   "id": "58c342a9-4565-48e2-aa52-0c43649ac380",
   "metadata": {},
   "outputs": [
    {
     "name": "stdout",
     "output_type": "stream",
     "text": [
      "Common ID list:  [54, 5, 67]\n"
     ]
    }
   ],
   "source": [
    "sales_id = [23,54,324,5,67,457,345,47]\n",
    "new_sales_id = [34,54,6,34,656,78,6,45,5,6764,65,67]\n",
    "common_id = []\n",
    "\n",
    "\n",
    "for i in sales_id:\n",
    "    for j in new_sales_id:\n",
    "        if i == j:\n",
    "            common_id.append(i)\n",
    "\n",
    "print('Common ID list: ',common_id)"
   ]
  },
  {
   "cell_type": "code",
   "execution_count": 66,
   "id": "490e2d44-4b16-4ab1-9aef-16358333c781",
   "metadata": {},
   "outputs": [
    {
     "name": "stdout",
     "output_type": "stream",
     "text": [
      "Common ID list:  [5]\n"
     ]
    }
   ],
   "source": [
    "sales_id = [23,54,324,5,67,457,345,47]\n",
    "new_sales_id = [34,54,6,34,656,78,6,45,5,6764,65,67]\n",
    "old_sales_id = [2,354,4,324,56,5,63,4,4567,46]\n",
    "common = []\n",
    "\n",
    "\n",
    "for i in sales_id:\n",
    "    for j in new_sales_id:\n",
    "        for k in old_sales_id:\n",
    "            if i==j==k:\n",
    "                common.append(i)\n",
    "\n",
    "print('Common ID list: ',common)"
   ]
  },
  {
   "cell_type": "code",
   "execution_count": 74,
   "id": "c16821a4-1685-41f4-989f-d217589919fc",
   "metadata": {},
   "outputs": [
    {
     "name": "stdout",
     "output_type": "stream",
     "text": [
      "Min Sales:  1\n"
     ]
    }
   ],
   "source": [
    "sales = [45,345,56,34,56,56,345,1,55,34,4534,5,35,34,534,45,67]\n",
    "min_sales = sales[0]\n",
    "\n",
    "for i in sales:\n",
    "    if i < min_sales:\n",
    "        min_sales = i\n",
    "print('Min Sales: ',min_sales)"
   ]
  },
  {
   "cell_type": "code",
   "execution_count": null,
   "id": "46cc71b0-bbce-403c-a906-7466864c9a4e",
   "metadata": {},
   "outputs": [],
   "source": []
  },
  {
   "cell_type": "code",
   "execution_count": 79,
   "id": "a39bc0f5-b40f-44d6-8ef0-0a1199b41c9f",
   "metadata": {},
   "outputs": [
    {
     "name": "stdout",
     "output_type": "stream",
     "text": [
      "Max Sales:  4534\n"
     ]
    }
   ],
   "source": [
    "sales = [45,345,56,34,56,56,345,1,55,34,4534,5,35,34,534,45,67]\n",
    "max_sales = sales[0]\n",
    "\n",
    "for i in sales:\n",
    "    if i > max_sales:\n",
    "        max_sales = i\n",
    "print('Max Sales: ',max_sales)"
   ]
  },
  {
   "cell_type": "markdown",
   "id": "4e0a3857-1656-48c7-8146-89cbf373ecda",
   "metadata": {},
   "source": [
    "# While Loop: Conditions"
   ]
  },
  {
   "cell_type": "code",
   "execution_count": 82,
   "id": "227580ca-90bf-4c2f-945b-087f83d2eb68",
   "metadata": {},
   "outputs": [],
   "source": [
    "# while condition/conditions:\n",
    "#     code block\n",
    "#     if else: break"
   ]
  },
  {
   "cell_type": "code",
   "execution_count": 84,
   "id": "2a0d1d8a-904b-435f-af34-eea98c356b46",
   "metadata": {},
   "outputs": [],
   "source": [
    "while False:\n",
    "    print('Hello Dear')"
   ]
  },
  {
   "cell_type": "code",
   "execution_count": 7,
   "id": "165e05e7-892e-44ce-9969-678f986f1b9d",
   "metadata": {},
   "outputs": [
    {
     "name": "stdout",
     "output_type": "stream",
     "text": [
      "Hello Dear 1\n"
     ]
    }
   ],
   "source": [
    "counter = 1\n",
    "while True:  # infinite loop\n",
    "    print('Hello Dear', counter)\n",
    "    counter += 1\n",
    "    break"
   ]
  },
  {
   "cell_type": "code",
   "execution_count": null,
   "id": "a1af8a8c-dc34-42b3-9dd7-cd8992653e22",
   "metadata": {},
   "outputs": [],
   "source": [
    "print('Hello')"
   ]
  },
  {
   "cell_type": "code",
   "execution_count": null,
   "id": "e15cacff-4608-4daf-b819-de197f624f8a",
   "metadata": {},
   "outputs": [],
   "source": [
    "counter = 1\n",
    "while True:  # infinite loop\n",
    "    print('Hello Dear', counter)\n",
    "    \n",
    "    counter += 1\n",
    "    "
   ]
  }
 ],
 "metadata": {
  "kernelspec": {
   "display_name": "Python [conda env:base] *",
   "language": "python",
   "name": "conda-base-py"
  },
  "language_info": {
   "codemirror_mode": {
    "name": "ipython",
    "version": 3
   },
   "file_extension": ".py",
   "mimetype": "text/x-python",
   "name": "python",
   "nbconvert_exporter": "python",
   "pygments_lexer": "ipython3",
   "version": "3.12.7"
  }
 },
 "nbformat": 4,
 "nbformat_minor": 5
}
