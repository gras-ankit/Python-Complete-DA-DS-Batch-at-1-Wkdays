{
 "cells": [
  {
   "cell_type": "code",
   "execution_count": 1,
   "id": "780eabca-78ad-4083-a554-ed08d5efcff9",
   "metadata": {},
   "outputs": [],
   "source": [
    "# a.ljust\n",
    "# a.rjust\n",
    "# a.removeprefix\n",
    "# a.title\n",
    "# a.zfill\n",
    "# a.split\n",
    "# a.splitlines\n",
    "# a.swapcase\n",
    "# a.format_map"
   ]
  },
  {
   "cell_type": "code",
   "execution_count": 3,
   "id": "36fd9b52-bc16-4a60-b32b-c3e79d166729",
   "metadata": {},
   "outputs": [],
   "source": [
    "a = 'harry'"
   ]
  },
  {
   "cell_type": "code",
   "execution_count": 5,
   "id": "70c17a4c-f572-4987-b245-eed188908891",
   "metadata": {},
   "outputs": [
    {
     "data": {
      "text/plain": [
       "'harry*****'"
      ]
     },
     "execution_count": 5,
     "metadata": {},
     "output_type": "execute_result"
    }
   ],
   "source": [
    "a.ljust(10,'*')"
   ]
  },
  {
   "cell_type": "code",
   "execution_count": 7,
   "id": "8bd65940-5342-4dca-aecf-4f7a4ccf4633",
   "metadata": {},
   "outputs": [
    {
     "data": {
      "text/plain": [
       "'*****harry'"
      ]
     },
     "execution_count": 7,
     "metadata": {},
     "output_type": "execute_result"
    }
   ],
   "source": [
    "a.rjust(10,'*')"
   ]
  },
  {
   "cell_type": "code",
   "execution_count": 11,
   "id": "b27c94ab-9292-4bb0-8cdf-a30206918743",
   "metadata": {},
   "outputs": [
    {
     "data": {
      "text/plain": [
       "'Harry'"
      ]
     },
     "execution_count": 11,
     "metadata": {},
     "output_type": "execute_result"
    }
   ],
   "source": [
    "a = 'Mr Harry'\n",
    "a.removeprefix('Mr ')"
   ]
  },
  {
   "cell_type": "code",
   "execution_count": 19,
   "id": "d81b80d8-0304-45a1-9b1b-7f772386a99c",
   "metadata": {},
   "outputs": [
    {
     "data": {
      "text/plain": [
       "'HARRY'"
      ]
     },
     "execution_count": 19,
     "metadata": {},
     "output_type": "execute_result"
    }
   ],
   "source": [
    "a = 'Mr Harry kanpur waale'\n",
    "a.removesuffix(' kanpur waale').removeprefix('Mr ').upper()"
   ]
  },
  {
   "cell_type": "code",
   "execution_count": 23,
   "id": "b49178e1-a1d7-443f-b087-17b1ddbd2c7c",
   "metadata": {},
   "outputs": [],
   "source": [
    "a = 'This is elon musk'"
   ]
  },
  {
   "cell_type": "code",
   "execution_count": 25,
   "id": "e768111b-6e98-40e4-84fc-099b5dfc8e78",
   "metadata": {},
   "outputs": [
    {
     "data": {
      "text/plain": [
       "'This Is Elon Musk'"
      ]
     },
     "execution_count": 25,
     "metadata": {},
     "output_type": "execute_result"
    }
   ],
   "source": [
    "a.title()"
   ]
  },
  {
   "cell_type": "code",
   "execution_count": 27,
   "id": "c7ce23fc-9b80-4073-a2a1-919ed54f54ef",
   "metadata": {},
   "outputs": [],
   "source": [
    "a = 'Hello World'"
   ]
  },
  {
   "cell_type": "code",
   "execution_count": 29,
   "id": "5cfc5f03-a85c-4d70-881d-b339bcf88126",
   "metadata": {},
   "outputs": [
    {
     "data": {
      "text/plain": [
       "'000000000Hello World'"
      ]
     },
     "execution_count": 29,
     "metadata": {},
     "output_type": "execute_result"
    }
   ],
   "source": [
    "a.zfill(20)"
   ]
  },
  {
   "cell_type": "code",
   "execution_count": 31,
   "id": "fa8a6e4e-fc25-406f-945d-1e34e50c0583",
   "metadata": {},
   "outputs": [
    {
     "data": {
      "text/plain": [
       "'000000000Hello World'"
      ]
     },
     "execution_count": 31,
     "metadata": {},
     "output_type": "execute_result"
    }
   ],
   "source": [
    "a.rjust(20,'0')"
   ]
  },
  {
   "cell_type": "code",
   "execution_count": 33,
   "id": "1192f9a0-75e8-44e3-a3f9-00045e7a3d5a",
   "metadata": {},
   "outputs": [
    {
     "data": {
      "text/plain": [
       "5"
      ]
     },
     "execution_count": 33,
     "metadata": {},
     "output_type": "execute_result"
    }
   ],
   "source": [
    "a = '56'\n",
    "b = '6798'\n",
    "c = '67890'\n",
    "\n",
    "len(c)"
   ]
  },
  {
   "cell_type": "code",
   "execution_count": 37,
   "id": "de01294a-c29c-490a-9ac8-6e8913868897",
   "metadata": {},
   "outputs": [
    {
     "name": "stdout",
     "output_type": "stream",
     "text": [
      "00056\n",
      "06798\n",
      "67890\n"
     ]
    }
   ],
   "source": [
    "print(a.zfill(5))\n",
    "print(b.zfill(5))\n",
    "print(c.zfill(5))\n"
   ]
  },
  {
   "cell_type": "code",
   "execution_count": 39,
   "id": "20cc4cea-c83c-4313-852b-97287d73c7ff",
   "metadata": {},
   "outputs": [],
   "source": [
    "# a.split\n",
    "# a.splitlines"
   ]
  },
  {
   "cell_type": "code",
   "execution_count": 41,
   "id": "d229765d-25ed-45c7-b4be-729a5264946a",
   "metadata": {},
   "outputs": [],
   "source": [
    "a = 'This is Elon Musk'"
   ]
  },
  {
   "cell_type": "code",
   "execution_count": 43,
   "id": "93a95f4d-b2d9-4385-8391-3b23c4ebae76",
   "metadata": {},
   "outputs": [
    {
     "data": {
      "text/plain": [
       "['This', 'is', 'Elon', 'Musk']"
      ]
     },
     "execution_count": 43,
     "metadata": {},
     "output_type": "execute_result"
    }
   ],
   "source": [
    "a.split(' ')"
   ]
  },
  {
   "cell_type": "code",
   "execution_count": 45,
   "id": "6301eb76-3f22-463f-a435-ce349425dd84",
   "metadata": {},
   "outputs": [
    {
     "name": "stdout",
     "output_type": "stream",
     "text": [
      "This\n",
      "is\n",
      "Elon\n",
      "Musk\n"
     ]
    }
   ],
   "source": [
    "a = 'This\\nis\\nElon\\nMusk'\n",
    "print(a)"
   ]
  },
  {
   "cell_type": "code",
   "execution_count": 47,
   "id": "6ed93ddb-824c-4253-b4ea-c0b13d9bdd14",
   "metadata": {},
   "outputs": [
    {
     "data": {
      "text/plain": [
       "['This', 'is', 'Elon', 'Musk']"
      ]
     },
     "execution_count": 47,
     "metadata": {},
     "output_type": "execute_result"
    }
   ],
   "source": [
    "a.split('\\n')"
   ]
  },
  {
   "cell_type": "code",
   "execution_count": 49,
   "id": "66decd18-753d-4708-91b7-9cd521ca5291",
   "metadata": {},
   "outputs": [
    {
     "data": {
      "text/plain": [
       "['This', 'is', 'Elon', 'Musk']"
      ]
     },
     "execution_count": 49,
     "metadata": {},
     "output_type": "execute_result"
    }
   ],
   "source": [
    "a.splitlines()"
   ]
  },
  {
   "cell_type": "code",
   "execution_count": 51,
   "id": "176d8e96-2af8-41b7-a7af-ef3e861526cb",
   "metadata": {},
   "outputs": [],
   "source": [
    "a = 'this IS ELon MUsk'"
   ]
  },
  {
   "cell_type": "code",
   "execution_count": 53,
   "id": "afc79a24-946f-4f18-84d0-1906effd6426",
   "metadata": {},
   "outputs": [
    {
     "data": {
      "text/plain": [
       "'THIS is elON muSK'"
      ]
     },
     "execution_count": 53,
     "metadata": {},
     "output_type": "execute_result"
    }
   ],
   "source": [
    "a.swapcase()"
   ]
  },
  {
   "cell_type": "code",
   "execution_count": 59,
   "id": "2940b9fa-06d7-4bd4-91eb-446eb7ef7eea",
   "metadata": {},
   "outputs": [
    {
     "data": {
      "text/plain": [
       "'I have kia car having price is 987876 and Model is 2025'"
      ]
     },
     "execution_count": 59,
     "metadata": {},
     "output_type": "execute_result"
    }
   ],
   "source": [
    "data = {'car':'kia', 'price':987876, 'M':2025}\n",
    "\n",
    "msg = 'I have {car} car having price is {price} and Model is {M}'\n",
    "\n",
    "msg.format_map(data)"
   ]
  },
  {
   "cell_type": "code",
   "execution_count": null,
   "id": "92c47ccc-6f4b-4086-8d87-485634d76461",
   "metadata": {},
   "outputs": [],
   "source": []
  },
  {
   "cell_type": "markdown",
   "id": "97b9b2a3-8e9e-4d90-b5b9-64bf7cb3c682",
   "metadata": {},
   "source": [
    "# Data Type"
   ]
  },
  {
   "cell_type": "markdown",
   "id": "1e33407d-3dd3-4d12-be3d-c1fb7009d130",
   "metadata": {},
   "source": [
    "# List"
   ]
  },
  {
   "cell_type": "code",
   "execution_count": 64,
   "id": "25644e72-a029-48be-adc5-ea841fe01caa",
   "metadata": {},
   "outputs": [],
   "source": [
    "data = [123,4,90.8,'Mohan',[2,3,54],(23,6,5),{23,64,45},{'Name':'Mohan'}, True]"
   ]
  },
  {
   "cell_type": "code",
   "execution_count": 66,
   "id": "a256bda5-becb-4bc8-9fd3-eea5fce6d509",
   "metadata": {},
   "outputs": [
    {
     "name": "stdout",
     "output_type": "stream",
     "text": [
      "[123, 4, 90.8, 'Mohan', [2, 3, 54], (23, 6, 5), {64, 45, 23}, {'Name': 'Mohan'}, True]\n"
     ]
    }
   ],
   "source": [
    "print(data)"
   ]
  },
  {
   "cell_type": "code",
   "execution_count": 70,
   "id": "249ac7ff-b7b4-44ff-ba4e-d1cb37b9fdd8",
   "metadata": {},
   "outputs": [],
   "source": [
    "# sequence: indexing: mutable: elements change"
   ]
  },
  {
   "cell_type": "code",
   "execution_count": 72,
   "id": "9a68b081-996a-4a93-a640-a35ef24eac19",
   "metadata": {},
   "outputs": [],
   "source": [
    "students = ['Kanishk','Ekansh','Mohan','Ravi','Jatin','Uday']"
   ]
  },
  {
   "cell_type": "code",
   "execution_count": 76,
   "id": "af5592e5-1dc9-45e9-8d11-6d18355caefe",
   "metadata": {},
   "outputs": [],
   "source": [
    "students[2] = 'Mohan Khanna'"
   ]
  },
  {
   "cell_type": "code",
   "execution_count": 78,
   "id": "2569cdf5-e128-4fc0-9abf-2317cd3934e8",
   "metadata": {},
   "outputs": [
    {
     "data": {
      "text/plain": [
       "['Kanishk', 'Ekansh', 'Mohan Khanna', 'Ravi', 'Jatin', 'Uday']"
      ]
     },
     "execution_count": 78,
     "metadata": {},
     "output_type": "execute_result"
    }
   ],
   "source": [
    "students"
   ]
  },
  {
   "cell_type": "code",
   "execution_count": 82,
   "id": "5320c508-8e4c-42fa-992f-8af9e89a0b7d",
   "metadata": {},
   "outputs": [],
   "source": [
    "students[-1] = 'Uday Shetty'"
   ]
  },
  {
   "cell_type": "code",
   "execution_count": 84,
   "id": "bc2322be-6620-4b2a-b057-36c28f16938a",
   "metadata": {},
   "outputs": [
    {
     "data": {
      "text/plain": [
       "['Kanishk', 'Ekansh', 'Mohan Khanna', 'Ravi', 'Jatin', 'Uday Shetty']"
      ]
     },
     "execution_count": 84,
     "metadata": {},
     "output_type": "execute_result"
    }
   ],
   "source": [
    "students"
   ]
  },
  {
   "cell_type": "code",
   "execution_count": 86,
   "id": "f3800e04-cb7a-42bc-951b-203284c5c389",
   "metadata": {},
   "outputs": [],
   "source": [
    "# reverse list"
   ]
  },
  {
   "cell_type": "code",
   "execution_count": 88,
   "id": "e82a577e-ee0d-4b29-b083-b84591016d7a",
   "metadata": {},
   "outputs": [
    {
     "data": {
      "text/plain": [
       "['Uday Shetty', 'Jatin', 'Ravi', 'Mohan Khanna', 'Ekansh', 'Kanishk']"
      ]
     },
     "execution_count": 88,
     "metadata": {},
     "output_type": "execute_result"
    }
   ],
   "source": [
    "students[::-1]"
   ]
  },
  {
   "cell_type": "code",
   "execution_count": 90,
   "id": "7cd51d6a-1473-40f4-aad4-4ebbeef69d79",
   "metadata": {},
   "outputs": [],
   "source": [
    "# nested list"
   ]
  },
  {
   "cell_type": "code",
   "execution_count": 92,
   "id": "e04bde97-dd72-4b45-b624-04c03362ac20",
   "metadata": {},
   "outputs": [],
   "source": [
    "data = ['Naman','Ajay',['Bank1',['Locker 1',5678]]]"
   ]
  },
  {
   "cell_type": "code",
   "execution_count": 100,
   "id": "f44fadd6-ea61-4814-b7e2-64bcdfc47378",
   "metadata": {},
   "outputs": [],
   "source": [
    "data[2][1][1] = 8500"
   ]
  },
  {
   "cell_type": "code",
   "execution_count": 102,
   "id": "d5b782a8-a50d-4cce-b6e1-6af12e7a32f4",
   "metadata": {},
   "outputs": [
    {
     "data": {
      "text/plain": [
       "['Naman', 'Ajay', ['Bank1', ['Locker 1', 8500]]]"
      ]
     },
     "execution_count": 102,
     "metadata": {},
     "output_type": "execute_result"
    }
   ],
   "source": [
    "data"
   ]
  },
  {
   "cell_type": "code",
   "execution_count": 106,
   "id": "e2bf10ea-1a9b-4433-b286-a4631b49447d",
   "metadata": {},
   "outputs": [],
   "source": [
    "data = [[[[34,[45,[67,56,[45,[56],5690]]]]]]]"
   ]
  },
  {
   "cell_type": "code",
   "execution_count": 108,
   "id": "6a7222bf-1634-4370-bdac-a90613b8c954",
   "metadata": {},
   "outputs": [
    {
     "data": {
      "text/plain": [
       "[[[[34, [45, [67, 56, [45, [56], 5690]]]]]]]"
      ]
     },
     "execution_count": 108,
     "metadata": {},
     "output_type": "execute_result"
    }
   ],
   "source": [
    "data"
   ]
  },
  {
   "cell_type": "code",
   "execution_count": 126,
   "id": "99ab4be4-cb64-470a-ac17-abc1e71bbbd5",
   "metadata": {},
   "outputs": [],
   "source": [
    "data[0][0][0][1][1][2][1][0] = 56789"
   ]
  },
  {
   "cell_type": "code",
   "execution_count": 128,
   "id": "0798a84f-cc65-4716-8bd8-07a2d1968f77",
   "metadata": {},
   "outputs": [
    {
     "data": {
      "text/plain": [
       "[[[[34, [45, [67, 56, [45, [56789], 5690]]]]]]]"
      ]
     },
     "execution_count": 128,
     "metadata": {},
     "output_type": "execute_result"
    }
   ],
   "source": [
    "data"
   ]
  },
  {
   "cell_type": "code",
   "execution_count": null,
   "id": "21c2bbae-0653-487a-9e54-e7b48a66b3e7",
   "metadata": {},
   "outputs": [],
   "source": []
  },
  {
   "cell_type": "markdown",
   "id": "6fb8714b-f30a-4652-ab3f-b931df941ef5",
   "metadata": {},
   "source": [
    "# Op"
   ]
  },
  {
   "cell_type": "code",
   "execution_count": 132,
   "id": "aae449ba-5c2c-4e1e-94fe-b828786f1f36",
   "metadata": {},
   "outputs": [],
   "source": [
    "a = [345,456,7]\n",
    "b = [346,54,7]"
   ]
  },
  {
   "cell_type": "code",
   "execution_count": 134,
   "id": "2136d60e-6a57-4212-966c-9e1eb9012a03",
   "metadata": {},
   "outputs": [
    {
     "data": {
      "text/plain": [
       "[345, 456, 7, 346, 54, 7]"
      ]
     },
     "execution_count": 134,
     "metadata": {},
     "output_type": "execute_result"
    }
   ],
   "source": [
    "a + b"
   ]
  },
  {
   "cell_type": "code",
   "execution_count": 136,
   "id": "1012252b-ff8e-49c6-ae2e-7f3e97a0289b",
   "metadata": {},
   "outputs": [
    {
     "data": {
      "text/plain": [
       "[345, 456, 7, 345, 456, 7, 345, 456, 7]"
      ]
     },
     "execution_count": 136,
     "metadata": {},
     "output_type": "execute_result"
    }
   ],
   "source": [
    "a * 3"
   ]
  },
  {
   "cell_type": "code",
   "execution_count": 138,
   "id": "7823e440-0d7c-4a5a-bc2a-c8d85dd30d36",
   "metadata": {},
   "outputs": [],
   "source": [
    "a = ['Hello']"
   ]
  },
  {
   "cell_type": "code",
   "execution_count": 140,
   "id": "827ec1b5-85fe-4d2c-8f39-d4dfae4c1836",
   "metadata": {},
   "outputs": [
    {
     "data": {
      "text/plain": [
       "['Hello', 'Hello', 'Hello', 'Hello', 'Hello']"
      ]
     },
     "execution_count": 140,
     "metadata": {},
     "output_type": "execute_result"
    }
   ],
   "source": [
    "a*5"
   ]
  },
  {
   "cell_type": "markdown",
   "id": "68d12d73-469e-43c0-b217-b40abfd1abf8",
   "metadata": {},
   "source": [
    "# functions"
   ]
  },
  {
   "cell_type": "code",
   "execution_count": 143,
   "id": "ab1c37c9-4677-47b3-a582-c2966e3d3cd8",
   "metadata": {},
   "outputs": [
    {
     "data": {
      "text/plain": [
       "['Kanishk', 'Ekansh', 'Mohan Khanna', 'Ravi', 'Jatin', 'Uday Shetty']"
      ]
     },
     "execution_count": 143,
     "metadata": {},
     "output_type": "execute_result"
    }
   ],
   "source": [
    "students"
   ]
  },
  {
   "cell_type": "code",
   "execution_count": 145,
   "id": "ea13484d-631f-4347-8587-fedc4cb27f83",
   "metadata": {},
   "outputs": [
    {
     "data": {
      "text/plain": [
       "6"
      ]
     },
     "execution_count": 145,
     "metadata": {},
     "output_type": "execute_result"
    }
   ],
   "source": [
    "len(students)"
   ]
  },
  {
   "cell_type": "code",
   "execution_count": 147,
   "id": "2298d166-6018-4399-9d6b-c4aac681476b",
   "metadata": {},
   "outputs": [],
   "source": [
    "sales = [32,43,5,346,57,56,63,453,465,47,867,643,5,3,4675,68,79]"
   ]
  },
  {
   "cell_type": "code",
   "execution_count": 149,
   "id": "4d786f4a-2dca-465a-8c50-3050d961a730",
   "metadata": {},
   "outputs": [
    {
     "data": {
      "text/plain": [
       "17"
      ]
     },
     "execution_count": 149,
     "metadata": {},
     "output_type": "execute_result"
    }
   ],
   "source": [
    "len(sales)"
   ]
  },
  {
   "cell_type": "code",
   "execution_count": 151,
   "id": "308175b8-a8c1-4e49-b637-504faec7a1b5",
   "metadata": {},
   "outputs": [
    {
     "data": {
      "text/plain": [
       "3"
      ]
     },
     "execution_count": 151,
     "metadata": {},
     "output_type": "execute_result"
    }
   ],
   "source": [
    "min(sales)"
   ]
  },
  {
   "cell_type": "code",
   "execution_count": 153,
   "id": "7fe6986e-2a4e-4388-a4dd-080be2a755ba",
   "metadata": {},
   "outputs": [
    {
     "data": {
      "text/plain": [
       "4675"
      ]
     },
     "execution_count": 153,
     "metadata": {},
     "output_type": "execute_result"
    }
   ],
   "source": [
    "max(sales)"
   ]
  },
  {
   "cell_type": "code",
   "execution_count": 155,
   "id": "a372dc78-23ca-4a66-ab44-c68ff507771c",
   "metadata": {},
   "outputs": [
    {
     "data": {
      "text/plain": [
       "7907"
      ]
     },
     "execution_count": 155,
     "metadata": {},
     "output_type": "execute_result"
    }
   ],
   "source": [
    "sum(sales)"
   ]
  },
  {
   "cell_type": "code",
   "execution_count": 157,
   "id": "f5582ef7-d7ca-4bfd-893a-7358f0f29ae4",
   "metadata": {},
   "outputs": [],
   "source": [
    "total_sales = sum(sales)"
   ]
  },
  {
   "cell_type": "code",
   "execution_count": 161,
   "id": "48c814d2-2e9e-4304-8ed6-90e2cf50553b",
   "metadata": {},
   "outputs": [
    {
     "name": "stdout",
     "output_type": "stream",
     "text": [
      "Total Sales:  7907\n"
     ]
    }
   ],
   "source": [
    "print('Total Sales: ',total_sales)"
   ]
  },
  {
   "cell_type": "code",
   "execution_count": 163,
   "id": "0281d46c-01de-42d3-b779-c347ce39c82b",
   "metadata": {},
   "outputs": [],
   "source": [
    "Q1_sales = [3,5,456]"
   ]
  },
  {
   "cell_type": "code",
   "execution_count": 165,
   "id": "7efb6b27-c308-4173-8580-93661bec4214",
   "metadata": {},
   "outputs": [
    {
     "data": {
      "text/plain": [
       "464"
      ]
     },
     "execution_count": 165,
     "metadata": {},
     "output_type": "execute_result"
    }
   ],
   "source": [
    "sum(Q1_sales)"
   ]
  },
  {
   "cell_type": "markdown",
   "id": "8e3889f8-b548-4301-8473-90b9a98c896b",
   "metadata": {},
   "source": [
    "# List Methods"
   ]
  },
  {
   "cell_type": "code",
   "execution_count": 170,
   "id": "6c565695-b037-4be5-a1fa-7a7b4c6f3c97",
   "metadata": {},
   "outputs": [],
   "source": [
    "a = [4,35,5,789]"
   ]
  },
  {
   "cell_type": "markdown",
   "id": "4573e5f4-5d16-4ca4-8958-d36371bc7b53",
   "metadata": {},
   "source": [
    "# Append"
   ]
  },
  {
   "cell_type": "code",
   "execution_count": 173,
   "id": "b1056cdb-6355-4987-9c09-ad1d1bed4107",
   "metadata": {},
   "outputs": [
    {
     "data": {
      "text/plain": [
       "['Kanishk', 'Ekansh', 'Mohan Khanna', 'Ravi', 'Jatin', 'Uday Shetty']"
      ]
     },
     "execution_count": 173,
     "metadata": {},
     "output_type": "execute_result"
    }
   ],
   "source": [
    "students"
   ]
  },
  {
   "cell_type": "code",
   "execution_count": 175,
   "id": "a23a36da-91e5-4502-b2af-739e6e779a40",
   "metadata": {},
   "outputs": [],
   "source": [
    "students.append('Pawan')"
   ]
  },
  {
   "cell_type": "code",
   "execution_count": 177,
   "id": "933085e3-5283-4607-b933-4754b8320a1c",
   "metadata": {},
   "outputs": [
    {
     "data": {
      "text/plain": [
       "['Kanishk', 'Ekansh', 'Mohan Khanna', 'Ravi', 'Jatin', 'Uday Shetty', 'Pawan']"
      ]
     },
     "execution_count": 177,
     "metadata": {},
     "output_type": "execute_result"
    }
   ],
   "source": [
    "students"
   ]
  },
  {
   "cell_type": "code",
   "execution_count": 179,
   "id": "fd222ea3-2802-4efb-94fa-f2ffd3ee5025",
   "metadata": {},
   "outputs": [],
   "source": [
    "# input func"
   ]
  },
  {
   "cell_type": "code",
   "execution_count": 181,
   "id": "a0dd2335-3f0c-4bb7-abe3-72dee09f656a",
   "metadata": {},
   "outputs": [],
   "source": [
    "all_students = []"
   ]
  },
  {
   "cell_type": "code",
   "execution_count": 193,
   "id": "cc8179bb-c165-4022-be1c-2759dbcbdfe5",
   "metadata": {},
   "outputs": [
    {
     "name": "stdin",
     "output_type": "stream",
     "text": [
      "Enter Your name:  Mohan\n"
     ]
    },
    {
     "name": "stdout",
     "output_type": "stream",
     "text": [
      "Your name has been added successfully!!\n"
     ]
    }
   ],
   "source": [
    "name = input('Enter Your name: ')\n",
    "\n",
    "all_students.append(name)\n",
    "print('Your name has been added successfully!!')"
   ]
  },
  {
   "cell_type": "code",
   "execution_count": 191,
   "id": "023eb438-b232-41a9-a26a-aa3e732cf192",
   "metadata": {},
   "outputs": [
    {
     "name": "stdout",
     "output_type": "stream",
     "text": [
      "['Jatin', 'Ravi', 'Harry']\n"
     ]
    }
   ],
   "source": [
    "print(all_students)"
   ]
  },
  {
   "cell_type": "code",
   "execution_count": 197,
   "id": "91aef815-86b2-434e-92ae-ae42d5f83bb4",
   "metadata": {},
   "outputs": [],
   "source": [
    "name = []\n",
    "age = []\n",
    "classs = []\n",
    "address = []\n",
    "\n"
   ]
  },
  {
   "cell_type": "code",
   "execution_count": 201,
   "id": "bf69068e-b290-44f9-84d6-80d886a65266",
   "metadata": {},
   "outputs": [
    {
     "name": "stdin",
     "output_type": "stream",
     "text": [
      "Enter your Name:  Gyan\n",
      "Enter your Age:  23\n",
      "Enter your Class:  11\n",
      "Enter your Address:  Delhi\n"
     ]
    },
    {
     "name": "stdout",
     "output_type": "stream",
     "text": [
      "Gyan Your all Records Addedd Successfully!!\n"
     ]
    }
   ],
   "source": [
    "name_var = input('Enter your Name: ')\n",
    "Age_var = input('Enter your Age: ')\n",
    "Class_var = input('Enter your Class: ')\n",
    "Address_var = input('Enter your Address: ')\n",
    "\n",
    "name.append(name_var)\n",
    "age.append(Age_var)\n",
    "classs.append(Class_var)\n",
    "address.append(Address_var)\n",
    "\n",
    "print(f'{name_var} Your all Records Addedd Successfully!!')"
   ]
  },
  {
   "cell_type": "code",
   "execution_count": null,
   "id": "36a1107a-35e7-4fbc-873e-4c5da88e65fe",
   "metadata": {},
   "outputs": [],
   "source": []
  },
  {
   "cell_type": "markdown",
   "id": "d70210a8-3dff-4c21-b418-91a8a7a10c00",
   "metadata": {},
   "source": [
    "# Clear"
   ]
  },
  {
   "cell_type": "code",
   "execution_count": 212,
   "id": "a54a1345-b374-4c83-aa95-8e4cee0717c3",
   "metadata": {},
   "outputs": [
    {
     "data": {
      "text/plain": [
       "['Kanishk', 'Ekansh', 'Mohan Khanna', 'Ravi', 'Jatin', 'Uday Shetty', 'Pawan']"
      ]
     },
     "execution_count": 212,
     "metadata": {},
     "output_type": "execute_result"
    }
   ],
   "source": [
    "students"
   ]
  },
  {
   "cell_type": "code",
   "execution_count": 214,
   "id": "ae1e6767-2b5c-451e-8d38-2d98401b70ef",
   "metadata": {},
   "outputs": [],
   "source": [
    "students.clear()"
   ]
  },
  {
   "cell_type": "code",
   "execution_count": 216,
   "id": "b802fa49-bd00-4c63-b510-e662e1ddd217",
   "metadata": {},
   "outputs": [
    {
     "data": {
      "text/plain": [
       "[]"
      ]
     },
     "execution_count": 216,
     "metadata": {},
     "output_type": "execute_result"
    }
   ],
   "source": [
    "students"
   ]
  },
  {
   "cell_type": "code",
   "execution_count": 218,
   "id": "81ed476a-a837-4f68-870f-05974fbda56c",
   "metadata": {},
   "outputs": [],
   "source": [
    "# empty list"
   ]
  },
  {
   "cell_type": "code",
   "execution_count": 220,
   "id": "f03fff3d-de21-4054-8ed5-8f8e6429459c",
   "metadata": {},
   "outputs": [],
   "source": [
    "ravi = [1200,1500]"
   ]
  },
  {
   "cell_type": "code",
   "execution_count": 222,
   "id": "8f44698d-5363-41b9-89e4-dffef0846108",
   "metadata": {},
   "outputs": [],
   "source": [
    "gaurav = ravi"
   ]
  },
  {
   "cell_type": "code",
   "execution_count": 224,
   "id": "517c7c82-337d-4bcf-a1aa-e0781ada2ebe",
   "metadata": {},
   "outputs": [
    {
     "data": {
      "text/plain": [
       "[1200, 1500]"
      ]
     },
     "execution_count": 224,
     "metadata": {},
     "output_type": "execute_result"
    }
   ],
   "source": [
    "gaurav"
   ]
  },
  {
   "cell_type": "code",
   "execution_count": 226,
   "id": "75a3d6d9-14b7-4dc9-919b-b7fb98fa9358",
   "metadata": {},
   "outputs": [],
   "source": [
    "gaurav.append(5000)"
   ]
  },
  {
   "cell_type": "code",
   "execution_count": 228,
   "id": "f0fbe798-fb32-4fc1-9013-d0b17a0c0a2f",
   "metadata": {},
   "outputs": [
    {
     "data": {
      "text/plain": [
       "[1200, 1500, 5000]"
      ]
     },
     "execution_count": 228,
     "metadata": {},
     "output_type": "execute_result"
    }
   ],
   "source": [
    "gaurav"
   ]
  },
  {
   "cell_type": "code",
   "execution_count": 230,
   "id": "2ff13447-e170-4586-9ef3-aa158bd670a5",
   "metadata": {},
   "outputs": [
    {
     "data": {
      "text/plain": [
       "[1200, 1500, 5000]"
      ]
     },
     "execution_count": 230,
     "metadata": {},
     "output_type": "execute_result"
    }
   ],
   "source": [
    "ravi"
   ]
  },
  {
   "cell_type": "code",
   "execution_count": 232,
   "id": "52409eab-adae-443a-b65a-494ea7ff42fa",
   "metadata": {},
   "outputs": [],
   "source": [
    "ravi.append(9000)"
   ]
  },
  {
   "cell_type": "code",
   "execution_count": 234,
   "id": "b497f6f0-b7e8-4fbf-ae32-863289d04b12",
   "metadata": {},
   "outputs": [
    {
     "data": {
      "text/plain": [
       "[1200, 1500, 5000, 9000]"
      ]
     },
     "execution_count": 234,
     "metadata": {},
     "output_type": "execute_result"
    }
   ],
   "source": [
    "ravi"
   ]
  },
  {
   "cell_type": "code",
   "execution_count": 236,
   "id": "0bee4a6f-29ad-460a-971e-d5aef335f553",
   "metadata": {},
   "outputs": [
    {
     "data": {
      "text/plain": [
       "[1200, 1500, 5000, 9000]"
      ]
     },
     "execution_count": 236,
     "metadata": {},
     "output_type": "execute_result"
    }
   ],
   "source": [
    "gaurav"
   ]
  },
  {
   "cell_type": "code",
   "execution_count": 238,
   "id": "72510674-b819-411b-9b63-c282c9252b72",
   "metadata": {},
   "outputs": [],
   "source": [
    "# DEEP Copy"
   ]
  },
  {
   "cell_type": "code",
   "execution_count": 240,
   "id": "cc774fd9-b1ec-4d06-b7d6-70fa92fd4160",
   "metadata": {},
   "outputs": [],
   "source": [
    "# Shallow Copy"
   ]
  },
  {
   "cell_type": "code",
   "execution_count": 242,
   "id": "fcc96849-22ac-4250-8e9d-5e0a4c25db57",
   "metadata": {},
   "outputs": [],
   "source": [
    "mohan = [3500, 5500]"
   ]
  },
  {
   "cell_type": "code",
   "execution_count": 244,
   "id": "183927b0-4d14-409c-bbd8-c8d3ec16a5e7",
   "metadata": {},
   "outputs": [],
   "source": [
    "harry = mohan.copy()"
   ]
  },
  {
   "cell_type": "code",
   "execution_count": 246,
   "id": "b66e662a-82e3-4d88-b1df-b308895a2331",
   "metadata": {},
   "outputs": [
    {
     "data": {
      "text/plain": [
       "2415666365184"
      ]
     },
     "execution_count": 246,
     "metadata": {},
     "output_type": "execute_result"
    }
   ],
   "source": [
    "id(mohan)"
   ]
  },
  {
   "cell_type": "code",
   "execution_count": 248,
   "id": "122d80b5-a658-4eb5-8d35-c279560c46a8",
   "metadata": {},
   "outputs": [
    {
     "data": {
      "text/plain": [
       "2415666607296"
      ]
     },
     "execution_count": 248,
     "metadata": {},
     "output_type": "execute_result"
    }
   ],
   "source": [
    "id(harry)"
   ]
  },
  {
   "cell_type": "code",
   "execution_count": 250,
   "id": "f8ae9154-e24c-4537-947d-e84a0e408890",
   "metadata": {},
   "outputs": [],
   "source": [
    "mohan.append(1200)"
   ]
  },
  {
   "cell_type": "code",
   "execution_count": 252,
   "id": "c58243b1-67af-4ad6-b21e-b382ba13227b",
   "metadata": {},
   "outputs": [
    {
     "data": {
      "text/plain": [
       "[3500, 5500, 1200]"
      ]
     },
     "execution_count": 252,
     "metadata": {},
     "output_type": "execute_result"
    }
   ],
   "source": [
    "mohan"
   ]
  },
  {
   "cell_type": "code",
   "execution_count": 254,
   "id": "9594f194-13ad-4a2c-ba2a-62e86f0f0f0e",
   "metadata": {},
   "outputs": [
    {
     "data": {
      "text/plain": [
       "[3500, 5500]"
      ]
     },
     "execution_count": 254,
     "metadata": {},
     "output_type": "execute_result"
    }
   ],
   "source": [
    "harry"
   ]
  },
  {
   "cell_type": "code",
   "execution_count": 256,
   "id": "265939ec-5926-4ce3-8d77-01d7405f6e8f",
   "metadata": {},
   "outputs": [],
   "source": [
    "# count"
   ]
  },
  {
   "cell_type": "code",
   "execution_count": 258,
   "id": "c75e6d6a-2de0-49b4-975a-2977639ea5d2",
   "metadata": {},
   "outputs": [],
   "source": [
    "a = [23,4,23,42,34,23,4,23,53,42,43,45,65,67,45,65,45,756,8]"
   ]
  },
  {
   "cell_type": "code",
   "execution_count": 262,
   "id": "02aa1358-ef84-42e8-8c12-24c0499712af",
   "metadata": {},
   "outputs": [
    {
     "data": {
      "text/plain": [
       "4"
      ]
     },
     "execution_count": 262,
     "metadata": {},
     "output_type": "execute_result"
    }
   ],
   "source": [
    "a.count(23)"
   ]
  },
  {
   "cell_type": "code",
   "execution_count": 264,
   "id": "c9523801-3a59-456b-93ed-00aa2be4abfa",
   "metadata": {},
   "outputs": [
    {
     "data": {
      "text/plain": [
       "[]"
      ]
     },
     "execution_count": 264,
     "metadata": {},
     "output_type": "execute_result"
    }
   ],
   "source": [
    "students"
   ]
  },
  {
   "cell_type": "code",
   "execution_count": 266,
   "id": "52bccd82-9258-4f46-92d9-1b66f68c111d",
   "metadata": {},
   "outputs": [
    {
     "data": {
      "text/plain": [
       "0"
      ]
     },
     "execution_count": 266,
     "metadata": {},
     "output_type": "execute_result"
    }
   ],
   "source": [
    "a.count(100)"
   ]
  },
  {
   "cell_type": "code",
   "execution_count": null,
   "id": "2791e74b-4423-42ab-a780-2d038a3aca96",
   "metadata": {},
   "outputs": [],
   "source": []
  },
  {
   "cell_type": "markdown",
   "id": "197cb875-3ac4-4df4-a9c8-c037033072b3",
   "metadata": {},
   "source": [
    "# Extend"
   ]
  },
  {
   "cell_type": "code",
   "execution_count": 269,
   "id": "0d859221-2182-4691-bb4c-b7baa1675729",
   "metadata": {},
   "outputs": [],
   "source": [
    "students = ['Mohan','Ajay','Karan']"
   ]
  },
  {
   "cell_type": "code",
   "execution_count": 271,
   "id": "794d686c-3d71-4b0c-afb1-0687b9391c91",
   "metadata": {},
   "outputs": [
    {
     "data": {
      "text/plain": [
       "['Mohan', 'Ajay', 'Karan']"
      ]
     },
     "execution_count": 271,
     "metadata": {},
     "output_type": "execute_result"
    }
   ],
   "source": [
    "students"
   ]
  },
  {
   "cell_type": "code",
   "execution_count": 273,
   "id": "77e21bc2-24f5-4d16-b0f8-331005500803",
   "metadata": {},
   "outputs": [],
   "source": [
    "students.append(['Naman','Ravi'])"
   ]
  },
  {
   "cell_type": "code",
   "execution_count": 275,
   "id": "1c39e532-9bb4-4f7b-bd7e-3e8037844de9",
   "metadata": {},
   "outputs": [
    {
     "data": {
      "text/plain": [
       "['Mohan', 'Ajay', 'Karan', ['Naman', 'Ravi']]"
      ]
     },
     "execution_count": 275,
     "metadata": {},
     "output_type": "execute_result"
    }
   ],
   "source": [
    "students"
   ]
  },
  {
   "cell_type": "code",
   "execution_count": 277,
   "id": "e10cdf54-3b63-46c0-aefe-80dd5e82c172",
   "metadata": {},
   "outputs": [],
   "source": [
    "students = ['Mohan','Ajay','Karan']"
   ]
  },
  {
   "cell_type": "code",
   "execution_count": 279,
   "id": "94881188-3c1c-42b2-a62d-aa9ea7b5dea4",
   "metadata": {},
   "outputs": [],
   "source": [
    "students.extend(['Naman','Ravi'])"
   ]
  },
  {
   "cell_type": "code",
   "execution_count": 281,
   "id": "d9ef68bd-6d74-45e2-8270-17e7fdf212fc",
   "metadata": {},
   "outputs": [
    {
     "data": {
      "text/plain": [
       "['Mohan', 'Ajay', 'Karan', 'Naman', 'Ravi']"
      ]
     },
     "execution_count": 281,
     "metadata": {},
     "output_type": "execute_result"
    }
   ],
   "source": [
    "students"
   ]
  },
  {
   "cell_type": "code",
   "execution_count": 283,
   "id": "39944372-732f-4fff-abb7-d45db1cb0bc1",
   "metadata": {},
   "outputs": [
    {
     "data": {
      "text/plain": [
       "['Mohan', 'Ajay', 'Karan', 'Naman', 'Ravi']"
      ]
     },
     "execution_count": 283,
     "metadata": {},
     "output_type": "execute_result"
    }
   ],
   "source": [
    "students"
   ]
  },
  {
   "cell_type": "code",
   "execution_count": 285,
   "id": "1cd8ff88-9339-492e-b304-1d5b0870f6e6",
   "metadata": {},
   "outputs": [
    {
     "data": {
      "text/plain": [
       "3"
      ]
     },
     "execution_count": 285,
     "metadata": {},
     "output_type": "execute_result"
    }
   ],
   "source": [
    "students.index('Naman')"
   ]
  },
  {
   "cell_type": "code",
   "execution_count": 287,
   "id": "f55bb148-6e33-4c68-bd2f-c9813f96f540",
   "metadata": {},
   "outputs": [
    {
     "data": {
      "text/plain": [
       "[23, 4, 23, 42, 34, 23, 4, 23, 53, 42, 43, 45, 65, 67, 45, 65, 45, 756, 8]"
      ]
     },
     "execution_count": 287,
     "metadata": {},
     "output_type": "execute_result"
    }
   ],
   "source": [
    "a"
   ]
  },
  {
   "cell_type": "code",
   "execution_count": 289,
   "id": "b672ba5b-ec38-4137-adbe-c5c1f3e889cb",
   "metadata": {},
   "outputs": [
    {
     "data": {
      "text/plain": [
       "3"
      ]
     },
     "execution_count": 289,
     "metadata": {},
     "output_type": "execute_result"
    }
   ],
   "source": [
    "a.index(42)"
   ]
  },
  {
   "cell_type": "code",
   "execution_count": 291,
   "id": "79f6177a-3f3e-4e73-8276-da37ca3e79a1",
   "metadata": {},
   "outputs": [
    {
     "data": {
      "text/plain": [
       "9"
      ]
     },
     "execution_count": 291,
     "metadata": {},
     "output_type": "execute_result"
    }
   ],
   "source": [
    "a.index(42,4)"
   ]
  },
  {
   "cell_type": "code",
   "execution_count": 293,
   "id": "94cebe89-6f63-449c-9e11-268f6c6e75b0",
   "metadata": {},
   "outputs": [
    {
     "data": {
      "text/plain": [
       "['Mohan', 'Ajay', 'Karan', 'Naman', 'Ravi']"
      ]
     },
     "execution_count": 293,
     "metadata": {},
     "output_type": "execute_result"
    }
   ],
   "source": [
    "students"
   ]
  },
  {
   "cell_type": "code",
   "execution_count": 295,
   "id": "b2fd2fa8-98d6-45b4-ab12-6aeffecf6600",
   "metadata": {},
   "outputs": [],
   "source": [
    "students.insert(0,'Pawan')"
   ]
  },
  {
   "cell_type": "code",
   "execution_count": 297,
   "id": "48765ac3-adc5-4842-83d7-577eea86fe46",
   "metadata": {},
   "outputs": [
    {
     "data": {
      "text/plain": [
       "['Pawan', 'Mohan', 'Ajay', 'Karan', 'Naman', 'Ravi']"
      ]
     },
     "execution_count": 297,
     "metadata": {},
     "output_type": "execute_result"
    }
   ],
   "source": [
    "students"
   ]
  },
  {
   "cell_type": "code",
   "execution_count": 299,
   "id": "c0021fbb-259a-4472-be67-9e10ba0a3695",
   "metadata": {},
   "outputs": [],
   "source": [
    "students.insert(-1,'Gyan')"
   ]
  },
  {
   "cell_type": "code",
   "execution_count": 301,
   "id": "7b16ef1d-de57-4a40-bfd6-e0119f4ca2e6",
   "metadata": {},
   "outputs": [
    {
     "data": {
      "text/plain": [
       "['Pawan', 'Mohan', 'Ajay', 'Karan', 'Naman', 'Gyan', 'Ravi']"
      ]
     },
     "execution_count": 301,
     "metadata": {},
     "output_type": "execute_result"
    }
   ],
   "source": [
    "students"
   ]
  },
  {
   "cell_type": "code",
   "execution_count": 305,
   "id": "bff5e8c5-fadb-4fcd-baf8-1369bbe307c0",
   "metadata": {},
   "outputs": [],
   "source": [
    "students.insert(len(students)+1,'Gagan')"
   ]
  },
  {
   "cell_type": "code",
   "execution_count": 307,
   "id": "ce6f3566-7682-4094-b2ae-f5ffd92945ae",
   "metadata": {},
   "outputs": [
    {
     "data": {
      "text/plain": [
       "['Pawan', 'Mohan', 'Ajay', 'Karan', 'Naman', 'Gyan', 'Ravi', 'Gagan']"
      ]
     },
     "execution_count": 307,
     "metadata": {},
     "output_type": "execute_result"
    }
   ],
   "source": [
    "students"
   ]
  },
  {
   "cell_type": "markdown",
   "id": "cb747e56-6a44-4512-ba08-0ee2d69ade19",
   "metadata": {},
   "source": [
    "# Pop"
   ]
  },
  {
   "cell_type": "code",
   "execution_count": 312,
   "id": "4fec6f62-0dce-45e9-ba6f-1219cbfaa74b",
   "metadata": {},
   "outputs": [
    {
     "data": {
      "text/plain": [
       "['Pawan', 'Mohan', 'Ajay', 'Karan', 'Naman', 'Gyan', 'Ravi', 'Gagan']"
      ]
     },
     "execution_count": 312,
     "metadata": {},
     "output_type": "execute_result"
    }
   ],
   "source": [
    "students"
   ]
  },
  {
   "cell_type": "code",
   "execution_count": 314,
   "id": "82a00dfd-6b79-49e4-a123-cee9f89f0502",
   "metadata": {},
   "outputs": [
    {
     "data": {
      "text/plain": [
       "'Gagan'"
      ]
     },
     "execution_count": 314,
     "metadata": {},
     "output_type": "execute_result"
    }
   ],
   "source": [
    "students.pop()"
   ]
  },
  {
   "cell_type": "code",
   "execution_count": 316,
   "id": "407cf8fa-0657-4cef-bca4-963ef0266ff7",
   "metadata": {},
   "outputs": [
    {
     "data": {
      "text/plain": [
       "['Pawan', 'Mohan', 'Ajay', 'Karan', 'Naman', 'Gyan', 'Ravi']"
      ]
     },
     "execution_count": 316,
     "metadata": {},
     "output_type": "execute_result"
    }
   ],
   "source": [
    "students"
   ]
  },
  {
   "cell_type": "code",
   "execution_count": 322,
   "id": "e73afdda-bfcc-4fc8-8cc6-f3116d2dfa14",
   "metadata": {},
   "outputs": [
    {
     "data": {
      "text/plain": [
       "'Naman'"
      ]
     },
     "execution_count": 322,
     "metadata": {},
     "output_type": "execute_result"
    }
   ],
   "source": [
    "students.pop()"
   ]
  },
  {
   "cell_type": "code",
   "execution_count": 324,
   "id": "beaacbbf-b781-41fa-bbbb-1ca8bdb47049",
   "metadata": {},
   "outputs": [
    {
     "data": {
      "text/plain": [
       "['Pawan', 'Mohan', 'Ajay', 'Karan']"
      ]
     },
     "execution_count": 324,
     "metadata": {},
     "output_type": "execute_result"
    }
   ],
   "source": [
    "students"
   ]
  },
  {
   "cell_type": "code",
   "execution_count": 326,
   "id": "3f69838f-28ec-492d-8877-37f192512e71",
   "metadata": {},
   "outputs": [
    {
     "data": {
      "text/plain": [
       "'Ajay'"
      ]
     },
     "execution_count": 326,
     "metadata": {},
     "output_type": "execute_result"
    }
   ],
   "source": [
    "students.pop(2)"
   ]
  },
  {
   "cell_type": "code",
   "execution_count": 328,
   "id": "dff7ad58-e13f-422c-b5d6-9b6e96045506",
   "metadata": {},
   "outputs": [
    {
     "data": {
      "text/plain": [
       "['Pawan', 'Mohan', 'Karan']"
      ]
     },
     "execution_count": 328,
     "metadata": {},
     "output_type": "execute_result"
    }
   ],
   "source": [
    "students"
   ]
  },
  {
   "cell_type": "markdown",
   "id": "d9f698c0-1a25-4c23-8637-788a7fd1ae21",
   "metadata": {},
   "source": [
    "# Remove"
   ]
  },
  {
   "cell_type": "code",
   "execution_count": 333,
   "id": "a2600881-ab69-4dd6-b545-a7f2d15920a2",
   "metadata": {},
   "outputs": [],
   "source": [
    "students.remove('Mohan')"
   ]
  },
  {
   "cell_type": "code",
   "execution_count": 335,
   "id": "595058d2-9418-4cdf-875c-ae7345c7b0cd",
   "metadata": {},
   "outputs": [
    {
     "data": {
      "text/plain": [
       "['Pawan', 'Karan']"
      ]
     },
     "execution_count": 335,
     "metadata": {},
     "output_type": "execute_result"
    }
   ],
   "source": [
    "students"
   ]
  },
  {
   "cell_type": "code",
   "execution_count": 337,
   "id": "a8b6f3e4-3c0c-4588-a291-cc38e7688d55",
   "metadata": {},
   "outputs": [
    {
     "data": {
      "text/plain": [
       "[23, 4, 23, 42, 34, 23, 4, 23, 53, 42, 43, 45, 65, 67, 45, 65, 45, 756, 8]"
      ]
     },
     "execution_count": 337,
     "metadata": {},
     "output_type": "execute_result"
    }
   ],
   "source": [
    "a"
   ]
  },
  {
   "cell_type": "code",
   "execution_count": 339,
   "id": "e5ef11ec-4963-4868-af69-26a2aa6caf2b",
   "metadata": {},
   "outputs": [],
   "source": [
    "a.remove(45)"
   ]
  },
  {
   "cell_type": "code",
   "execution_count": 341,
   "id": "aeb0861f-fdfc-4a8f-b5b9-66aa7002279f",
   "metadata": {},
   "outputs": [
    {
     "data": {
      "text/plain": [
       "[23, 4, 23, 42, 34, 23, 4, 23, 53, 42, 43, 65, 67, 45, 65, 45, 756, 8]"
      ]
     },
     "execution_count": 341,
     "metadata": {},
     "output_type": "execute_result"
    }
   ],
   "source": [
    "a"
   ]
  },
  {
   "cell_type": "code",
   "execution_count": 343,
   "id": "a09ff5d7-58ba-4804-99e5-89abc2419840",
   "metadata": {},
   "outputs": [],
   "source": [
    "students = ['Pawan', 'Mohan', 'Ajay', 'Karan', 'Naman', 'Gyan', 'Ravi', 'Gagan']"
   ]
  },
  {
   "cell_type": "code",
   "execution_count": 345,
   "id": "caac1e8d-866e-497f-ba93-fc7c79945e52",
   "metadata": {},
   "outputs": [
    {
     "data": {
      "text/plain": [
       "['Pawan', 'Mohan', 'Ajay', 'Karan', 'Naman', 'Gyan', 'Ravi', 'Gagan']"
      ]
     },
     "execution_count": 345,
     "metadata": {},
     "output_type": "execute_result"
    }
   ],
   "source": [
    "students"
   ]
  },
  {
   "cell_type": "code",
   "execution_count": 347,
   "id": "b0ea0d28-4f6e-4d00-887e-e1a86db993bf",
   "metadata": {},
   "outputs": [],
   "source": [
    "students.reverse()"
   ]
  },
  {
   "cell_type": "code",
   "execution_count": 349,
   "id": "869dfa18-1f5b-48b6-8b0b-f06bc7c9a600",
   "metadata": {},
   "outputs": [
    {
     "data": {
      "text/plain": [
       "['Gagan', 'Ravi', 'Gyan', 'Naman', 'Karan', 'Ajay', 'Mohan', 'Pawan']"
      ]
     },
     "execution_count": 349,
     "metadata": {},
     "output_type": "execute_result"
    }
   ],
   "source": [
    "students"
   ]
  },
  {
   "cell_type": "code",
   "execution_count": 351,
   "id": "1db78120-96d9-4055-8dc9-70fea6a030cd",
   "metadata": {},
   "outputs": [],
   "source": [
    "sales = [23,5,5325,456,4,57]"
   ]
  },
  {
   "cell_type": "code",
   "execution_count": 353,
   "id": "cb59da9a-25b7-4086-a910-8c1926e29dc1",
   "metadata": {},
   "outputs": [
    {
     "data": {
      "text/plain": [
       "[23, 5, 5325, 456, 4, 57]"
      ]
     },
     "execution_count": 353,
     "metadata": {},
     "output_type": "execute_result"
    }
   ],
   "source": [
    "sales"
   ]
  },
  {
   "cell_type": "code",
   "execution_count": 355,
   "id": "248ffe25-ecd2-4b0c-a583-9e6a66704f9f",
   "metadata": {},
   "outputs": [],
   "source": [
    "sales.sort()"
   ]
  },
  {
   "cell_type": "code",
   "execution_count": 357,
   "id": "bfa29900-0f24-4f00-9f3b-e41cf451271b",
   "metadata": {},
   "outputs": [
    {
     "data": {
      "text/plain": [
       "[4, 5, 23, 57, 456, 5325]"
      ]
     },
     "execution_count": 357,
     "metadata": {},
     "output_type": "execute_result"
    }
   ],
   "source": [
    "sales"
   ]
  },
  {
   "cell_type": "code",
   "execution_count": 359,
   "id": "b3ddf41e-0101-4afd-a5fc-7b838dc82c53",
   "metadata": {},
   "outputs": [],
   "source": [
    "sales = [23,5,5325,456,4,57]"
   ]
  },
  {
   "cell_type": "code",
   "execution_count": 361,
   "id": "fd9c104d-e2f9-4d83-8db1-e0e56ca0a4d8",
   "metadata": {},
   "outputs": [],
   "source": [
    "sales.sort(reverse=True)"
   ]
  },
  {
   "cell_type": "code",
   "execution_count": 363,
   "id": "bae2f9bc-84d4-4833-b4a2-64c33d0dcb67",
   "metadata": {},
   "outputs": [
    {
     "data": {
      "text/plain": [
       "[5325, 456, 57, 23, 5, 4]"
      ]
     },
     "execution_count": 363,
     "metadata": {},
     "output_type": "execute_result"
    }
   ],
   "source": [
    "sales"
   ]
  },
  {
   "cell_type": "code",
   "execution_count": 365,
   "id": "4f916a17-5940-49dd-b869-6e02c8f6ac3d",
   "metadata": {},
   "outputs": [],
   "source": [
    "sales = [23,5,5325,456,4,57]"
   ]
  },
  {
   "cell_type": "code",
   "execution_count": 367,
   "id": "739f814d-466c-403b-ab2b-11a5954f7fef",
   "metadata": {},
   "outputs": [],
   "source": [
    "sales.sort()"
   ]
  },
  {
   "cell_type": "code",
   "execution_count": 369,
   "id": "51449479-7475-4c02-904d-22d5b113032c",
   "metadata": {},
   "outputs": [],
   "source": [
    "sales.reverse()"
   ]
  },
  {
   "cell_type": "code",
   "execution_count": 371,
   "id": "87a73137-9563-4445-b7cb-ece64a922bee",
   "metadata": {},
   "outputs": [
    {
     "data": {
      "text/plain": [
       "[5325, 456, 57, 23, 5, 4]"
      ]
     },
     "execution_count": 371,
     "metadata": {},
     "output_type": "execute_result"
    }
   ],
   "source": [
    "sales"
   ]
  },
  {
   "cell_type": "code",
   "execution_count": 377,
   "id": "f08ddd60-8c53-4b98-aa74-9807d8d6766b",
   "metadata": {},
   "outputs": [],
   "source": [
    "sales = [23,5,5325,456,4,57]"
   ]
  },
  {
   "cell_type": "code",
   "execution_count": 379,
   "id": "354716e9-0cb3-45e0-8d0b-6d2f90485cba",
   "metadata": {},
   "outputs": [],
   "source": [
    "sales.reverse()"
   ]
  },
  {
   "cell_type": "code",
   "execution_count": null,
   "id": "9fe7f3df-763b-4685-80c2-110e5531bd56",
   "metadata": {},
   "outputs": [],
   "source": []
  }
 ],
 "metadata": {
  "kernelspec": {
   "display_name": "Python [conda env:base] *",
   "language": "python",
   "name": "conda-base-py"
  },
  "language_info": {
   "codemirror_mode": {
    "name": "ipython",
    "version": 3
   },
   "file_extension": ".py",
   "mimetype": "text/x-python",
   "name": "python",
   "nbconvert_exporter": "python",
   "pygments_lexer": "ipython3",
   "version": "3.12.7"
  }
 },
 "nbformat": 4,
 "nbformat_minor": 5
}
