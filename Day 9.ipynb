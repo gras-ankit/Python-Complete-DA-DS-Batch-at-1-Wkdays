{
 "cells": [
  {
   "cell_type": "markdown",
   "id": "080df62d-cbfc-48e4-98fa-84f335e4660d",
   "metadata": {},
   "source": [
    "# Conditional Programming Advance\n",
    "## Nested IF Else\n",
    "### One Liner IF Else\n",
    "#### Flow Control : Loops"
   ]
  },
  {
   "cell_type": "markdown",
   "id": "7e03924d-ed0d-4983-b21c-133499c5d815",
   "metadata": {},
   "source": [
    "# Nested IF ELSE"
   ]
  },
  {
   "cell_type": "code",
   "execution_count": 4,
   "id": "e2321cd0-d519-462e-96d7-b82cde89c0e2",
   "metadata": {},
   "outputs": [],
   "source": [
    "# if conditions:\n",
    "#     if condition:\n",
    "#         pass\n",
    "#     else:\n",
    "#         pass\n",
    "# else:\n",
    "#     pass"
   ]
  },
  {
   "cell_type": "markdown",
   "id": "e8122716-3c78-48a6-94bc-c9c1255b3605",
   "metadata": {},
   "source": [
    "# Grading System For School"
   ]
  },
  {
   "cell_type": "code",
   "execution_count": null,
   "id": "ccd4f593-4b33-472f-a9de-36d458787913",
   "metadata": {},
   "outputs": [],
   "source": []
  },
  {
   "cell_type": "code",
   "execution_count": 48,
   "id": "df0e4093-1d30-4c3e-8d6d-0c68d30dcb09",
   "metadata": {},
   "outputs": [
    {
     "name": "stdin",
     "output_type": "stream",
     "text": [
      "Enter your Maths Marks:  345\n",
      "Enter your English Marks:  100\n",
      "Enter your Hindi Marks:  200\n",
      "Enter your SST Marks:  45\n",
      "Enter your Science Marks:  100\n"
     ]
    },
    {
     "name": "stdout",
     "output_type": "stream",
     "text": [
      "\n",
      "\n",
      "\n",
      "\n",
      "\n",
      "You have entered Invalid Marks, Value must be in range(0-100)\n"
     ]
    }
   ],
   "source": [
    "maths = float(input('Enter your Maths Marks: '))\n",
    "eng = float(input('Enter your English Marks: '))\n",
    "hindi = float(input('Enter your Hindi Marks: '))\n",
    "sst = float(input('Enter your SST Marks: '))\n",
    "sci = float(input('Enter your Science Marks: '))\n",
    "\n",
    "print('\\n\\n')\n",
    "\n",
    "all_fail = []\n",
    "\n",
    "if maths>=33:\n",
    "    pass\n",
    "else:\n",
    "    all_fail.append('Maths')\n",
    "    print('Fail in Maths, Compartment')\n",
    "\n",
    "if eng>=33:\n",
    "    pass\n",
    "else:\n",
    "    all_fail.append('English')\n",
    "    print('Fail in English, Compartment')\n",
    "\n",
    "\n",
    "if hindi>=33:\n",
    "    pass\n",
    "else:\n",
    "    all_fail.append('Hindi')\n",
    "    print('Fail in Hindi, Compartment')\n",
    "\n",
    "\n",
    "if sci>=33:\n",
    "    pass\n",
    "else:\n",
    "    all_fail.append('Science')\n",
    "    print('Fail in Science, Compartment')\n",
    "\n",
    "if sst>=33:\n",
    "    pass\n",
    "else:\n",
    "    all_fail.append('SST')\n",
    "    print('Fail in SST, Compartment')\n",
    "\n",
    "print('\\n')\n",
    "    \n",
    "\n",
    "# print(all_fail)\n",
    "if len(all_fail)>=3:\n",
    "    print('Your are Final Failed\\nYou need to repeat this class again')\n",
    "    \n",
    "else:\n",
    "    if (0<=maths<=100) and (0<=eng<=100) and (0<=hindi<=100)  and (0<=sst<=100)  and (0<=sci<=100):\n",
    "    \n",
    "        total_marks = maths + eng + hindi + sst + sci\n",
    "        \n",
    "        marks_per = round((total_marks/500)*100,2)\n",
    "        \n",
    "        if marks_per>= 90:\n",
    "            print(f'You have Scored A+ with {marks_per}%')\n",
    "            \n",
    "        elif marks_per >= 80:\n",
    "            print(f'You have Scored A with {marks_per}%')\n",
    "        \n",
    "        elif marks_per >= 70:\n",
    "            print(f'You have Scored B+ with {marks_per}%')\n",
    "        \n",
    "        elif marks_per >= 60:\n",
    "            print(f'You have Scored B with {marks_per}%')\n",
    "        \n",
    "        elif marks_per >= 50:\n",
    "            print(f'You have Scored C with {marks_per}%')\n",
    "        \n",
    "        elif marks_per >= 40:\n",
    "            print(f'You have Scored D with {marks_per}%')\n",
    "        \n",
    "        elif marks_per >= 33:\n",
    "            print(f'You have Scored E with {marks_per}%')\n",
    "        \n",
    "        else:\n",
    "            print('You are Fail🙏🥹')\n",
    "    else:\n",
    "        print('You have entered Invalid Marks, Value must be in range(0-100)')"
   ]
  },
  {
   "cell_type": "code",
   "execution_count": null,
   "id": "d954507e-a027-4016-bf60-96284899ed35",
   "metadata": {},
   "outputs": [],
   "source": []
  },
  {
   "cell_type": "markdown",
   "id": "5bc6ce78-9865-4189-97c5-4faf4b2f7214",
   "metadata": {},
   "source": [
    "# Flow Control : Loops"
   ]
  },
  {
   "cell_type": "code",
   "execution_count": 52,
   "id": "d5fea0e2-89f8-486c-a574-29f3d15b2a40",
   "metadata": {},
   "outputs": [],
   "source": [
    "# Repeat: task\n"
   ]
  },
  {
   "cell_type": "code",
   "execution_count": 54,
   "id": "8b74b672-4fe2-474f-931a-9aa6b24f9523",
   "metadata": {},
   "outputs": [
    {
     "name": "stdin",
     "output_type": "stream",
     "text": [
      "Enter your name:  Ajay\n",
      "Enter your name:  Vansh\n",
      "Enter your name:  Jatin\n",
      "Enter your name:  Harry\n",
      "Enter your name:  Mohan\n"
     ]
    },
    {
     "name": "stdout",
     "output_type": "stream",
     "text": [
      "Hello Ajay. How are you??\n",
      "Hello Vansh. How are you??\n",
      "Hello Jatin. How are you??\n",
      "Hello Harry. How are you??\n",
      "Hello Mohan. How are you??\n"
     ]
    }
   ],
   "source": [
    "name = input('Enter your name: ')\n",
    "name1 = input('Enter your name: ')\n",
    "name2 = input('Enter your name: ')\n",
    "name3 = input('Enter your name: ')\n",
    "name4 = input('Enter your name: ')\n",
    "\n",
    "print(f'Hello {name}. How are you??')\n",
    "print(f'Hello {name1}. How are you??')\n",
    "print(f'Hello {name2}. How are you??')\n",
    "print(f'Hello {name3}. How are you??')\n",
    "print(f'Hello {name4}. How are you??')"
   ]
  },
  {
   "cell_type": "code",
   "execution_count": null,
   "id": "d31614e1-544e-4d5c-b914-81dd8541ae03",
   "metadata": {},
   "outputs": [],
   "source": []
  },
  {
   "cell_type": "code",
   "execution_count": 57,
   "id": "329dd27a-3a0c-4e68-832d-3404dfce9822",
   "metadata": {},
   "outputs": [],
   "source": [
    "# for loop: when we have a defined range, 10, 20, 30, 40, etc\n",
    "# while loop: when we want to run loop based on conditions"
   ]
  },
  {
   "cell_type": "code",
   "execution_count": 59,
   "id": "bae66fe0-badd-4a7b-a9ab-66aa8a349bfc",
   "metadata": {},
   "outputs": [],
   "source": [
    "# for each loop\n",
    "# do while "
   ]
  },
  {
   "cell_type": "code",
   "execution_count": 61,
   "id": "6e301947-46c9-4f7d-a8ee-e775d5eb0af2",
   "metadata": {},
   "outputs": [],
   "source": [
    "# 10 books: Sticker"
   ]
  },
  {
   "cell_type": "code",
   "execution_count": 67,
   "id": "d48596cb-c975-412d-95c4-05ffe138881d",
   "metadata": {},
   "outputs": [
    {
     "name": "stdin",
     "output_type": "stream",
     "text": [
      "Enter your Name:  Ajay\n"
     ]
    },
    {
     "name": "stdout",
     "output_type": "stream",
     "text": [
      "Hello Ajay. How are you??\n",
      "\n",
      "\n",
      "\n"
     ]
    },
    {
     "name": "stdin",
     "output_type": "stream",
     "text": [
      "Enter your Name:  Mohan Verma\n"
     ]
    },
    {
     "name": "stdout",
     "output_type": "stream",
     "text": [
      "Hello Mohan Verma. How are you??\n",
      "\n",
      "\n",
      "\n"
     ]
    },
    {
     "name": "stdin",
     "output_type": "stream",
     "text": [
      "Enter your Name:  Karan\n"
     ]
    },
    {
     "name": "stdout",
     "output_type": "stream",
     "text": [
      "Hello Karan. How are you??\n",
      "\n",
      "\n",
      "\n"
     ]
    },
    {
     "name": "stdin",
     "output_type": "stream",
     "text": [
      "Enter your Name:  Jatin\n"
     ]
    },
    {
     "name": "stdout",
     "output_type": "stream",
     "text": [
      "Hello Jatin. How are you??\n",
      "\n",
      "\n",
      "\n"
     ]
    },
    {
     "name": "stdin",
     "output_type": "stream",
     "text": [
      "Enter your Name:  Akshay\n"
     ]
    },
    {
     "name": "stdout",
     "output_type": "stream",
     "text": [
      "Hello Akshay. How are you??\n",
      "\n",
      "\n",
      "\n"
     ]
    }
   ],
   "source": [
    "for i in range(5):\n",
    "    name = input('Enter your Name: ')\n",
    "    print(f'Hello {name}. How are you??')\n",
    "    print('\\n\\n')"
   ]
  },
  {
   "cell_type": "code",
   "execution_count": null,
   "id": "0e2e5758-e6fb-46b8-8f73-4051925a82bf",
   "metadata": {},
   "outputs": [],
   "source": []
  }
 ],
 "metadata": {
  "kernelspec": {
   "display_name": "Python [conda env:base] *",
   "language": "python",
   "name": "conda-base-py"
  },
  "language_info": {
   "codemirror_mode": {
    "name": "ipython",
    "version": 3
   },
   "file_extension": ".py",
   "mimetype": "text/x-python",
   "name": "python",
   "nbconvert_exporter": "python",
   "pygments_lexer": "ipython3",
   "version": "3.12.7"
  }
 },
 "nbformat": 4,
 "nbformat_minor": 5
}
