{
 "cells": [
  {
   "cell_type": "markdown",
   "id": "12f8db2f-9506-4146-8db6-fb937de0191c",
   "metadata": {},
   "source": [
    "# Tuple and Dict"
   ]
  },
  {
   "cell_type": "code",
   "execution_count": 2,
   "id": "639179de-cefb-426c-af58-e7b65161e09d",
   "metadata": {},
   "outputs": [],
   "source": [
    "a = (23,54,578)"
   ]
  },
  {
   "cell_type": "code",
   "execution_count": 3,
   "id": "2d5f75bb-cf29-45f2-affa-2f28a6d4fae4",
   "metadata": {},
   "outputs": [
    {
     "data": {
      "text/plain": [
       "tuple"
      ]
     },
     "execution_count": 3,
     "metadata": {},
     "output_type": "execute_result"
    }
   ],
   "source": [
    "type(a)"
   ]
  },
  {
   "cell_type": "code",
   "execution_count": 6,
   "id": "ecbd4f03-1b62-48a0-ad2c-0964dbe045e5",
   "metadata": {},
   "outputs": [
    {
     "data": {
      "text/plain": [
       "3"
      ]
     },
     "execution_count": 6,
     "metadata": {},
     "output_type": "execute_result"
    }
   ],
   "source": [
    "len(a)"
   ]
  },
  {
   "cell_type": "code",
   "execution_count": 8,
   "id": "9f8b8a6a-8500-4802-9409-c45697c158a3",
   "metadata": {},
   "outputs": [],
   "source": [
    "# \n",
    "a = (23,53,456,67,+0.7,[4,346,7],{'Name':'Mohan'},True)"
   ]
  },
  {
   "cell_type": "code",
   "execution_count": 10,
   "id": "b890535c-2710-4687-9e58-e6d0b016bb41",
   "metadata": {},
   "outputs": [
    {
     "name": "stdout",
     "output_type": "stream",
     "text": [
      "(23, 53, 456, 67, 0.7, [4, 346, 7], {'Name': 'Mohan'}, True)\n"
     ]
    }
   ],
   "source": [
    "print(a)"
   ]
  },
  {
   "cell_type": "code",
   "execution_count": 12,
   "id": "40540d24-f45b-42f4-baaa-514c57c23220",
   "metadata": {},
   "outputs": [],
   "source": [
    "# nested tuple"
   ]
  },
  {
   "cell_type": "code",
   "execution_count": 14,
   "id": "ae67fc3d-0c05-40d8-978a-0c1b9a1eea66",
   "metadata": {},
   "outputs": [],
   "source": [
    "a = (12,34,6,(2,353,67,(2,356,78)))"
   ]
  },
  {
   "cell_type": "code",
   "execution_count": 16,
   "id": "14a07a44-661e-4f70-9031-b033a873ce4a",
   "metadata": {},
   "outputs": [],
   "source": [
    "# indexing and slicing"
   ]
  },
  {
   "cell_type": "code",
   "execution_count": 24,
   "id": "9d13c140-f6a5-4723-aa6f-9f823b177ccd",
   "metadata": {},
   "outputs": [
    {
     "ename": "TypeError",
     "evalue": "'tuple' object does not support item assignment",
     "output_type": "error",
     "traceback": [
      "\u001b[1;31m---------------------------------------------------------------------------\u001b[0m",
      "\u001b[1;31mTypeError\u001b[0m                                 Traceback (most recent call last)",
      "Cell \u001b[1;32mIn[24], line 1\u001b[0m\n\u001b[1;32m----> 1\u001b[0m a[\u001b[38;5;241m3\u001b[39m][\u001b[38;5;241m-\u001b[39m\u001b[38;5;241m1\u001b[39m][\u001b[38;5;241m-\u001b[39m\u001b[38;5;241m2\u001b[39m] \u001b[38;5;241m=\u001b[39m \u001b[38;5;241m450\u001b[39m\n",
      "\u001b[1;31mTypeError\u001b[0m: 'tuple' object does not support item assignment"
     ]
    }
   ],
   "source": [
    "a[3][-1][-2] = 450"
   ]
  },
  {
   "cell_type": "code",
   "execution_count": 26,
   "id": "93ec0e80-6609-497e-84cf-10e69eec4bbe",
   "metadata": {},
   "outputs": [],
   "source": [
    "# reverse"
   ]
  },
  {
   "cell_type": "code",
   "execution_count": 28,
   "id": "4aa4a473-47c9-4605-a17c-29f3638536d4",
   "metadata": {},
   "outputs": [],
   "source": [
    "a = (23,54,56,435,465,6,346)"
   ]
  },
  {
   "cell_type": "code",
   "execution_count": 30,
   "id": "d672b7b7-01d8-4817-9b04-15967bba221a",
   "metadata": {},
   "outputs": [
    {
     "data": {
      "text/plain": [
       "(23, 54, 56, 435, 465, 6, 346)"
      ]
     },
     "execution_count": 30,
     "metadata": {},
     "output_type": "execute_result"
    }
   ],
   "source": [
    "a"
   ]
  },
  {
   "cell_type": "code",
   "execution_count": 32,
   "id": "42722d09-e8b6-4b05-925c-90bbed456eb5",
   "metadata": {},
   "outputs": [
    {
     "data": {
      "text/plain": [
       "(346, 6, 465, 435, 56, 54, 23)"
      ]
     },
     "execution_count": 32,
     "metadata": {},
     "output_type": "execute_result"
    }
   ],
   "source": [
    "a[::-1]"
   ]
  },
  {
   "cell_type": "code",
   "execution_count": 34,
   "id": "030485f4-37a2-4fca-9ebe-8f3afad479d6",
   "metadata": {},
   "outputs": [
    {
     "data": {
      "text/plain": [
       "1385"
      ]
     },
     "execution_count": 34,
     "metadata": {},
     "output_type": "execute_result"
    }
   ],
   "source": [
    "sum(a)"
   ]
  },
  {
   "cell_type": "code",
   "execution_count": 36,
   "id": "7eb2d98a-b9e8-406c-b1ad-4d5236299099",
   "metadata": {},
   "outputs": [
    {
     "data": {
      "text/plain": [
       "6"
      ]
     },
     "execution_count": 36,
     "metadata": {},
     "output_type": "execute_result"
    }
   ],
   "source": [
    "min(a)"
   ]
  },
  {
   "cell_type": "code",
   "execution_count": 38,
   "id": "0311eabb-2be5-4268-9499-2facb97e05a5",
   "metadata": {},
   "outputs": [
    {
     "data": {
      "text/plain": [
       "465"
      ]
     },
     "execution_count": 38,
     "metadata": {},
     "output_type": "execute_result"
    }
   ],
   "source": [
    "max(a)"
   ]
  },
  {
   "cell_type": "code",
   "execution_count": 40,
   "id": "1c9da2ac-d9f6-4bb1-b521-392195443999",
   "metadata": {},
   "outputs": [],
   "source": [
    "a = (6,23,567)\n",
    "b = (5,3246,7)"
   ]
  },
  {
   "cell_type": "code",
   "execution_count": 42,
   "id": "d883c0c1-a1da-49f4-a97b-8191bd84dfb4",
   "metadata": {},
   "outputs": [
    {
     "data": {
      "text/plain": [
       "(6, 23, 567, 5, 3246, 7)"
      ]
     },
     "execution_count": 42,
     "metadata": {},
     "output_type": "execute_result"
    }
   ],
   "source": [
    "a + b"
   ]
  },
  {
   "cell_type": "code",
   "execution_count": 44,
   "id": "d87789ac-4e61-46f6-993a-13fd80f763e2",
   "metadata": {},
   "outputs": [
    {
     "ename": "TypeError",
     "evalue": "unsupported operand type(s) for -: 'tuple' and 'tuple'",
     "output_type": "error",
     "traceback": [
      "\u001b[1;31m---------------------------------------------------------------------------\u001b[0m",
      "\u001b[1;31mTypeError\u001b[0m                                 Traceback (most recent call last)",
      "Cell \u001b[1;32mIn[44], line 1\u001b[0m\n\u001b[1;32m----> 1\u001b[0m a \u001b[38;5;241m-\u001b[39m b\n",
      "\u001b[1;31mTypeError\u001b[0m: unsupported operand type(s) for -: 'tuple' and 'tuple'"
     ]
    }
   ],
   "source": [
    "a - b"
   ]
  },
  {
   "cell_type": "code",
   "execution_count": 46,
   "id": "0aeee222-b96c-4069-adcb-18ee70b48ae7",
   "metadata": {},
   "outputs": [
    {
     "data": {
      "text/plain": [
       "(6, 23, 567)"
      ]
     },
     "execution_count": 46,
     "metadata": {},
     "output_type": "execute_result"
    }
   ],
   "source": [
    "a"
   ]
  },
  {
   "cell_type": "code",
   "execution_count": 48,
   "id": "54cdc6cf-cf3a-469d-89f8-36faa7d17746",
   "metadata": {},
   "outputs": [
    {
     "data": {
      "text/plain": [
       "(6, 23, 567, 6, 23, 567, 6, 23, 567)"
      ]
     },
     "execution_count": 48,
     "metadata": {},
     "output_type": "execute_result"
    }
   ],
   "source": [
    "a * 3"
   ]
  },
  {
   "cell_type": "code",
   "execution_count": 50,
   "id": "8e988164-3c99-4c63-8b0e-957f7aa0eaa9",
   "metadata": {},
   "outputs": [],
   "source": [
    "# Methods 2"
   ]
  },
  {
   "cell_type": "code",
   "execution_count": 52,
   "id": "ed65629a-455a-4229-8eeb-662c7b4642b1",
   "metadata": {},
   "outputs": [],
   "source": [
    "# a.count\n",
    "# a.index"
   ]
  },
  {
   "cell_type": "code",
   "execution_count": 54,
   "id": "bdbc6944-5d73-45dc-a6a4-27cad4dca5c2",
   "metadata": {},
   "outputs": [],
   "source": [
    "a = (2,354,65,32,5457)"
   ]
  },
  {
   "cell_type": "code",
   "execution_count": 56,
   "id": "2e27a7af-dd5e-412c-bad2-17eaec120af6",
   "metadata": {},
   "outputs": [
    {
     "data": {
      "text/plain": [
       "3"
      ]
     },
     "execution_count": 56,
     "metadata": {},
     "output_type": "execute_result"
    }
   ],
   "source": [
    "a.index(32)"
   ]
  },
  {
   "cell_type": "code",
   "execution_count": 58,
   "id": "00ee128c-05f1-495a-a7a1-8f9b0581059c",
   "metadata": {},
   "outputs": [],
   "source": [
    "a = (35456,34,45,63,54,534,5,643,534,5,55,67)"
   ]
  },
  {
   "cell_type": "code",
   "execution_count": 60,
   "id": "87bbdfdf-8578-40d8-ba0b-67df708785a7",
   "metadata": {},
   "outputs": [
    {
     "data": {
      "text/plain": [
       "2"
      ]
     },
     "execution_count": 60,
     "metadata": {},
     "output_type": "execute_result"
    }
   ],
   "source": [
    "a.count(534)"
   ]
  },
  {
   "cell_type": "code",
   "execution_count": null,
   "id": "52773f85-10e9-4e7c-8b00-579985804c30",
   "metadata": {},
   "outputs": [],
   "source": []
  },
  {
   "cell_type": "code",
   "execution_count": 65,
   "id": "a8ae781e-33bd-4191-9fe4-9727006b62f7",
   "metadata": {},
   "outputs": [],
   "source": [
    "# Slicing"
   ]
  },
  {
   "cell_type": "code",
   "execution_count": 67,
   "id": "3791b686-ac76-40f9-8cce-96bdbbc56076",
   "metadata": {},
   "outputs": [
    {
     "data": {
      "text/plain": [
       "(63, 54, 534, 5, 643)"
      ]
     },
     "execution_count": 67,
     "metadata": {},
     "output_type": "execute_result"
    }
   ],
   "source": [
    "a[3:8]"
   ]
  },
  {
   "cell_type": "code",
   "execution_count": 69,
   "id": "6237694f-94db-47f5-a926-ba7c4ae6981d",
   "metadata": {},
   "outputs": [
    {
     "data": {
      "text/plain": [
       "(63, 54, 534, 5, 643)"
      ]
     },
     "execution_count": 69,
     "metadata": {},
     "output_type": "execute_result"
    }
   ],
   "source": [
    "a[a.index(63):a.index(643)+1]"
   ]
  },
  {
   "cell_type": "code",
   "execution_count": null,
   "id": "21b9ac41-be83-4eb8-8d70-40f3f67f9add",
   "metadata": {},
   "outputs": [],
   "source": []
  },
  {
   "cell_type": "markdown",
   "id": "7c33ab83-3912-441a-9204-331dc32f3b7f",
   "metadata": {},
   "source": [
    "# Dict, Key-Value, Hash, Mapping, map"
   ]
  },
  {
   "cell_type": "code",
   "execution_count": 74,
   "id": "5dc6d2ce-e354-4607-aeab-7b6f3bda75a9",
   "metadata": {},
   "outputs": [],
   "source": [
    "# data = {'key':'value'}"
   ]
  },
  {
   "cell_type": "code",
   "execution_count": 76,
   "id": "3618e30c-47c5-40e3-b5fd-3e19fbffc341",
   "metadata": {},
   "outputs": [],
   "source": [
    "data = {'Name':'Mohan','Age':34,'Class':12, 'Address':'Noida'}"
   ]
  },
  {
   "cell_type": "code",
   "execution_count": 78,
   "id": "af57bfab-efe0-4b38-8f05-939f63e8db98",
   "metadata": {},
   "outputs": [
    {
     "name": "stdout",
     "output_type": "stream",
     "text": [
      "{'Name': 'Mohan', 'Age': 34, 'Class': 12, 'Address': 'Noida'}\n"
     ]
    }
   ],
   "source": [
    "print(data)"
   ]
  },
  {
   "cell_type": "code",
   "execution_count": 80,
   "id": "90c28e5d-f48d-47f9-88d7-7da27206580c",
   "metadata": {},
   "outputs": [],
   "source": [
    "# key: immutable: does not change\n",
    "# value: all data type"
   ]
  },
  {
   "cell_type": "code",
   "execution_count": 106,
   "id": "8b5dbfb8-0335-4b65-8ffe-0ca1fb19338d",
   "metadata": {},
   "outputs": [
    {
     "name": "stdout",
     "output_type": "stream",
     "text": [
      "{1: 'Ajay', 2.5: 'Mohan', (214, 35, 6): 'Komal', (45-8j): 'Lucky', False: False, 'Harry': 'Jai', frozenset({3456, 2, 4}): 45, None: '456'}\n"
     ]
    }
   ],
   "source": [
    "data = {1:'Ajay',\n",
    "       2.5:'Mohan',\n",
    "       (214,35,6):'Komal',\n",
    "       45-8j:'Lucky',\n",
    "       False:False,\n",
    "        'Harry':'Jai',\n",
    "       frozenset((2,3456,4)):45,\n",
    "       None:'456'}\n",
    "print(data)"
   ]
  },
  {
   "cell_type": "code",
   "execution_count": 90,
   "id": "8df18f36-525f-4325-8916-dd8446aac7b5",
   "metadata": {},
   "outputs": [
    {
     "ename": "TypeError",
     "evalue": "unhashable type: 'list'",
     "output_type": "error",
     "traceback": [
      "\u001b[1;31m---------------------------------------------------------------------------\u001b[0m",
      "\u001b[1;31mTypeError\u001b[0m                                 Traceback (most recent call last)",
      "Cell \u001b[1;32mIn[90], line 1\u001b[0m\n\u001b[1;32m----> 1\u001b[0m data \u001b[38;5;241m=\u001b[39m {[\u001b[38;5;241m23\u001b[39m,\u001b[38;5;241m43\u001b[39m,\u001b[38;5;241m67\u001b[39m]:\u001b[38;5;124m'\u001b[39m\u001b[38;5;124mMohan\u001b[39m\u001b[38;5;124m'\u001b[39m}\n",
      "\u001b[1;31mTypeError\u001b[0m: unhashable type: 'list'"
     ]
    }
   ],
   "source": [
    "data = {[23,43,67]:'Mohan'}"
   ]
  },
  {
   "cell_type": "code",
   "execution_count": 92,
   "id": "ef5860e4-99ec-403a-878c-abf34d283717",
   "metadata": {},
   "outputs": [
    {
     "ename": "TypeError",
     "evalue": "unhashable type: 'set'",
     "output_type": "error",
     "traceback": [
      "\u001b[1;31m---------------------------------------------------------------------------\u001b[0m",
      "\u001b[1;31mTypeError\u001b[0m                                 Traceback (most recent call last)",
      "Cell \u001b[1;32mIn[92], line 1\u001b[0m\n\u001b[1;32m----> 1\u001b[0m data \u001b[38;5;241m=\u001b[39m {{\u001b[38;5;241m2\u001b[39m,\u001b[38;5;241m354\u001b[39m,\u001b[38;5;241m657\u001b[39m}:\u001b[38;5;124m'\u001b[39m\u001b[38;5;124mMohan\u001b[39m\u001b[38;5;124m'\u001b[39m}\n",
      "\u001b[1;31mTypeError\u001b[0m: unhashable type: 'set'"
     ]
    }
   ],
   "source": [
    "data = {{2,354,657}:'Mohan'}"
   ]
  },
  {
   "cell_type": "code",
   "execution_count": 94,
   "id": "4cc376c7-4e68-4a48-8c2f-9a64f1f5cdc4",
   "metadata": {},
   "outputs": [
    {
     "ename": "TypeError",
     "evalue": "unhashable type: 'dict'",
     "output_type": "error",
     "traceback": [
      "\u001b[1;31m---------------------------------------------------------------------------\u001b[0m",
      "\u001b[1;31mTypeError\u001b[0m                                 Traceback (most recent call last)",
      "Cell \u001b[1;32mIn[94], line 1\u001b[0m\n\u001b[1;32m----> 1\u001b[0m data \u001b[38;5;241m=\u001b[39m {{\u001b[38;5;124m'\u001b[39m\u001b[38;5;124mName\u001b[39m\u001b[38;5;124m'\u001b[39m:\u001b[38;5;124m'\u001b[39m\u001b[38;5;124mAjay\u001b[39m\u001b[38;5;124m'\u001b[39m}:\u001b[38;5;124m'\u001b[39m\u001b[38;5;124mMohan\u001b[39m\u001b[38;5;124m'\u001b[39m}\n",
      "\u001b[1;31mTypeError\u001b[0m: unhashable type: 'dict'"
     ]
    }
   ],
   "source": [
    "data = {{'Name':'Ajay'}:'Mohan'}"
   ]
  },
  {
   "cell_type": "code",
   "execution_count": 102,
   "id": "1c6504b3-4d13-4636-a63b-d965728ddb24",
   "metadata": {},
   "outputs": [],
   "source": [
    "# value: all data type: infuture: all"
   ]
  },
  {
   "cell_type": "code",
   "execution_count": 100,
   "id": "6acade25-c09c-4b00-b9ff-7097ce53aa6e",
   "metadata": {},
   "outputs": [
    {
     "name": "stdout",
     "output_type": "stream",
     "text": [
      "{1: [235, 456, 7, 8], 2: (2, 43, 46, 7), 3: 56.6, 4: (89-9j), 5: True, 6: {2, 3, 467}, 7: {'Name': 'Mohan'}, 8: None, 9: 'Ajay', 10: 10, 11: frozenset({2, 34, 46})}\n"
     ]
    }
   ],
   "source": [
    "data = {1:[235,456,7,8],\n",
    "       2:(2,43,46,7),\n",
    "       3:56.6,\n",
    "       4:89-9j,\n",
    "       5:True,\n",
    "       6:{2,3,467},\n",
    "       7:{'Name':'Mohan'},\n",
    "       8:None,\n",
    "       9:'Ajay',\n",
    "       10:10,\n",
    "       11:frozenset((2,34,46))}\n",
    "\n",
    "print(data)"
   ]
  },
  {
   "cell_type": "code",
   "execution_count": null,
   "id": "d06b626c-3b4b-484d-a89a-34d817539215",
   "metadata": {},
   "outputs": [],
   "source": []
  },
  {
   "cell_type": "code",
   "execution_count": 109,
   "id": "032e04c8-717f-4747-b6fc-2d00794c0514",
   "metadata": {},
   "outputs": [],
   "source": [
    "# nested dic"
   ]
  },
  {
   "cell_type": "code",
   "execution_count": 115,
   "id": "18263697-cace-4ed7-b535-abdea3474d71",
   "metadata": {},
   "outputs": [],
   "source": [
    "data = {'One':{'one':1,\"two\":2}}"
   ]
  },
  {
   "cell_type": "code",
   "execution_count": 117,
   "id": "c302b06c-9d25-432e-a146-0c069a69f22f",
   "metadata": {},
   "outputs": [
    {
     "name": "stdout",
     "output_type": "stream",
     "text": [
      "{'One': {'one': 1, 'two': 2}}\n"
     ]
    }
   ],
   "source": [
    "print(data)"
   ]
  },
  {
   "cell_type": "code",
   "execution_count": 119,
   "id": "5a415173-8c97-4de5-a4c3-d47027a9caf6",
   "metadata": {},
   "outputs": [],
   "source": [
    "data = {'Emp_name':['Ajay','Ravi','Mohan','Karan'],\n",
    "       'Age':[34,45,43,32],\n",
    "       'Salary':[456678,56543,567898,767659],\n",
    "       'Address':['Noida']*4}"
   ]
  },
  {
   "cell_type": "code",
   "execution_count": 121,
   "id": "3f9a9b94-53ed-4582-92dd-ff1f0c296434",
   "metadata": {},
   "outputs": [
    {
     "name": "stdout",
     "output_type": "stream",
     "text": [
      "{'Emp_name': ['Ajay', 'Ravi', 'Mohan', 'Karan'], 'Age': [34, 45, 43, 32], 'Salary': [456678, 56543, 567898, 767659], 'Address': ['Noida', 'Noida', 'Noida', 'Noida']}\n"
     ]
    }
   ],
   "source": [
    "print(data)"
   ]
  },
  {
   "cell_type": "code",
   "execution_count": 123,
   "id": "c0038fec-48ea-4b49-91c5-0a8706628e26",
   "metadata": {},
   "outputs": [],
   "source": [
    "import pandas as pd"
   ]
  },
  {
   "cell_type": "code",
   "execution_count": 127,
   "id": "cc5663b3-1bb4-4205-8ee9-4dfacc614274",
   "metadata": {},
   "outputs": [],
   "source": [
    "table = pd.DataFrame(data)"
   ]
  },
  {
   "cell_type": "code",
   "execution_count": 129,
   "id": "80f7f96c-3fe2-4ada-88cb-ecedb6c8671d",
   "metadata": {},
   "outputs": [
    {
     "data": {
      "text/html": [
       "<div>\n",
       "<style scoped>\n",
       "    .dataframe tbody tr th:only-of-type {\n",
       "        vertical-align: middle;\n",
       "    }\n",
       "\n",
       "    .dataframe tbody tr th {\n",
       "        vertical-align: top;\n",
       "    }\n",
       "\n",
       "    .dataframe thead th {\n",
       "        text-align: right;\n",
       "    }\n",
       "</style>\n",
       "<table border=\"1\" class=\"dataframe\">\n",
       "  <thead>\n",
       "    <tr style=\"text-align: right;\">\n",
       "      <th></th>\n",
       "      <th>Emp_name</th>\n",
       "      <th>Age</th>\n",
       "      <th>Salary</th>\n",
       "      <th>Address</th>\n",
       "    </tr>\n",
       "  </thead>\n",
       "  <tbody>\n",
       "    <tr>\n",
       "      <th>0</th>\n",
       "      <td>Ajay</td>\n",
       "      <td>34</td>\n",
       "      <td>456678</td>\n",
       "      <td>Noida</td>\n",
       "    </tr>\n",
       "    <tr>\n",
       "      <th>1</th>\n",
       "      <td>Ravi</td>\n",
       "      <td>45</td>\n",
       "      <td>56543</td>\n",
       "      <td>Noida</td>\n",
       "    </tr>\n",
       "    <tr>\n",
       "      <th>2</th>\n",
       "      <td>Mohan</td>\n",
       "      <td>43</td>\n",
       "      <td>567898</td>\n",
       "      <td>Noida</td>\n",
       "    </tr>\n",
       "    <tr>\n",
       "      <th>3</th>\n",
       "      <td>Karan</td>\n",
       "      <td>32</td>\n",
       "      <td>767659</td>\n",
       "      <td>Noida</td>\n",
       "    </tr>\n",
       "  </tbody>\n",
       "</table>\n",
       "</div>"
      ],
      "text/plain": [
       "  Emp_name  Age  Salary Address\n",
       "0     Ajay   34  456678   Noida\n",
       "1     Ravi   45   56543   Noida\n",
       "2    Mohan   43  567898   Noida\n",
       "3    Karan   32  767659   Noida"
      ]
     },
     "execution_count": 129,
     "metadata": {},
     "output_type": "execute_result"
    }
   ],
   "source": [
    "table"
   ]
  },
  {
   "cell_type": "code",
   "execution_count": 131,
   "id": "48ecf62a-e144-4a57-8071-cc180de7e67f",
   "metadata": {},
   "outputs": [
    {
     "data": {
      "text/plain": [
       "{'Emp_name': ['Ajay', 'Ravi', 'Mohan', 'Karan'],\n",
       " 'Age': [34, 45, 43, 32],\n",
       " 'Salary': [456678, 56543, 567898, 767659],\n",
       " 'Address': ['Noida', 'Noida', 'Noida', 'Noida']}"
      ]
     },
     "execution_count": 131,
     "metadata": {},
     "output_type": "execute_result"
    }
   ],
   "source": [
    "data"
   ]
  },
  {
   "cell_type": "code",
   "execution_count": 133,
   "id": "706635e2-7679-4b9f-807b-df6be9d6e925",
   "metadata": {},
   "outputs": [],
   "source": [
    "# elements can be changed based on key "
   ]
  },
  {
   "cell_type": "code",
   "execution_count": 139,
   "id": "b89b7587-ff4c-4535-ac57-fa808a1248d7",
   "metadata": {},
   "outputs": [],
   "source": [
    "data['Emp_name'][2] = 'Mohan Kumar'"
   ]
  },
  {
   "cell_type": "code",
   "execution_count": 141,
   "id": "c3ff6e16-b009-4734-9228-5afbba5e2dc6",
   "metadata": {},
   "outputs": [
    {
     "data": {
      "text/plain": [
       "{'Emp_name': ['Ajay', 'Ravi', 'Mohan Kumar', 'Karan'],\n",
       " 'Age': [34, 45, 43, 32],\n",
       " 'Salary': [456678, 56543, 567898, 767659],\n",
       " 'Address': ['Noida', 'Noida', 'Noida', 'Noida']}"
      ]
     },
     "execution_count": 141,
     "metadata": {},
     "output_type": "execute_result"
    }
   ],
   "source": [
    "data"
   ]
  },
  {
   "cell_type": "code",
   "execution_count": 145,
   "id": "98f35f2c-3f00-4feb-8588-52f43fcd4102",
   "metadata": {},
   "outputs": [],
   "source": [
    "data['Age'][2] = 45"
   ]
  },
  {
   "cell_type": "code",
   "execution_count": 147,
   "id": "9d9e8de6-f258-4685-a72f-befbc5af8baf",
   "metadata": {},
   "outputs": [
    {
     "data": {
      "text/plain": [
       "{'Emp_name': ['Ajay', 'Ravi', 'Mohan Kumar', 'Karan'],\n",
       " 'Age': [34, 45, 45, 32],\n",
       " 'Salary': [456678, 56543, 567898, 767659],\n",
       " 'Address': ['Noida', 'Noida', 'Noida', 'Noida']}"
      ]
     },
     "execution_count": 147,
     "metadata": {},
     "output_type": "execute_result"
    }
   ],
   "source": [
    "data"
   ]
  },
  {
   "cell_type": "code",
   "execution_count": 151,
   "id": "31afb4c3-b764-42ed-b3b4-f34445e77dd2",
   "metadata": {},
   "outputs": [],
   "source": [
    "data['Address'][-1] = 'Greater Noida'"
   ]
  },
  {
   "cell_type": "code",
   "execution_count": 153,
   "id": "3697d4ad-6709-4114-bb61-75c4cd810880",
   "metadata": {},
   "outputs": [
    {
     "data": {
      "text/plain": [
       "{'Emp_name': ['Ajay', 'Ravi', 'Mohan Kumar', 'Karan'],\n",
       " 'Age': [34, 45, 45, 32],\n",
       " 'Salary': [456678, 56543, 567898, 767659],\n",
       " 'Address': ['Noida', 'Noida', 'Noida', 'Greater Noida']}"
      ]
     },
     "execution_count": 153,
     "metadata": {},
     "output_type": "execute_result"
    }
   ],
   "source": [
    "data"
   ]
  },
  {
   "cell_type": "code",
   "execution_count": 155,
   "id": "ab40b7b1-7d26-48d2-8fa7-00b881a14528",
   "metadata": {},
   "outputs": [],
   "source": [
    "car_collections = {'Kia':456789,'Audi':567896}"
   ]
  },
  {
   "cell_type": "code",
   "execution_count": 157,
   "id": "a15a06c4-917b-4224-86e7-52d2154d2396",
   "metadata": {},
   "outputs": [
    {
     "data": {
      "text/plain": [
       "{'Kia': 456789, 'Audi': 567896}"
      ]
     },
     "execution_count": 157,
     "metadata": {},
     "output_type": "execute_result"
    }
   ],
   "source": [
    "car_collections"
   ]
  },
  {
   "cell_type": "code",
   "execution_count": 159,
   "id": "cd5813e2-0d95-4176-881a-e85cad917f4d",
   "metadata": {},
   "outputs": [],
   "source": [
    "car_collections['Maruti'] = 456789"
   ]
  },
  {
   "cell_type": "code",
   "execution_count": 161,
   "id": "8f1081e7-348f-4ef1-b8d0-38e4e377a335",
   "metadata": {},
   "outputs": [
    {
     "data": {
      "text/plain": [
       "{'Kia': 456789, 'Audi': 567896, 'Maruti': 456789}"
      ]
     },
     "execution_count": 161,
     "metadata": {},
     "output_type": "execute_result"
    }
   ],
   "source": [
    "car_collections"
   ]
  },
  {
   "cell_type": "code",
   "execution_count": 163,
   "id": "79a96964-d3ac-485c-9e4b-c7e155af9f19",
   "metadata": {},
   "outputs": [],
   "source": [
    "car_collections['Kia'] = 3456789"
   ]
  },
  {
   "cell_type": "code",
   "execution_count": 165,
   "id": "687a0fdf-cd4c-4677-bd8f-7b2b08ac5d12",
   "metadata": {},
   "outputs": [
    {
     "data": {
      "text/plain": [
       "{'Kia': 3456789, 'Audi': 567896, 'Maruti': 456789}"
      ]
     },
     "execution_count": 165,
     "metadata": {},
     "output_type": "execute_result"
    }
   ],
   "source": [
    "car_collections"
   ]
  },
  {
   "cell_type": "code",
   "execution_count": 167,
   "id": "da4d748c-59b2-44d1-bec3-e7bf29e5fcd2",
   "metadata": {},
   "outputs": [],
   "source": [
    "car_collections['Bmw'] = 34567890"
   ]
  },
  {
   "cell_type": "code",
   "execution_count": 169,
   "id": "c5340fcb-307f-40e5-bd94-a91c5e9e66d1",
   "metadata": {},
   "outputs": [
    {
     "data": {
      "text/plain": [
       "{'Kia': 3456789, 'Audi': 567896, 'Maruti': 456789, 'Bmw': 34567890}"
      ]
     },
     "execution_count": 169,
     "metadata": {},
     "output_type": "execute_result"
    }
   ],
   "source": [
    "car_collections"
   ]
  },
  {
   "cell_type": "code",
   "execution_count": 179,
   "id": "e52d3e77-4031-4058-ab18-66d82815765f",
   "metadata": {},
   "outputs": [],
   "source": [
    "car = {'kia':456789,'Audi':45678,'Maruti':567890,'kia':4567,'Maruti':6789,'Kia':765}"
   ]
  },
  {
   "cell_type": "code",
   "execution_count": 181,
   "id": "043abed6-a73f-443f-8873-9364854d0238",
   "metadata": {},
   "outputs": [
    {
     "data": {
      "text/plain": [
       "{'kia': 4567, 'Audi': 45678, 'Maruti': 6789, 'Kia': 765}"
      ]
     },
     "execution_count": 181,
     "metadata": {},
     "output_type": "execute_result"
    }
   ],
   "source": [
    "car"
   ]
  },
  {
   "cell_type": "code",
   "execution_count": 187,
   "id": "0057074c-aa75-4285-90c3-901f42448b88",
   "metadata": {},
   "outputs": [],
   "source": [
    "banks_quiz = {'Delhi':{'Banks':[{'SBI':[[1200],[1500]],\"PNB\":[[345],[567],[678]]}],\"RBI_Bank\":{\"Locker1\":[1234]}}}"
   ]
  },
  {
   "cell_type": "code",
   "execution_count": 189,
   "id": "d04fc279-01d7-497f-9aa7-1f16103208f5",
   "metadata": {},
   "outputs": [
    {
     "data": {
      "text/plain": [
       "{'Delhi': {'Banks': [{'SBI': [[1200], [1500]], 'PNB': [[345], [567], [678]]}],\n",
       "  'RBI_Bank': {'Locker1': [1234]}}}"
      ]
     },
     "execution_count": 189,
     "metadata": {},
     "output_type": "execute_result"
    }
   ],
   "source": [
    "banks_quiz"
   ]
  },
  {
   "cell_type": "code",
   "execution_count": 203,
   "id": "4183dc0c-5e1c-4a18-9683-484363d78d73",
   "metadata": {},
   "outputs": [],
   "source": [
    "banks_quiz['Delhi']['Banks'][0]['PNB'][-1][0] = 0"
   ]
  },
  {
   "cell_type": "code",
   "execution_count": 205,
   "id": "44c1e86a-0df6-4170-96c5-4b4487f4adf6",
   "metadata": {},
   "outputs": [
    {
     "data": {
      "text/plain": [
       "{'Delhi': {'Banks': [{'SBI': [[1200], [1500]], 'PNB': [[345], [567], [0]]}],\n",
       "  'RBI_Bank': {'Locker1': [1234]}}}"
      ]
     },
     "execution_count": 205,
     "metadata": {},
     "output_type": "execute_result"
    }
   ],
   "source": [
    "banks_quiz"
   ]
  },
  {
   "cell_type": "code",
   "execution_count": 213,
   "id": "7a37bf71-faa5-42f3-9a40-8f9f41be04a4",
   "metadata": {},
   "outputs": [],
   "source": [
    "ans = banks_quiz['Delhi']['RBI_Bank'][\"Locker1\"][0]"
   ]
  },
  {
   "cell_type": "code",
   "execution_count": 223,
   "id": "79cff512-cfcb-4c09-b903-31b389c7ad65",
   "metadata": {},
   "outputs": [],
   "source": [
    "banks_quiz['Delhi']['Banks'][0]['SBI'].append([ans])"
   ]
  },
  {
   "cell_type": "code",
   "execution_count": 225,
   "id": "66f9220b-5924-4f68-b234-6b7c03aee8f7",
   "metadata": {},
   "outputs": [
    {
     "data": {
      "text/plain": [
       "{'Delhi': {'Banks': [{'SBI': [[1200], [1500], [1234]],\n",
       "    'PNB': [[345], [567], [0]]}],\n",
       "  'RBI_Bank': {'Locker1': [1234]}}}"
      ]
     },
     "execution_count": 225,
     "metadata": {},
     "output_type": "execute_result"
    }
   ],
   "source": [
    "banks_quiz"
   ]
  },
  {
   "cell_type": "code",
   "execution_count": null,
   "id": "2ded9592-7226-474c-9482-34de33a170de",
   "metadata": {},
   "outputs": [],
   "source": []
  },
  {
   "cell_type": "code",
   "execution_count": 228,
   "id": "23ca2697-5778-4859-8ba0-bdbf8f249f52",
   "metadata": {},
   "outputs": [
    {
     "data": {
      "text/plain": [
       "{'Kia': 3456789, 'Audi': 567896, 'Maruti': 456789, 'Bmw': 34567890}"
      ]
     },
     "execution_count": 228,
     "metadata": {},
     "output_type": "execute_result"
    }
   ],
   "source": [
    "car_collections"
   ]
  },
  {
   "cell_type": "code",
   "execution_count": 230,
   "id": "235f052e-5551-4938-8e97-02e53cb4bb39",
   "metadata": {},
   "outputs": [
    {
     "data": {
      "text/plain": [
       "4"
      ]
     },
     "execution_count": 230,
     "metadata": {},
     "output_type": "execute_result"
    }
   ],
   "source": [
    "len(car_collections)"
   ]
  },
  {
   "cell_type": "code",
   "execution_count": 232,
   "id": "3ed27d07-2aef-4357-b168-54678aa34099",
   "metadata": {},
   "outputs": [
    {
     "data": {
      "text/plain": [
       "['Kia', 'Audi', 'Maruti', 'Bmw']"
      ]
     },
     "execution_count": 232,
     "metadata": {},
     "output_type": "execute_result"
    }
   ],
   "source": [
    "list(car_collections)"
   ]
  },
  {
   "cell_type": "code",
   "execution_count": 234,
   "id": "079680d8-298b-4a6d-acd6-88f059b96680",
   "metadata": {},
   "outputs": [
    {
     "data": {
      "text/plain": [
       "{'Kia': 3456789, 'Audi': 567896, 'Maruti': 456789, 'Bmw': 34567890}"
      ]
     },
     "execution_count": 234,
     "metadata": {},
     "output_type": "execute_result"
    }
   ],
   "source": [
    "car_collections"
   ]
  },
  {
   "cell_type": "code",
   "execution_count": 236,
   "id": "3f6c014e-ef4b-40f0-844c-6a8aad92facb",
   "metadata": {},
   "outputs": [],
   "source": [
    "a = {'Name':'Mohan'}\n",
    "b = {'class':23}"
   ]
  },
  {
   "cell_type": "code",
   "execution_count": 238,
   "id": "c263eae6-51fc-403a-a5ed-94fe70af40a6",
   "metadata": {},
   "outputs": [
    {
     "ename": "TypeError",
     "evalue": "unsupported operand type(s) for +: 'dict' and 'dict'",
     "output_type": "error",
     "traceback": [
      "\u001b[1;31m---------------------------------------------------------------------------\u001b[0m",
      "\u001b[1;31mTypeError\u001b[0m                                 Traceback (most recent call last)",
      "Cell \u001b[1;32mIn[238], line 1\u001b[0m\n\u001b[1;32m----> 1\u001b[0m a \u001b[38;5;241m+\u001b[39m b\n",
      "\u001b[1;31mTypeError\u001b[0m: unsupported operand type(s) for +: 'dict' and 'dict'"
     ]
    }
   ],
   "source": [
    "a + b"
   ]
  },
  {
   "cell_type": "code",
   "execution_count": 240,
   "id": "8518eef9-366c-4fe0-b414-48c39179047e",
   "metadata": {},
   "outputs": [
    {
     "ename": "TypeError",
     "evalue": "unsupported operand type(s) for *: 'dict' and 'int'",
     "output_type": "error",
     "traceback": [
      "\u001b[1;31m---------------------------------------------------------------------------\u001b[0m",
      "\u001b[1;31mTypeError\u001b[0m                                 Traceback (most recent call last)",
      "Cell \u001b[1;32mIn[240], line 1\u001b[0m\n\u001b[1;32m----> 1\u001b[0m a\u001b[38;5;241m*\u001b[39m\u001b[38;5;241m3\u001b[39m\n",
      "\u001b[1;31mTypeError\u001b[0m: unsupported operand type(s) for *: 'dict' and 'int'"
     ]
    }
   ],
   "source": [
    "a*3"
   ]
  },
  {
   "cell_type": "code",
   "execution_count": 242,
   "id": "c03938b0-1f2b-4b5c-826c-996125ad7405",
   "metadata": {},
   "outputs": [
    {
     "data": {
      "text/plain": [
       "{'Kia': 3456789, 'Audi': 567896, 'Maruti': 456789, 'Bmw': 34567890}"
      ]
     },
     "execution_count": 242,
     "metadata": {},
     "output_type": "execute_result"
    }
   ],
   "source": [
    "car_collections"
   ]
  },
  {
   "cell_type": "code",
   "execution_count": 244,
   "id": "fb2a7c39-7da0-4d64-bb13-2c9b0494c312",
   "metadata": {},
   "outputs": [],
   "source": [
    "car_collections.clear()"
   ]
  },
  {
   "cell_type": "code",
   "execution_count": 246,
   "id": "020a14b4-8f73-446e-992a-2b7d43b8ddad",
   "metadata": {},
   "outputs": [
    {
     "data": {
      "text/plain": [
       "{}"
      ]
     },
     "execution_count": 246,
     "metadata": {},
     "output_type": "execute_result"
    }
   ],
   "source": [
    "car_collections"
   ]
  },
  {
   "cell_type": "code",
   "execution_count": 248,
   "id": "d3a83821-b4d6-436d-a4a9-5e815023c7a1",
   "metadata": {},
   "outputs": [
    {
     "name": "stdout",
     "output_type": "stream",
     "text": [
      "{}\n"
     ]
    }
   ],
   "source": [
    "empty = {}\n",
    "print(empty)"
   ]
  },
  {
   "cell_type": "code",
   "execution_count": 250,
   "id": "4c4e4c0e-b3cb-41da-9df0-689097c30bcf",
   "metadata": {},
   "outputs": [
    {
     "data": {
      "text/plain": [
       "dict"
      ]
     },
     "execution_count": 250,
     "metadata": {},
     "output_type": "execute_result"
    }
   ],
   "source": [
    "type(empty)"
   ]
  },
  {
   "cell_type": "code",
   "execution_count": 252,
   "id": "c4e43891-f6f7-4de8-9028-b60d61f75b10",
   "metadata": {},
   "outputs": [],
   "source": [
    "# tuple"
   ]
  },
  {
   "cell_type": "code",
   "execution_count": 254,
   "id": "f07de269-4cd2-436f-bd4a-36a706f6cbaa",
   "metadata": {},
   "outputs": [
    {
     "name": "stdout",
     "output_type": "stream",
     "text": [
      "45 <class 'int'>\n"
     ]
    }
   ],
   "source": [
    "a = (45)\n",
    "print(a,type(a))"
   ]
  },
  {
   "cell_type": "code",
   "execution_count": 256,
   "id": "de0de731-29ff-4b2a-bebd-4f346e26000f",
   "metadata": {},
   "outputs": [
    {
     "name": "stdout",
     "output_type": "stream",
     "text": [
      "(45,) <class 'tuple'>\n"
     ]
    }
   ],
   "source": [
    "a = (45,)\n",
    "print(a,type(a))"
   ]
  },
  {
   "cell_type": "code",
   "execution_count": 258,
   "id": "75dfd663-a22d-4f6c-b47e-1d05851fb277",
   "metadata": {},
   "outputs": [
    {
     "ename": "SyntaxError",
     "evalue": "invalid syntax (1271987208.py, line 1)",
     "output_type": "error",
     "traceback": [
      "\u001b[1;36m  Cell \u001b[1;32mIn[258], line 1\u001b[1;36m\u001b[0m\n\u001b[1;33m    empty = {,}\u001b[0m\n\u001b[1;37m             ^\u001b[0m\n\u001b[1;31mSyntaxError\u001b[0m\u001b[1;31m:\u001b[0m invalid syntax\n"
     ]
    }
   ],
   "source": [
    "empty = {,}\n",
    "\n",
    "print(empty,type(empty))"
   ]
  },
  {
   "cell_type": "code",
   "execution_count": 260,
   "id": "99c7d73b-48e9-4f01-8ed0-61dd373248fc",
   "metadata": {},
   "outputs": [],
   "source": [
    "a = set()"
   ]
  },
  {
   "cell_type": "code",
   "execution_count": 262,
   "id": "8774b31a-4cc9-47ef-b42b-1cfd4cdce0b0",
   "metadata": {},
   "outputs": [
    {
     "name": "stdout",
     "output_type": "stream",
     "text": [
      "<class 'set'>\n"
     ]
    }
   ],
   "source": [
    "print(type(a))"
   ]
  },
  {
   "cell_type": "code",
   "execution_count": 264,
   "id": "3fc6e0ff-a05e-4cef-be04-4245b4789aec",
   "metadata": {},
   "outputs": [
    {
     "data": {
      "text/plain": [
       "set()"
      ]
     },
     "execution_count": 264,
     "metadata": {},
     "output_type": "execute_result"
    }
   ],
   "source": [
    "a"
   ]
  },
  {
   "cell_type": "code",
   "execution_count": 266,
   "id": "bb76de72-7ca0-430c-aa46-46c564fcffc3",
   "metadata": {},
   "outputs": [],
   "source": [
    "a = {'Ajay':500}\n",
    "b = a"
   ]
  },
  {
   "cell_type": "code",
   "execution_count": 268,
   "id": "f2e5fb19-0d71-488a-87b8-0eeadea7520e",
   "metadata": {},
   "outputs": [
    {
     "data": {
      "text/plain": [
       "{'Ajay': 500}"
      ]
     },
     "execution_count": 268,
     "metadata": {},
     "output_type": "execute_result"
    }
   ],
   "source": [
    "b"
   ]
  },
  {
   "cell_type": "code",
   "execution_count": 272,
   "id": "71bd8450-81ba-45d6-b3d1-e1c0277308dc",
   "metadata": {},
   "outputs": [],
   "source": [
    "b['Ajay'] = 700"
   ]
  },
  {
   "cell_type": "code",
   "execution_count": 274,
   "id": "f8b4d885-54a3-4d15-8291-1b838ea99df2",
   "metadata": {},
   "outputs": [
    {
     "data": {
      "text/plain": [
       "{'Ajay': 700}"
      ]
     },
     "execution_count": 274,
     "metadata": {},
     "output_type": "execute_result"
    }
   ],
   "source": [
    "b"
   ]
  },
  {
   "cell_type": "code",
   "execution_count": 276,
   "id": "16ab4b0b-0de3-41d7-abd7-27c607b0c5b0",
   "metadata": {},
   "outputs": [
    {
     "data": {
      "text/plain": [
       "{'Ajay': 700}"
      ]
     },
     "execution_count": 276,
     "metadata": {},
     "output_type": "execute_result"
    }
   ],
   "source": [
    "a"
   ]
  },
  {
   "cell_type": "code",
   "execution_count": 278,
   "id": "024e0261-c5f3-4c64-814b-3bf384fb7b03",
   "metadata": {},
   "outputs": [],
   "source": [
    "a = {'Ajay':500}\n",
    "b = a.copy()"
   ]
  },
  {
   "cell_type": "code",
   "execution_count": 280,
   "id": "f4b44250-f240-4977-9efb-50822b2f0e0a",
   "metadata": {},
   "outputs": [],
   "source": [
    "a['Ajay']  =1000"
   ]
  },
  {
   "cell_type": "code",
   "execution_count": 282,
   "id": "49e2b575-37be-4fcd-b35f-efb5a5132b34",
   "metadata": {},
   "outputs": [
    {
     "data": {
      "text/plain": [
       "{'Ajay': 1000}"
      ]
     },
     "execution_count": 282,
     "metadata": {},
     "output_type": "execute_result"
    }
   ],
   "source": [
    "a"
   ]
  },
  {
   "cell_type": "code",
   "execution_count": 284,
   "id": "10fd6c6c-566e-4d8d-92d4-f8a2e765e8ad",
   "metadata": {},
   "outputs": [
    {
     "data": {
      "text/plain": [
       "{'Ajay': 500}"
      ]
     },
     "execution_count": 284,
     "metadata": {},
     "output_type": "execute_result"
    }
   ],
   "source": [
    "b"
   ]
  },
  {
   "cell_type": "code",
   "execution_count": 286,
   "id": "c8945af8-df53-49d8-b22d-e4fc1b5c7cae",
   "metadata": {},
   "outputs": [],
   "source": [
    "data = ['Aman','Ravi','Mohan','Jatin']"
   ]
  },
  {
   "cell_type": "code",
   "execution_count": 288,
   "id": "210439e1-6659-45e9-bd9a-fcd45e734339",
   "metadata": {},
   "outputs": [],
   "source": [
    "empty = {}"
   ]
  },
  {
   "cell_type": "code",
   "execution_count": 292,
   "id": "7b679450-cc6e-4f66-9802-d4872d4553b6",
   "metadata": {},
   "outputs": [],
   "source": [
    "a = empty.fromkeys(data)"
   ]
  },
  {
   "cell_type": "code",
   "execution_count": 296,
   "id": "c943c63a-d9fe-4f10-9bc5-2dc85ca63d2d",
   "metadata": {},
   "outputs": [],
   "source": [
    "a['Jatin'] = 500"
   ]
  },
  {
   "cell_type": "code",
   "execution_count": 298,
   "id": "9b1eaff4-ef65-42e2-a36f-33bbd0075bb6",
   "metadata": {},
   "outputs": [
    {
     "data": {
      "text/plain": [
       "{'Aman': None, 'Ravi': None, 'Mohan': None, 'Jatin': 500}"
      ]
     },
     "execution_count": 298,
     "metadata": {},
     "output_type": "execute_result"
    }
   ],
   "source": [
    "a"
   ]
  },
  {
   "cell_type": "code",
   "execution_count": 300,
   "id": "82bad2a9-94fb-4ee7-bef0-faa116627b83",
   "metadata": {},
   "outputs": [
    {
     "data": {
      "text/plain": [
       "{'Aman': None, 'Ravi': None, 'Mohan': None, 'Jatin': 500}"
      ]
     },
     "execution_count": 300,
     "metadata": {},
     "output_type": "execute_result"
    }
   ],
   "source": [
    "a"
   ]
  },
  {
   "cell_type": "code",
   "execution_count": 302,
   "id": "e453aec4-17ae-4e32-9a62-07b1ff2a66a0",
   "metadata": {},
   "outputs": [
    {
     "data": {
      "text/plain": [
       "{'kia': 4567, 'Audi': 45678, 'Maruti': 6789, 'Kia': 765}"
      ]
     },
     "execution_count": 302,
     "metadata": {},
     "output_type": "execute_result"
    }
   ],
   "source": [
    "car"
   ]
  },
  {
   "cell_type": "code",
   "execution_count": 304,
   "id": "cd49be2e-724b-403e-b2cc-364536a0da7d",
   "metadata": {},
   "outputs": [
    {
     "data": {
      "text/plain": [
       "6789"
      ]
     },
     "execution_count": 304,
     "metadata": {},
     "output_type": "execute_result"
    }
   ],
   "source": [
    "car['Maruti']"
   ]
  },
  {
   "cell_type": "code",
   "execution_count": 306,
   "id": "17cab7c7-7e15-43f2-8aa9-44377c9debb9",
   "metadata": {},
   "outputs": [],
   "source": [
    "car['Maruti'] = 8"
   ]
  },
  {
   "cell_type": "code",
   "execution_count": 308,
   "id": "6d3d4693-f9f7-4b3d-a900-5deeba2fb974",
   "metadata": {},
   "outputs": [
    {
     "data": {
      "text/plain": [
       "{'kia': 4567, 'Audi': 45678, 'Maruti': 8, 'Kia': 765}"
      ]
     },
     "execution_count": 308,
     "metadata": {},
     "output_type": "execute_result"
    }
   ],
   "source": [
    "car"
   ]
  },
  {
   "cell_type": "code",
   "execution_count": 310,
   "id": "157c7f26-3bdd-4097-9baf-e75a210370df",
   "metadata": {},
   "outputs": [
    {
     "data": {
      "text/plain": [
       "765"
      ]
     },
     "execution_count": 310,
     "metadata": {},
     "output_type": "execute_result"
    }
   ],
   "source": [
    "car.get('Kia')"
   ]
  },
  {
   "cell_type": "code",
   "execution_count": 312,
   "id": "e1498156-1db4-43a5-9b26-92c33b9ea013",
   "metadata": {},
   "outputs": [
    {
     "ename": "SyntaxError",
     "evalue": "cannot assign to function call here. Maybe you meant '==' instead of '='? (1613184576.py, line 1)",
     "output_type": "error",
     "traceback": [
      "\u001b[1;36m  Cell \u001b[1;32mIn[312], line 1\u001b[1;36m\u001b[0m\n\u001b[1;33m    car.get('Kia') = 567\u001b[0m\n\u001b[1;37m    ^\u001b[0m\n\u001b[1;31mSyntaxError\u001b[0m\u001b[1;31m:\u001b[0m cannot assign to function call here. Maybe you meant '==' instead of '='?\n"
     ]
    }
   ],
   "source": [
    "car.get('Kia') = 567"
   ]
  },
  {
   "cell_type": "code",
   "execution_count": 314,
   "id": "ef157542-bf40-4d6e-a26b-35cecdf11f5c",
   "metadata": {},
   "outputs": [
    {
     "data": {
      "text/plain": [
       "{'kia': 4567, 'Audi': 45678, 'Maruti': 8, 'Kia': 765}"
      ]
     },
     "execution_count": 314,
     "metadata": {},
     "output_type": "execute_result"
    }
   ],
   "source": [
    "car"
   ]
  },
  {
   "cell_type": "code",
   "execution_count": 316,
   "id": "1b852519-cdf6-4aaa-81e7-1b7577518441",
   "metadata": {},
   "outputs": [
    {
     "data": {
      "text/plain": [
       "dict_keys(['kia', 'Audi', 'Maruti', 'Kia'])"
      ]
     },
     "execution_count": 316,
     "metadata": {},
     "output_type": "execute_result"
    }
   ],
   "source": [
    "car.keys()"
   ]
  },
  {
   "cell_type": "code",
   "execution_count": 320,
   "id": "dd3fb800-521e-4574-89c9-35c4512da769",
   "metadata": {},
   "outputs": [
    {
     "data": {
      "text/plain": [
       "dict_values([4567, 45678, 8, 765])"
      ]
     },
     "execution_count": 320,
     "metadata": {},
     "output_type": "execute_result"
    }
   ],
   "source": [
    "car.values()"
   ]
  },
  {
   "cell_type": "code",
   "execution_count": 322,
   "id": "0e051b16-f2da-4d51-9aac-959d26003485",
   "metadata": {},
   "outputs": [
    {
     "data": {
      "text/plain": [
       "dict_items([('kia', 4567), ('Audi', 45678), ('Maruti', 8), ('Kia', 765)])"
      ]
     },
     "execution_count": 322,
     "metadata": {},
     "output_type": "execute_result"
    }
   ],
   "source": [
    "car.items()"
   ]
  },
  {
   "cell_type": "code",
   "execution_count": 324,
   "id": "7cc292e7-d96b-48ce-b966-5d66c57fded2",
   "metadata": {},
   "outputs": [
    {
     "data": {
      "text/plain": [
       "['kia', 'Audi', 'Maruti', 'Kia']"
      ]
     },
     "execution_count": 324,
     "metadata": {},
     "output_type": "execute_result"
    }
   ],
   "source": [
    "list(car)"
   ]
  },
  {
   "cell_type": "code",
   "execution_count": 328,
   "id": "c4d02001-c9eb-4312-8ccf-846933a73e63",
   "metadata": {},
   "outputs": [
    {
     "data": {
      "text/plain": [
       "('kia', 'Audi', 'Maruti', 'Kia')"
      ]
     },
     "execution_count": 328,
     "metadata": {},
     "output_type": "execute_result"
    }
   ],
   "source": [
    "tuple(car)"
   ]
  },
  {
   "cell_type": "code",
   "execution_count": 330,
   "id": "cd314f99-cb01-45dd-8154-ee001bb45705",
   "metadata": {},
   "outputs": [
    {
     "data": {
      "text/plain": [
       "{'kia': 4567, 'Audi': 45678, 'Maruti': 8, 'Kia': 765}"
      ]
     },
     "execution_count": 330,
     "metadata": {},
     "output_type": "execute_result"
    }
   ],
   "source": [
    "car"
   ]
  },
  {
   "cell_type": "code",
   "execution_count": 334,
   "id": "8b9c0039-5f59-4cb4-a2d6-2323c8bee250",
   "metadata": {},
   "outputs": [
    {
     "data": {
      "text/plain": [
       "8"
      ]
     },
     "execution_count": 334,
     "metadata": {},
     "output_type": "execute_result"
    }
   ],
   "source": [
    "car.pop('Maruti')"
   ]
  },
  {
   "cell_type": "code",
   "execution_count": 336,
   "id": "7eef9194-e2d5-47dd-8426-5b33c76a42b1",
   "metadata": {},
   "outputs": [
    {
     "data": {
      "text/plain": [
       "{'kia': 4567, 'Audi': 45678, 'Kia': 765}"
      ]
     },
     "execution_count": 336,
     "metadata": {},
     "output_type": "execute_result"
    }
   ],
   "source": [
    "car"
   ]
  },
  {
   "cell_type": "code",
   "execution_count": 340,
   "id": "1588b91e-26e7-47d1-bb76-9b529480383a",
   "metadata": {},
   "outputs": [],
   "source": [
    "del car['Audi']"
   ]
  },
  {
   "cell_type": "code",
   "execution_count": 342,
   "id": "92d7f319-3c24-413d-9a96-94d6a05cc69b",
   "metadata": {},
   "outputs": [
    {
     "data": {
      "text/plain": [
       "{'kia': 4567, 'Kia': 765}"
      ]
     },
     "execution_count": 342,
     "metadata": {},
     "output_type": "execute_result"
    }
   ],
   "source": [
    "car"
   ]
  },
  {
   "cell_type": "code",
   "execution_count": 346,
   "id": "766f269c-4ea4-4e10-ad1d-3181a55cf3cb",
   "metadata": {},
   "outputs": [
    {
     "data": {
      "text/plain": [
       "('Kia', 765)"
      ]
     },
     "execution_count": 346,
     "metadata": {},
     "output_type": "execute_result"
    }
   ],
   "source": [
    "car.popitem()"
   ]
  },
  {
   "cell_type": "code",
   "execution_count": 348,
   "id": "ec60b1c8-326c-4154-ad44-a82952ff4397",
   "metadata": {},
   "outputs": [
    {
     "data": {
      "text/plain": [
       "{'kia': 4567}"
      ]
     },
     "execution_count": 348,
     "metadata": {},
     "output_type": "execute_result"
    }
   ],
   "source": [
    "car"
   ]
  },
  {
   "cell_type": "code",
   "execution_count": 350,
   "id": "99e4b201-b676-45bb-90a5-f0bf45a4d2bc",
   "metadata": {},
   "outputs": [
    {
     "data": {
      "text/plain": [
       "{'Aman': None, 'Ravi': None, 'Mohan': None, 'Jatin': 500}"
      ]
     },
     "execution_count": 350,
     "metadata": {},
     "output_type": "execute_result"
    }
   ],
   "source": [
    "a"
   ]
  },
  {
   "cell_type": "code",
   "execution_count": 352,
   "id": "d3802c39-c4cd-4049-b0d1-60e507e7e487",
   "metadata": {},
   "outputs": [
    {
     "data": {
      "text/plain": [
       "('Jatin', 500)"
      ]
     },
     "execution_count": 352,
     "metadata": {},
     "output_type": "execute_result"
    }
   ],
   "source": [
    "a.popitem()"
   ]
  },
  {
   "cell_type": "code",
   "execution_count": 354,
   "id": "7ce2a0f7-216f-4ff4-a42f-ccf1620ba37d",
   "metadata": {},
   "outputs": [
    {
     "data": {
      "text/plain": [
       "{'Aman': None, 'Ravi': None, 'Mohan': None}"
      ]
     },
     "execution_count": 354,
     "metadata": {},
     "output_type": "execute_result"
    }
   ],
   "source": [
    "a"
   ]
  },
  {
   "cell_type": "code",
   "execution_count": 358,
   "id": "556fe67d-54a2-4327-9641-65aef794f6e4",
   "metadata": {},
   "outputs": [],
   "source": [
    "a.update({'Aman':450})"
   ]
  },
  {
   "cell_type": "code",
   "execution_count": 360,
   "id": "5e6c79d4-c069-47fe-8727-d5c18269465c",
   "metadata": {},
   "outputs": [
    {
     "data": {
      "text/plain": [
       "{'Aman': 450, 'Ravi': None, 'Mohan': None}"
      ]
     },
     "execution_count": 360,
     "metadata": {},
     "output_type": "execute_result"
    }
   ],
   "source": [
    "a"
   ]
  },
  {
   "cell_type": "code",
   "execution_count": 362,
   "id": "85374da4-0fdf-4708-bd3a-b437032b902d",
   "metadata": {},
   "outputs": [],
   "source": [
    "a['Ravi'] = 560"
   ]
  },
  {
   "cell_type": "code",
   "execution_count": 364,
   "id": "7f0d60cc-4bcb-4bb4-be23-077d88132e61",
   "metadata": {},
   "outputs": [
    {
     "data": {
      "text/plain": [
       "{'Aman': 450, 'Ravi': 560, 'Mohan': None}"
      ]
     },
     "execution_count": 364,
     "metadata": {},
     "output_type": "execute_result"
    }
   ],
   "source": [
    "a"
   ]
  },
  {
   "cell_type": "code",
   "execution_count": 366,
   "id": "c8188665-0b06-4ecd-8927-f1f7c9436415",
   "metadata": {},
   "outputs": [],
   "source": [
    "a.update({'Aman': 100, 'Ravi': 200, 'Mohan': 300})"
   ]
  },
  {
   "cell_type": "code",
   "execution_count": 368,
   "id": "13d4c6f5-e124-4251-abed-52a91753b0c5",
   "metadata": {},
   "outputs": [
    {
     "data": {
      "text/plain": [
       "{'Aman': 100, 'Ravi': 200, 'Mohan': 300}"
      ]
     },
     "execution_count": 368,
     "metadata": {},
     "output_type": "execute_result"
    }
   ],
   "source": [
    "a"
   ]
  },
  {
   "cell_type": "code",
   "execution_count": 372,
   "id": "7aca8d89-41d1-4b49-8e4f-c459699ebf77",
   "metadata": {},
   "outputs": [],
   "source": [
    "a.update({'Jatin':550})"
   ]
  },
  {
   "cell_type": "code",
   "execution_count": 374,
   "id": "a2716465-bd00-4786-87ee-d2a69a249f77",
   "metadata": {},
   "outputs": [
    {
     "data": {
      "text/plain": [
       "{'Aman': 100, 'Ravi': 200, 'Mohan': 300, 'Jatin': 550}"
      ]
     },
     "execution_count": 374,
     "metadata": {},
     "output_type": "execute_result"
    }
   ],
   "source": [
    "a"
   ]
  },
  {
   "cell_type": "code",
   "execution_count": 376,
   "id": "a98310ed-91b9-461e-83b7-9d63acdeba6e",
   "metadata": {},
   "outputs": [],
   "source": [
    "a.update({'Jatin':250})"
   ]
  },
  {
   "cell_type": "code",
   "execution_count": 378,
   "id": "a307ccc1-00fb-4c51-93f6-a07e292ae8e8",
   "metadata": {},
   "outputs": [
    {
     "data": {
      "text/plain": [
       "{'Aman': 100, 'Ravi': 200, 'Mohan': 300, 'Jatin': 250}"
      ]
     },
     "execution_count": 378,
     "metadata": {},
     "output_type": "execute_result"
    }
   ],
   "source": [
    "a"
   ]
  },
  {
   "cell_type": "code",
   "execution_count": 386,
   "id": "18791018-7150-47d9-b9f6-1d402130b3a0",
   "metadata": {},
   "outputs": [],
   "source": [
    "a.setdefault(('Jatin',900))"
   ]
  },
  {
   "cell_type": "code",
   "execution_count": 388,
   "id": "e55d6286-3e0c-4b77-a8ee-fdf2fe6434da",
   "metadata": {},
   "outputs": [
    {
     "data": {
      "text/plain": [
       "{'Aman': 100, 'Ravi': 200, 'Mohan': 300, 'Jatin': 250, ('Jatin', 900): None}"
      ]
     },
     "execution_count": 388,
     "metadata": {},
     "output_type": "execute_result"
    }
   ],
   "source": [
    "a"
   ]
  },
  {
   "cell_type": "code",
   "execution_count": 390,
   "id": "a4194ae9-1e78-428c-9242-efd232dda767",
   "metadata": {},
   "outputs": [
    {
     "data": {
      "text/plain": [
       "300"
      ]
     },
     "execution_count": 390,
     "metadata": {},
     "output_type": "execute_result"
    }
   ],
   "source": [
    "a.setdefault('Mohan',500)"
   ]
  },
  {
   "cell_type": "code",
   "execution_count": 392,
   "id": "0f6cccf8-7fd4-416d-af83-8115141ddf49",
   "metadata": {},
   "outputs": [
    {
     "data": {
      "text/plain": [
       "{'Aman': 100, 'Ravi': 200, 'Mohan': 300, 'Jatin': 250, ('Jatin', 900): None}"
      ]
     },
     "execution_count": 392,
     "metadata": {},
     "output_type": "execute_result"
    }
   ],
   "source": [
    "a"
   ]
  },
  {
   "cell_type": "code",
   "execution_count": 394,
   "id": "470fcd60-c0ea-47ca-ad82-d2dbeec6fc76",
   "metadata": {},
   "outputs": [
    {
     "data": {
      "text/plain": [
       "550"
      ]
     },
     "execution_count": 394,
     "metadata": {},
     "output_type": "execute_result"
    }
   ],
   "source": [
    "a.setdefault('lucky',550)"
   ]
  },
  {
   "cell_type": "code",
   "execution_count": 396,
   "id": "68127d8e-122d-4a09-ab86-3cadc8266095",
   "metadata": {},
   "outputs": [
    {
     "data": {
      "text/plain": [
       "{'Aman': 100,\n",
       " 'Ravi': 200,\n",
       " 'Mohan': 300,\n",
       " 'Jatin': 250,\n",
       " ('Jatin', 900): None,\n",
       " 'lucky': 550}"
      ]
     },
     "execution_count": 396,
     "metadata": {},
     "output_type": "execute_result"
    }
   ],
   "source": [
    "a"
   ]
  },
  {
   "cell_type": "code",
   "execution_count": 398,
   "id": "f18fd0b0-0064-453c-a300-b4058d1aaf1f",
   "metadata": {},
   "outputs": [
    {
     "data": {
      "text/plain": [
       "dict_values([100, 200, 300, 250, None, 550])"
      ]
     },
     "execution_count": 398,
     "metadata": {},
     "output_type": "execute_result"
    }
   ],
   "source": [
    "a.values()"
   ]
  },
  {
   "cell_type": "code",
   "execution_count": null,
   "id": "f047454d-c9b1-4e14-aabc-c1daa4953ae8",
   "metadata": {},
   "outputs": [],
   "source": []
  }
 ],
 "metadata": {
  "kernelspec": {
   "display_name": "Python [conda env:base] *",
   "language": "python",
   "name": "conda-base-py"
  },
  "language_info": {
   "codemirror_mode": {
    "name": "ipython",
    "version": 3
   },
   "file_extension": ".py",
   "mimetype": "text/x-python",
   "name": "python",
   "nbconvert_exporter": "python",
   "pygments_lexer": "ipython3",
   "version": "3.12.7"
  }
 },
 "nbformat": 4,
 "nbformat_minor": 5
}
