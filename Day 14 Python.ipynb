{
 "cells": [
  {
   "cell_type": "markdown",
   "id": "c23fdff5-f356-4a5c-8502-0dd621bde2e2",
   "metadata": {},
   "source": [
    "# While Loop"
   ]
  },
  {
   "cell_type": "code",
   "execution_count": 2,
   "id": "96c87210-fee7-4dd6-98b1-f1a7ca83d3c3",
   "metadata": {},
   "outputs": [],
   "source": [
    "# While : when we have a specific condition, loop run conditionaly"
   ]
  },
  {
   "cell_type": "markdown",
   "id": "f0f84c9c-48ea-4482-b034-7f7ecf5f2e86",
   "metadata": {},
   "source": [
    "# Table Print"
   ]
  },
  {
   "cell_type": "code",
   "execution_count": 19,
   "id": "70b8e828-1d09-48df-8a9f-e62b6e4748cc",
   "metadata": {},
   "outputs": [
    {
     "name": "stdout",
     "output_type": "stream",
     "text": [
      "125 x 1 = 125\n",
      "125 x 2 = 250\n",
      "125 x 3 = 375\n",
      "125 x 4 = 500\n",
      "125 x 5 = 625\n",
      "125 x 6 = 750\n",
      "125 x 7 = 875\n",
      "125 x 8 = 1000\n",
      "125 x 9 = 1125\n",
      "125 x 10 = 1250\n"
     ]
    }
   ],
   "source": [
    "table = 125\n",
    "counter = 1\n",
    "while counter <= 10:\n",
    "    print(f'{table} x {counter} = {table * counter}')\n",
    "\n",
    "    counter += 1 "
   ]
  },
  {
   "cell_type": "code",
   "execution_count": null,
   "id": "55b55a13-385e-4377-a241-d1d7fc163d74",
   "metadata": {},
   "outputs": [],
   "source": []
  },
  {
   "cell_type": "markdown",
   "id": "d131dbe9-de16-4ed6-b9e2-220d3b0de3a1",
   "metadata": {},
   "source": [
    "# Problem 2"
   ]
  },
  {
   "cell_type": "code",
   "execution_count": 31,
   "id": "b52d1fe6-a00f-4e73-8d26-f1b635730523",
   "metadata": {},
   "outputs": [
    {
     "name": "stdout",
     "output_type": "stream",
     "text": [
      "All List [20, 435, 35, 5, 45, 5]\n"
     ]
    }
   ],
   "source": [
    "data = [20,4,435,35,5,324,56,643,4,45,6,34,5,67,563457,7]\n",
    "divisible_by_5 = []\n",
    "c = 0\n",
    "\n",
    "while c < len(data ):\n",
    "    if data[c] % 5 == 0:\n",
    "        divisible_by_5.append(data[c])\n",
    "    c += 1\n",
    "\n",
    "print('All List',divisible_by_5)"
   ]
  },
  {
   "cell_type": "markdown",
   "id": "36a18801-a3a7-47d3-a83a-56c23e883154",
   "metadata": {},
   "source": [
    "# Problem 3: Nested While Loop"
   ]
  },
  {
   "cell_type": "code",
   "execution_count": 53,
   "id": "fb34e5bf-da8c-48d3-abc0-f7aa54c4c787",
   "metadata": {},
   "outputs": [
    {
     "name": "stdout",
     "output_type": "stream",
     "text": [
      "Common List:  [34, 56, 64]\n"
     ]
    }
   ],
   "source": [
    "data_1 = [2,35,34,56,64,67]\n",
    "data_2 = [34,5,64,56,8]\n",
    "common = []\n",
    "c1,c2 = 0,0\n",
    "while c1 < len(data_1):\n",
    "    while c2 < len(data_2):\n",
    "        if data_1[c1]==data_2[c2]:\n",
    "            common.append(data_1[c1])   \n",
    "        c2 += 1\n",
    "    c1 += 1\n",
    "    c2 = 0\n",
    "print('Common List: ',common)"
   ]
  },
  {
   "cell_type": "code",
   "execution_count": null,
   "id": "51ea1d55-cbfb-4410-83bc-8aa596fa79d4",
   "metadata": {},
   "outputs": [],
   "source": []
  },
  {
   "cell_type": "code",
   "execution_count": 60,
   "id": "b0a677a5-80b4-4a1e-ac81-59583186e68e",
   "metadata": {},
   "outputs": [
    {
     "name": "stdout",
     "output_type": "stream",
     "text": [
      "URL>>: https://www.medium.com\n",
      "URL>>: https://www.reddit.com/r/SEO\n",
      "URL>>: https://www.quora.com\n",
      "URL>>: https://www.linkedin.com\n",
      "URL>>: https://www.yelp.com\n",
      "URL>>: https://www.crunchbase.com\n",
      "URL>>: https://www.ahrefs.com/blog\n",
      "URL>>: https://moz.com/blog\n",
      "URL>>: https://www.forbes.com\n",
      "URL>>: https://www.prnewswire.com\n"
     ]
    }
   ],
   "source": [
    "import webbrowser\n",
    "import time\n",
    "top_backlink_urls = [\n",
    "    \"https://www.medium.com\",\n",
    "    \"https://www.reddit.com/r/SEO\",\n",
    "    \"https://www.quora.com\",\n",
    "    \"https://www.linkedin.com\",\n",
    "    \"https://www.yelp.com\",\n",
    "    \"https://www.crunchbase.com\",\n",
    "    \"https://www.ahrefs.com/blog\",\n",
    "    \"https://moz.com/blog\",\n",
    "    \"https://www.forbes.com\",\n",
    "    \"https://www.prnewswire.com\"\n",
    "]\n",
    "c = 0\n",
    "while c < len(top_backlink_urls):\n",
    "    url = top_backlink_urls[c]\n",
    "    webbrowser.open_new(url)\n",
    "    time.sleep(0.5)\n",
    "    print(f'URL>>: {url}')\n",
    "    c += 1"
   ]
  },
  {
   "cell_type": "code",
   "execution_count": 62,
   "id": "c0079893-2040-4eac-86c8-d5123e9e220a",
   "metadata": {},
   "outputs": [
    {
     "name": "stdout",
     "output_type": "stream",
     "text": [
      "Done\n"
     ]
    }
   ],
   "source": [
    "import pyautogui\n",
    "print('Done')"
   ]
  },
  {
   "cell_type": "code",
   "execution_count": 64,
   "id": "ee30c159-1044-4cb3-a593-cf71f58981c2",
   "metadata": {},
   "outputs": [],
   "source": []
  },
  {
   "cell_type": "code",
   "execution_count": 66,
   "id": "fcbe4bde-ab4f-4978-860f-b7b1b812abc2",
   "metadata": {},
   "outputs": [],
   "source": []
  },
  {
   "cell_type": "code",
   "execution_count": 73,
   "id": "8f293efc-f508-4547-8809-993bd215d23f",
   "metadata": {},
   "outputs": [
    {
     "ename": "KeyboardInterrupt",
     "evalue": "",
     "output_type": "error",
     "traceback": [
      "\u001b[1;31m---------------------------------------------------------------------------\u001b[0m",
      "\u001b[1;31mKeyboardInterrupt\u001b[0m                         Traceback (most recent call last)",
      "Cell \u001b[1;32mIn[73], line 11\u001b[0m\n\u001b[0;32m      9\u001b[0m alpha \u001b[38;5;241m=\u001b[39m random\u001b[38;5;241m.\u001b[39mchoice(all_char)\n\u001b[0;32m     10\u001b[0m pyautogui\u001b[38;5;241m.\u001b[39mpress(alpha)\n\u001b[1;32m---> 11\u001b[0m time\u001b[38;5;241m.\u001b[39msleep(\u001b[38;5;241m0.5\u001b[39m)\n",
      "\u001b[1;31mKeyboardInterrupt\u001b[0m: "
     ]
    }
   ],
   "source": [
    "import string\n",
    "import random\n",
    "import pyautogui\n",
    "import time\n",
    "\n",
    "all_char = string.ascii_letters\n",
    "# time.sleep(4)\n",
    "while True:\n",
    "    alpha = random.choice(all_char)\n",
    "    pyautogui.press(alpha)\n",
    "    time.sleep(0.5)"
   ]
  },
  {
   "cell_type": "code",
   "execution_count": null,
   "id": "4c80a482-6bbb-421d-905b-abb9b9aa6177",
   "metadata": {},
   "outputs": [],
   "source": []
  },
  {
   "cell_type": "markdown",
   "id": "b05e5412-4727-4a56-b8f4-756bcf681d42",
   "metadata": {},
   "source": [
    "# Pattern Printing"
   ]
  },
  {
   "cell_type": "code",
   "execution_count": 77,
   "id": "ed9e910f-30b5-4b05-bbe8-8d6e75d8bdcb",
   "metadata": {},
   "outputs": [],
   "source": [
    "# *\n",
    "# * * \n",
    "# * * * \n",
    "# * * * *"
   ]
  },
  {
   "cell_type": "code",
   "execution_count": 83,
   "id": "7be0c4cd-f96d-4d6f-9794-54561085dac9",
   "metadata": {},
   "outputs": [
    {
     "name": "stdout",
     "output_type": "stream",
     "text": [
      "* \n",
      "* * \n",
      "* * * \n",
      "* * * * \n",
      "* * * * * \n"
     ]
    }
   ],
   "source": [
    "n = 5\n",
    "\n",
    "for i in range(1,n+1):\n",
    "    print(i * '* ')"
   ]
  },
  {
   "cell_type": "code",
   "execution_count": null,
   "id": "31b83dc7-fc71-4a22-881d-80d1a6089ddf",
   "metadata": {},
   "outputs": [],
   "source": [
    "# Pattern Print\n",
    "# Exception Handling\n",
    "# Functional Programming\n",
    "# Modules\n",
    "# File handling\n",
    "# OOPS \n",
    "# DB Connectivity\n",
    "# WebScraping: Project\n",
    "# Numpy\n",
    "# Pandas\n",
    "# Matplotlib, Seaborn\n",
    "# Final Project\n"
   ]
  }
 ],
 "metadata": {
  "kernelspec": {
   "display_name": "Python [conda env:base] *",
   "language": "python",
   "name": "conda-base-py"
  },
  "language_info": {
   "codemirror_mode": {
    "name": "ipython",
    "version": 3
   },
   "file_extension": ".py",
   "mimetype": "text/x-python",
   "name": "python",
   "nbconvert_exporter": "python",
   "pygments_lexer": "ipython3",
   "version": "3.12.7"
  }
 },
 "nbformat": 4,
 "nbformat_minor": 5
}
