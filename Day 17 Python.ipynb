{
 "cells": [
  {
   "cell_type": "markdown",
   "id": "86fa21ae-fc95-4125-8632-603f6adaf5d0",
   "metadata": {},
   "source": [
    "# Functional Programming\n",
    "#  User-defined-Function: UDF"
   ]
  },
  {
   "cell_type": "code",
   "execution_count": 2,
   "id": "833d5d6e-992b-410e-9ef8-729ca2eede8e",
   "metadata": {},
   "outputs": [
    {
     "name": "stdin",
     "output_type": "stream",
     "text": [
      "Enter you name:  jatin\n"
     ]
    },
    {
     "name": "stdout",
     "output_type": "stream",
     "text": [
      "Hello jatin. How are you??\n"
     ]
    }
   ],
   "source": [
    "# we will Wrap complete code in a single unit block>> Function\n",
    "\n",
    "name = input('Enter you name: ')\n",
    "\n",
    "print(f'Hello {name}. How are you??')"
   ]
  },
  {
   "cell_type": "code",
   "execution_count": null,
   "id": "5375cf8c-33a6-4e99-a541-34ebf7e16b5d",
   "metadata": {},
   "outputs": [],
   "source": []
  },
  {
   "cell_type": "code",
   "execution_count": 18,
   "id": "372f4b54-6661-4d11-9d8c-d27835e26c01",
   "metadata": {},
   "outputs": [
    {
     "name": "stdout",
     "output_type": "stream",
     "text": [
      "Hello Buddy, how are you??\n"
     ]
    }
   ],
   "source": [
    "say_hello()"
   ]
  },
  {
   "cell_type": "code",
   "execution_count": null,
   "id": "46cf0552-7ef6-4e58-bf88-b7dd850dce20",
   "metadata": {},
   "outputs": [],
   "source": []
  },
  {
   "cell_type": "code",
   "execution_count": 82,
   "id": "d46fa43c-50d2-4ac7-9ea6-45c956de8e43",
   "metadata": {},
   "outputs": [
    {
     "data": {
      "text/plain": [
       "\"Hi! Jatin, How's everything?\""
      ]
     },
     "execution_count": 82,
     "metadata": {},
     "output_type": "execute_result"
    }
   ],
   "source": [
    "greet('Jatin')"
   ]
  },
  {
   "cell_type": "code",
   "execution_count": null,
   "id": "95829da4-c2fd-4221-b45e-928eab243746",
   "metadata": {},
   "outputs": [],
   "source": []
  },
  {
   "cell_type": "code",
   "execution_count": null,
   "id": "0517fbf3-426e-4833-8fdd-98b9c71fec16",
   "metadata": {},
   "outputs": [],
   "source": []
  },
  {
   "cell_type": "code",
   "execution_count": 10,
   "id": "e966ccfc-e1ad-4529-8c90-8c444ecd87e6",
   "metadata": {},
   "outputs": [],
   "source": [
    "# def function_name():\n",
    "#     code block etc..\n",
    "    # print('to show just message')\n",
    "    # return your_ans"
   ]
  },
  {
   "cell_type": "code",
   "execution_count": 14,
   "id": "02f02fd6-c727-4256-ab02-a9e373c082db",
   "metadata": {},
   "outputs": [],
   "source": [
    "def say_hello():\n",
    "    print('Hello Buddy, how are you??')"
   ]
  },
  {
   "cell_type": "code",
   "execution_count": 16,
   "id": "5fd8976e-3fd1-4cf7-9481-299f38c4aeb2",
   "metadata": {},
   "outputs": [
    {
     "name": "stdout",
     "output_type": "stream",
     "text": [
      "Hello Buddy, how are you??\n"
     ]
    }
   ],
   "source": [
    "say_hello()"
   ]
  },
  {
   "cell_type": "code",
   "execution_count": 20,
   "id": "5d1313ae-00f2-448b-b80c-9be954fe3c09",
   "metadata": {},
   "outputs": [],
   "source": [
    "# inbuilt func>> Already available>>\n",
    "# min(), max(), sum(), round, id, len, input(), etc.."
   ]
  },
  {
   "cell_type": "code",
   "execution_count": 22,
   "id": "0ce05c73-8538-433c-bfda-b2e01d86a8ed",
   "metadata": {},
   "outputs": [],
   "source": [
    "# User-defined-Function: UDF"
   ]
  },
  {
   "cell_type": "code",
   "execution_count": 25,
   "id": "34b746e8-0bb6-4d28-bc21-b969e643e5d8",
   "metadata": {},
   "outputs": [],
   "source": [
    "# # UDF >>\n",
    "#     1. without parameter  Ex>> say_hello\n",
    "#     2. With parameter >> it takes arguments >> greet"
   ]
  },
  {
   "cell_type": "code",
   "execution_count": 47,
   "id": "2fb8d069-3b6e-4a54-92f8-7f5cf2a215a1",
   "metadata": {},
   "outputs": [],
   "source": [
    "def greet(name):\n",
    "    import random\n",
    "    all_message = ['Hello!','Hi!','Welcome!','Hey!','Whatsup!! man']\n",
    "\n",
    "    start_msg = random.choice(all_message)\n",
    "\n",
    "    last_all_msg =  [\n",
    "    \"How's it going?\",\n",
    "    \"How are you doing?\",\n",
    "    \"What's up?\",\n",
    "    \"How are things?\",\n",
    "    \"How have you been?\",\n",
    "    \"How's everything?\",\n",
    "    \"How's life treating you?\",\n",
    "    \"What's good?\",\n",
    "    \"How's your day going?\",\n",
    "    \"How are things with you?\"]\n",
    "\n",
    "    last_msg = random.choice(last_all_msg)\n",
    "    \n",
    "    final_message = f'{start_msg} {name}, {last_msg}'\n",
    "    \n",
    "    return final_message"
   ]
  },
  {
   "cell_type": "code",
   "execution_count": 66,
   "id": "95d1047d-cced-47d0-8389-d4b1d4f6e98e",
   "metadata": {},
   "outputs": [
    {
     "data": {
      "text/plain": [
       "\"Hi! Lucky, How's everything?\""
      ]
     },
     "execution_count": 66,
     "metadata": {},
     "output_type": "execute_result"
    }
   ],
   "source": [
    "greet('Lucky')"
   ]
  },
  {
   "cell_type": "code",
   "execution_count": 88,
   "id": "d6c26052-8388-49f1-bf58-b2b279953452",
   "metadata": {},
   "outputs": [
    {
     "ename": "TypeError",
     "evalue": "greet() missing 1 required positional argument: 'name'",
     "output_type": "error",
     "traceback": [
      "\u001b[1;31m---------------------------------------------------------------------------\u001b[0m",
      "\u001b[1;31mTypeError\u001b[0m                                 Traceback (most recent call last)",
      "Cell \u001b[1;32mIn[88], line 1\u001b[0m\n\u001b[1;32m----> 1\u001b[0m greet()\n",
      "\u001b[1;31mTypeError\u001b[0m: greet() missing 1 required positional argument: 'name'"
     ]
    }
   ],
   "source": [
    "greet()"
   ]
  },
  {
   "cell_type": "code",
   "execution_count": 86,
   "id": "958beee2-5439-4d63-9410-f2cc90160c2b",
   "metadata": {},
   "outputs": [],
   "source": [
    "# diff b/w parameter and arguments"
   ]
  },
  {
   "cell_type": "code",
   "execution_count": 133,
   "id": "d9ee30f2-7735-48b8-83d8-179dbb64d787",
   "metadata": {},
   "outputs": [],
   "source": [
    "customer_query_database = {'Name':[],'Ticket ID':[], 'Customer_concerns':[],'Query':[],'Ticket_date':[]}    \n",
    "\n",
    "def chat_bot():\n",
    " \n",
    "    import random\n",
    "    import time\n",
    "    \n",
    "    customer_name = input('Enter your name: ')\n",
    "    customer_query_database['Name'].append(customer_name)\n",
    "    print(greet(customer_name))\n",
    "    time.sleep(2)\n",
    "    \n",
    "    print('📞📞Connecting with our customer care wait!!.',end = '')\n",
    "    for i in range(5):\n",
    "        print('.',end = '')\n",
    "        time.sleep(1)\n",
    "\n",
    "    customer_care_names = [\"Aarav Kumar\",\"Priya Sharma\",\"Vikram Singh\",\"Ananya Gupta\",\"Rajesh Reddy\",\"Neha Patel\",\"Kunal Verma\",\"Sneha Iyer\"]\n",
    "\n",
    "    active_customer = random.choice(customer_care_names)\n",
    "\n",
    "    greeting_messages = [\n",
    "    \"Hello! How can I assist you today?\",\n",
    "    \"Good day! How can we help you?\",\n",
    "    \"Hi there! Thank you for reaching out. How may I assist you?\",\n",
    "    \"Welcome! How can I make your experience better today?\",\n",
    "    \"Greetings! How can I assist you with your concerns?\",\n",
    "    \"Good morning/afternoon/evening! How can I help you today?\",\n",
    "    \"Thank you for contacting us! What can we do for you?\",\n",
    "    \"Hello and welcome! How may I assist you with your query?\",\n",
    "    \"Hi! Let me know how I can assist you today.\",\n",
    "    \"Welcome! How can I be of service to you today?\" ]\n",
    "\n",
    "    customer_care_msg = random.choice(greeting_messages)\n",
    "\n",
    "    print(f\"\\nHello I'm {active_customer}\",end = '')\n",
    "    for i in range(2):\n",
    "        print('.',end = '')\n",
    "        time.sleep(1)\n",
    "        \n",
    "    print('\\n'+customer_care_msg)\n",
    "\n",
    "    customer_concerns = {\n",
    "                        \"Technical Issues\": [\n",
    "                            \"Difficulty logging in to the platform\",\n",
    "                            \"Issues with video playback or audio quality\",\n",
    "                            \"Inability to access certain course materials\",\n",
    "                            \"App crashes or freezes during use\",\n",
    "                            \"Problems with content loading or buffering\"\n",
    "                        ],\n",
    "                        \n",
    "                        \"Account & Billing\": [\n",
    "                            \"Issues with subscription or payment processing\",\n",
    "                            \"Questions regarding refund policy\",\n",
    "                            \"Billing discrepancies or overcharging\",\n",
    "                            \"Difficulty updating payment information\",\n",
    "                            \"Account suspension or deactivation issues\"\n",
    "                        ],\n",
    "                        \n",
    "                        \"Course Content & Quality\": [\n",
    "                            \"Requests for more detailed or advanced course material\",\n",
    "                            \"Issues with the course layout or design\",\n",
    "                            \"Desire for more interactive learning methods\",\n",
    "                            \"Confusion about course prerequisites or requirements\",\n",
    "                            \"Complaints about outdated or inaccurate content\"\n",
    "                        ],\n",
    "                        \n",
    "                        \"Customer Support & Service\": [\n",
    "                            \"Delayed responses from customer support\",\n",
    "                            \"Difficulty reaching a representative or live chat issue\",\n",
    "                            \"Lack of personalized assistance or guidance\",\n",
    "                            \"Unresolved inquiries or support tickets\",\n",
    "                            \"Negative experience with a support representative\"\n",
    "                        ],\n",
    "                        \n",
    "                        \"Platform Usability & Features\": [\n",
    "                            \"Difficulty navigating the platform interface\",\n",
    "                            \"Missing or non-functional features (e.g., bookmarking, progress tracking)\",\n",
    "                            \"Suggestions for new features or improvements\",\n",
    "                            \"Mobile app usability concerns\",\n",
    "                            \"Requests for language or accessibility options\"\n",
    "                        ]\n",
    "                    }\n",
    "\n",
    "    print('Select you concern: ')\n",
    "    for index,key in enumerate(customer_concerns):\n",
    "        print(f'     {index+1}. {key}')\n",
    "\n",
    "    \n",
    "    concern_input = int(input('Enter Value here: '))\n",
    "    time.sleep(2)\n",
    "    if 1<=concern_input<=5:\n",
    "        concern_topic = list(customer_concerns)[concern_input-1]\n",
    "        customer_query_database['Customer_concerns'].append(concern_topic)\n",
    "        \n",
    "        for ix,msg in enumerate(customer_concerns[concern_topic]):\n",
    "            print(f'     {ix+1}. {msg}')\n",
    "\n",
    "        query_input = int(input('Select Value here: '))\n",
    "        \n",
    "        query_msg = customer_concerns[concern_topic][query_input-1]\n",
    "\n",
    "        customer_query_database['Query'].append(query_msg)\n",
    "        \n",
    "        if 1<=query_input<=5:\n",
    "            all_closing_messages = [\n",
    "                \"Thank you for reaching out! Let us know if you need further help.\",\n",
    "                \"We’re happy to assist you! Feel free to contact us anytime.\",\n",
    "                \"Thanks for your time! We’re here if you need anything else.\",\n",
    "                \"Your satisfaction matters! Don’t hesitate to reach out again.\",\n",
    "                \"It was a pleasure helping you! Have a great day ahead!\"]\n",
    "\n",
    "            final_closing_msg = random.choice(all_closing_messages)\n",
    "            time.sleep(2)\n",
    "            print(\"😊\"+final_closing_msg+\"😊\")\n",
    "            ticket_id = 'G'+str(random.randint(11111111,99999999))+'T'\n",
    "            \n",
    "            print(f'''Save this Ticket ID for Ref:\n",
    "            Ticket ID: {ticket_id}''')\n",
    "\n",
    "            customer_query_database['Ticket ID'].append(ticket_id)\n",
    "            customer_query_database['Ticket_date'].append(time.asctime())\n",
    "        else:\n",
    "            print('Invalid Input')\n",
    "    else:\n",
    "        print('Invalid Input')\n",
    "    display(clear=True)\n",
    "    "
   ]
  },
  {
   "cell_type": "code",
   "execution_count": 149,
   "id": "252008ce-df83-48bd-8881-5053fc512b61",
   "metadata": {},
   "outputs": [
    {
     "name": "stdin",
     "output_type": "stream",
     "text": [
      "Enter your name:  Harshit Verma\n"
     ]
    },
    {
     "name": "stdout",
     "output_type": "stream",
     "text": [
      "Hey! Harshit Verma, What's good?\n",
      "📞📞Connecting with our customer care wait!!......\n",
      "Hello I'm Sneha Iyer..\n",
      "Good day! How can we help you?\n",
      "Select you concern: \n",
      "     1. Technical Issues\n",
      "     2. Account & Billing\n",
      "     3. Course Content & Quality\n",
      "     4. Customer Support & Service\n",
      "     5. Platform Usability & Features\n"
     ]
    },
    {
     "name": "stdin",
     "output_type": "stream",
     "text": [
      "Enter Value here:  1\n"
     ]
    },
    {
     "name": "stdout",
     "output_type": "stream",
     "text": [
      "     1. Difficulty logging in to the platform\n",
      "     2. Issues with video playback or audio quality\n",
      "     3. Inability to access certain course materials\n",
      "     4. App crashes or freezes during use\n",
      "     5. Problems with content loading or buffering\n"
     ]
    },
    {
     "name": "stdin",
     "output_type": "stream",
     "text": [
      "Select Value here:  5\n"
     ]
    },
    {
     "name": "stdout",
     "output_type": "stream",
     "text": [
      "😊Your satisfaction matters! Don’t hesitate to reach out again.😊\n",
      "Save this Ticket ID for Ref:\n",
      "            Ticket ID: G57708871T\n"
     ]
    }
   ],
   "source": [
    "chat_bot()"
   ]
  },
  {
   "cell_type": "code",
   "execution_count": null,
   "id": "dd6e8652-bf9a-469f-a14d-49308c66ef30",
   "metadata": {},
   "outputs": [],
   "source": []
  },
  {
   "cell_type": "code",
   "execution_count": 145,
   "id": "96dd7fb8-e7f5-45b9-8c79-914e0588bc35",
   "metadata": {},
   "outputs": [],
   "source": [
    "def show_all_tickets(admin=True):\n",
    "    import pandas as pd\n",
    "    if admin == True:\n",
    "        ticket_df = pd.DataFrame(customer_query_database)\n",
    "        return ticket_df\n",
    "    else:\n",
    "        print('You are not allowed to view!!')"
   ]
  },
  {
   "cell_type": "code",
   "execution_count": 157,
   "id": "05d00560-52e1-4c03-86d4-a222e61988e3",
   "metadata": {},
   "outputs": [],
   "source": [
    "show_all_tickets(admin=True).to_excel('Ticket.xlsx')"
   ]
  },
  {
   "cell_type": "code",
   "execution_count": null,
   "id": "21630922-453b-41b5-83e5-413c031fd65f",
   "metadata": {},
   "outputs": [],
   "source": [
    "show_all_tickets(admin=True)"
   ]
  }
 ],
 "metadata": {
  "kernelspec": {
   "display_name": "Python [conda env:base] *",
   "language": "python",
   "name": "conda-base-py"
  },
  "language_info": {
   "codemirror_mode": {
    "name": "ipython",
    "version": 3
   },
   "file_extension": ".py",
   "mimetype": "text/x-python",
   "name": "python",
   "nbconvert_exporter": "python",
   "pygments_lexer": "ipython3",
   "version": "3.12.7"
  }
 },
 "nbformat": 4,
 "nbformat_minor": 5
}
