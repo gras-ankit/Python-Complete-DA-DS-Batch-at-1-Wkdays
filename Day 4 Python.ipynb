{
 "cells": [
  {
   "cell_type": "code",
   "execution_count": 1,
   "id": "cb94b6c8-d030-47dd-ab9c-92870e02da1a",
   "metadata": {},
   "outputs": [
    {
     "name": "stdout",
     "output_type": "stream",
     "text": [
      "\n",
      "Here is a list of the Python keywords.  Enter any keyword to get more help.\n",
      "\n",
      "False               class               from                or\n",
      "None                continue            global              pass\n",
      "True                def                 if                  raise\n",
      "and                 del                 import              return\n",
      "as                  elif                in                  try\n",
      "assert              else                is                  while\n",
      "async               except              lambda              with\n",
      "await               finally             nonlocal            yield\n",
      "break               for                 not                 \n",
      "\n"
     ]
    }
   ],
   "source": [
    "help('keywords')"
   ]
  },
  {
   "cell_type": "code",
   "execution_count": null,
   "id": "54c7dc19-40df-4931-9ed7-113acf392f17",
   "metadata": {},
   "outputs": [],
   "source": []
  },
  {
   "cell_type": "markdown",
   "id": "37b6ef4e-1dfc-4143-8188-2f0df806d5c9",
   "metadata": {},
   "source": [
    "# data Types "
   ]
  },
  {
   "cell_type": "code",
   "execution_count": 5,
   "id": "b5bcac0c-7d9e-4ce5-b842-0b9ad9a58817",
   "metadata": {},
   "outputs": [],
   "source": [
    "# int, float, complex\n",
    "# str, tuple, list\n",
    "# dict, set, bool, None"
   ]
  },
  {
   "cell_type": "markdown",
   "id": "a7efbb62-9edf-4ecb-8553-182a25457cdf",
   "metadata": {},
   "source": [
    "# str: String : Textual Data, "
   ]
  },
  {
   "cell_type": "code",
   "execution_count": 10,
   "id": "74559ab5-0012-4c21-8265-bb8952ba00ff",
   "metadata": {},
   "outputs": [
    {
     "name": "stdout",
     "output_type": "stream",
     "text": [
      "Hello <class 'str'>\n"
     ]
    }
   ],
   "source": [
    "a = 'Hello'\n",
    "print(a,type(a))"
   ]
  },
  {
   "cell_type": "code",
   "execution_count": 14,
   "id": "bca41bac-d0d8-4dec-bc35-a94a9da62ad6",
   "metadata": {},
   "outputs": [
    {
     "name": "stdout",
     "output_type": "stream",
     "text": [
      "Hello world <class 'str'>\n"
     ]
    }
   ],
   "source": [
    "a = \"Hello world\"\n",
    "print(a,type(a))"
   ]
  },
  {
   "cell_type": "code",
   "execution_count": 24,
   "id": "c665c211-1e51-4023-8eb2-c38a37db3a1b",
   "metadata": {},
   "outputs": [
    {
     "name": "stdout",
     "output_type": "stream",
     "text": [
      "This i's Py'thon's Class\n"
     ]
    }
   ],
   "source": [
    "a   = \"This i's Py'thon's Class\"\n",
    "print(a)"
   ]
  },
  {
   "cell_type": "code",
   "execution_count": 30,
   "id": "47e7ac37-2a34-4680-9b42-273c806a433d",
   "metadata": {},
   "outputs": [
    {
     "ename": "SyntaxError",
     "evalue": "unterminated string literal (detected at line 1) (477618077.py, line 1)",
     "output_type": "error",
     "traceback": [
      "\u001b[1;36m  Cell \u001b[1;32mIn[30], line 1\u001b[1;36m\u001b[0m\n\u001b[1;33m    msg = '\"All our dreams can come true if we have the courage to pursue them.\"- Walt's Disney;'\u001b[0m\n\u001b[1;37m                                                                                                ^\u001b[0m\n\u001b[1;31mSyntaxError\u001b[0m\u001b[1;31m:\u001b[0m unterminated string literal (detected at line 1)\n"
     ]
    }
   ],
   "source": [
    "msg = '\"All our dreams can come true if we have the courage to pursue them.\"- Walt's Disney;'\n",
    "print(msg)"
   ]
  },
  {
   "cell_type": "code",
   "execution_count": 32,
   "id": "b61f6e6c-370c-4976-9cdd-6e2486dfb4a4",
   "metadata": {},
   "outputs": [
    {
     "name": "stdout",
     "output_type": "stream",
     "text": [
      "\"All our dreams can come true if we have the courage to pursue them.\"- Walt's Disney;\n"
     ]
    }
   ],
   "source": [
    "msg = '''\"All our dreams can come true if we have the courage to pursue them.\"- Walt's Disney;'''\n",
    "print(msg)"
   ]
  },
  {
   "cell_type": "code",
   "execution_count": 34,
   "id": "6ab61937-caab-4c2c-8de7-d6b5fdd14dd7",
   "metadata": {},
   "outputs": [
    {
     "ename": "SyntaxError",
     "evalue": "unterminated string literal (detected at line 1) (4269364056.py, line 1)",
     "output_type": "error",
     "traceback": [
      "\u001b[1;36m  Cell \u001b[1;32mIn[34], line 1\u001b[1;36m\u001b[0m\n\u001b[1;33m    poem = 'Twinkle Twinkle, Little Star\u001b[0m\n\u001b[1;37m           ^\u001b[0m\n\u001b[1;31mSyntaxError\u001b[0m\u001b[1;31m:\u001b[0m unterminated string literal (detected at line 1)\n"
     ]
    }
   ],
   "source": [
    "poem = 'Twinkle Twinkle, Little Star\n",
    "How I wonder what you are\n",
    "Up above the world so high\n",
    "Like a diamond in the sky\n",
    "Twinkle Twinkle Little Star\n",
    "How I wonder what you are!\n",
    "Twinkle Twinkle, Little Star\n",
    "How I wonder what you are\n",
    "Up above the world so high\n",
    "Like a diamond in the sky\n",
    "Twinkle Twinkle Little Star\n",
    "How I wonder what you are!'\n",
    "\n",
    "print(poem)"
   ]
  },
  {
   "cell_type": "code",
   "execution_count": 44,
   "id": "a6a4d3b7-1630-483e-be8f-25e43c135c57",
   "metadata": {},
   "outputs": [
    {
     "name": "stdout",
     "output_type": "stream",
     "text": [
      "Twinkle Twinkle, Little Star\n",
      "How I wonder what you are\n",
      "Up above the world so high\n",
      "Like a diamond in the sky\n",
      "Twinkle Twinkle Little Star\n",
      "How I wonder what you are!\n",
      "                                    Twinkle                Twinkle, Little Star\n",
      "                                    How I wonder what you are\n",
      "                                    Up above the world so high\n",
      "                                    Like a diamond in the sky\n",
      "                                    Twinkle Twinkle Little Star\n",
      "                                    How I wonder what you are!\n"
     ]
    }
   ],
   "source": [
    "poem = '''Twinkle Twinkle, Little Star\n",
    "How I wonder what you are\n",
    "Up above the world so high\n",
    "Like a diamond in the sky\n",
    "Twinkle Twinkle Little Star\n",
    "How I wonder what you are!\n",
    "                                    Twinkle                Twinkle, Little Star\n",
    "                                    How I wonder what you are\n",
    "                                    Up above the world so high\n",
    "                                    Like a diamond in the sky\n",
    "                                    Twinkle Twinkle Little Star\n",
    "                                    How I wonder what you are!'''\n",
    "\n",
    "print(poem)"
   ]
  },
  {
   "cell_type": "code",
   "execution_count": 38,
   "id": "21c5b3f7-2d40-4a31-a6dc-36904e0cf96e",
   "metadata": {},
   "outputs": [
    {
     "name": "stdout",
     "output_type": "stream",
     "text": [
      "Twinkle Twinkle, Little StarHow I wonder what you areUp above the world so highLike a diamond in the skyTwinkle Twinkle Little StarHow I wonder what you are!Twinkle Twinkle, Little StarHow I wonder what you areUp above the world so highLike a diamond in the skyTwinkle Twinkle Little StarHow I wonder what you are!\n"
     ]
    }
   ],
   "source": [
    "poem = 'Twinkle Twinkle, Little Star\\\n",
    "How I wonder what you are\\\n",
    "Up above the world so high\\\n",
    "Like a diamond in the sky\\\n",
    "Twinkle Twinkle Little Star\\\n",
    "How I wonder what you are!\\\n",
    "Twinkle Twinkle, Little Star\\\n",
    "How I wonder what you are\\\n",
    "Up above the world so high\\\n",
    "Like a diamond in the sky\\\n",
    "Twinkle Twinkle Little Star\\\n",
    "How I wonder what you are!'\n",
    "\n",
    "print(poem)"
   ]
  },
  {
   "cell_type": "code",
   "execution_count": 48,
   "id": "85a37e52-8cb9-4f95-8a12-605705cde1c5",
   "metadata": {},
   "outputs": [
    {
     "name": "stdout",
     "output_type": "stream",
     "text": [
      "This i's Py'thon's Class\n"
     ]
    }
   ],
   "source": [
    "a   = 'This i\\'s Py\\'thon\\'s Class'\n",
    "print(a)"
   ]
  },
  {
   "cell_type": "code",
   "execution_count": 50,
   "id": "bfb6e0ad-6c03-49b4-9e5c-5970d094d0f9",
   "metadata": {},
   "outputs": [],
   "source": [
    "# Sequence data type"
   ]
  },
  {
   "cell_type": "code",
   "execution_count": 52,
   "id": "2a8a1b55-2b51-49f9-9bbc-c3ceb32c534d",
   "metadata": {},
   "outputs": [],
   "source": [
    "a = 'Hello World'\n",
    "#    012345678910  +ve indexing\n",
    "#       ..-3-2-1\n",
    "# -ve indexing\n",
    "# indexing\n",
    "\n",
    "# 'H'>> 0\n",
    "# e>>1"
   ]
  },
  {
   "cell_type": "code",
   "execution_count": 54,
   "id": "b98a3736-1fd6-49bd-b03a-cb55e2d715f7",
   "metadata": {},
   "outputs": [
    {
     "data": {
      "text/plain": [
       "'W'"
      ]
     },
     "execution_count": 54,
     "metadata": {},
     "output_type": "execute_result"
    }
   ],
   "source": [
    "a[6]"
   ]
  },
  {
   "cell_type": "code",
   "execution_count": 56,
   "id": "d867550e-9ba3-4617-8802-be0e79e73e05",
   "metadata": {},
   "outputs": [
    {
     "data": {
      "text/plain": [
       "'W'"
      ]
     },
     "execution_count": 56,
     "metadata": {},
     "output_type": "execute_result"
    }
   ],
   "source": [
    "a[-5]"
   ]
  },
  {
   "cell_type": "code",
   "execution_count": 58,
   "id": "e52a4047-6c49-405e-9e8a-eea289ad0070",
   "metadata": {},
   "outputs": [],
   "source": [
    "# operators"
   ]
  },
  {
   "cell_type": "code",
   "execution_count": 60,
   "id": "6b7d2684-cf6e-4277-af9b-6f67c96e2169",
   "metadata": {},
   "outputs": [],
   "source": [
    "# +"
   ]
  },
  {
   "cell_type": "code",
   "execution_count": 62,
   "id": "73f223cc-07fc-4c0b-85c2-039589bbb6cb",
   "metadata": {},
   "outputs": [
    {
     "data": {
      "text/plain": [
       "'World'"
      ]
     },
     "execution_count": 62,
     "metadata": {},
     "output_type": "execute_result"
    }
   ],
   "source": [
    "a[6] + a[7] + a[8] + a[9] + a[10]"
   ]
  },
  {
   "cell_type": "code",
   "execution_count": 64,
   "id": "20754f05-5615-497f-9811-c3ccdce5e29d",
   "metadata": {},
   "outputs": [],
   "source": [
    "# slicing"
   ]
  },
  {
   "cell_type": "code",
   "execution_count": 66,
   "id": "49f0f223-251a-4062-9e91-c5a64e15d245",
   "metadata": {},
   "outputs": [
    {
     "name": "stdout",
     "output_type": "stream",
     "text": [
      "Hello World\n"
     ]
    }
   ],
   "source": [
    "print(a)"
   ]
  },
  {
   "cell_type": "code",
   "execution_count": 68,
   "id": "ea8b4d9a-76c1-4da5-9d7c-69e1ddb1b318",
   "metadata": {},
   "outputs": [],
   "source": [
    "# a[6:]"
   ]
  },
  {
   "cell_type": "code",
   "execution_count": 70,
   "id": "c21e0946-e3d0-42d9-ac43-b2bcfb4f688d",
   "metadata": {},
   "outputs": [],
   "source": [
    "# a[start:stop:step/skip]"
   ]
  },
  {
   "cell_type": "code",
   "execution_count": 74,
   "id": "63a4efde-0bc7-435a-8298-7add359a8195",
   "metadata": {},
   "outputs": [
    {
     "data": {
      "text/plain": [
       "'World'"
      ]
     },
     "execution_count": 74,
     "metadata": {},
     "output_type": "execute_result"
    }
   ],
   "source": [
    "a[6:11]"
   ]
  },
  {
   "cell_type": "code",
   "execution_count": 76,
   "id": "7b83bfd8-b8cd-4db6-b684-3ac26e68e320",
   "metadata": {},
   "outputs": [
    {
     "data": {
      "text/plain": [
       "'World'"
      ]
     },
     "execution_count": 76,
     "metadata": {},
     "output_type": "execute_result"
    }
   ],
   "source": [
    "a[6:]"
   ]
  },
  {
   "cell_type": "code",
   "execution_count": 78,
   "id": "a8b535f1-b132-4835-8b1e-cb30e6f5619b",
   "metadata": {},
   "outputs": [],
   "source": [
    "# Slicing: "
   ]
  },
  {
   "cell_type": "code",
   "execution_count": 80,
   "id": "24fa31e3-5ac9-41e3-9165-9cbe01e38f19",
   "metadata": {},
   "outputs": [
    {
     "data": {
      "text/plain": [
       "'Hello World'"
      ]
     },
     "execution_count": 80,
     "metadata": {},
     "output_type": "execute_result"
    }
   ],
   "source": [
    "a"
   ]
  },
  {
   "cell_type": "code",
   "execution_count": 84,
   "id": "b38cf09f-e3df-45ae-9da5-6fb7022340c3",
   "metadata": {},
   "outputs": [
    {
     "data": {
      "text/plain": [
       "'Hello'"
      ]
     },
     "execution_count": 84,
     "metadata": {},
     "output_type": "execute_result"
    }
   ],
   "source": [
    "a[0:5]"
   ]
  },
  {
   "cell_type": "code",
   "execution_count": 86,
   "id": "962add75-e5ce-420c-a8fb-c453ea9097aa",
   "metadata": {},
   "outputs": [
    {
     "data": {
      "text/plain": [
       "'Hello'"
      ]
     },
     "execution_count": 86,
     "metadata": {},
     "output_type": "execute_result"
    }
   ],
   "source": [
    "a[:5]"
   ]
  },
  {
   "cell_type": "code",
   "execution_count": 88,
   "id": "681b75b2-bab1-44a5-82fd-8a2c762b220b",
   "metadata": {},
   "outputs": [
    {
     "data": {
      "text/plain": [
       "'Elon'"
      ]
     },
     "execution_count": 88,
     "metadata": {},
     "output_type": "execute_result"
    }
   ],
   "source": [
    "a = 'This is Elon Musk'\n",
    "\n",
    "a[8:12]"
   ]
  },
  {
   "cell_type": "code",
   "execution_count": 90,
   "id": "3f644913-53d6-4f33-989d-577a4acb7fb8",
   "metadata": {},
   "outputs": [
    {
     "name": "stdout",
     "output_type": "stream",
     "text": [
      "This is Elon Musk\n"
     ]
    }
   ],
   "source": [
    "print(a)"
   ]
  },
  {
   "cell_type": "code",
   "execution_count": 94,
   "id": "fc70957c-33ed-450b-9900-bb8905e77ccf",
   "metadata": {},
   "outputs": [
    {
     "name": "stdout",
     "output_type": "stream",
     "text": [
      "<class 'str'>\n"
     ]
    }
   ],
   "source": [
    "print(type(a))"
   ]
  },
  {
   "cell_type": "code",
   "execution_count": 100,
   "id": "a730f26f-3e44-41a0-a237-9227dc99dea5",
   "metadata": {},
   "outputs": [],
   "source": [
    "a = [2,35,4567]"
   ]
  },
  {
   "cell_type": "code",
   "execution_count": null,
   "id": "aee625ca-e72e-496a-af09-f85d1b35d875",
   "metadata": {},
   "outputs": [],
   "source": []
  },
  {
   "cell_type": "code",
   "execution_count": 105,
   "id": "6ae9db7b-8d3f-448e-ace1-3e0b757f59b6",
   "metadata": {},
   "outputs": [
    {
     "data": {
      "text/plain": [
       "'Elon'"
      ]
     },
     "execution_count": 105,
     "metadata": {},
     "output_type": "execute_result"
    }
   ],
   "source": [
    "a = 'This is Elon Musk'\n",
    "\n",
    "a[8:12]"
   ]
  },
  {
   "cell_type": "code",
   "execution_count": 107,
   "id": "fe2353b1-e2e4-4380-909f-1d98d8ccdec9",
   "metadata": {},
   "outputs": [
    {
     "ename": "TypeError",
     "evalue": "'str' object does not support item assignment",
     "output_type": "error",
     "traceback": [
      "\u001b[1;31m---------------------------------------------------------------------------\u001b[0m",
      "\u001b[1;31mTypeError\u001b[0m                                 Traceback (most recent call last)",
      "Cell \u001b[1;32mIn[107], line 1\u001b[0m\n\u001b[1;32m----> 1\u001b[0m a[\u001b[38;5;241m8\u001b[39m:\u001b[38;5;241m12\u001b[39m] \u001b[38;5;241m=\u001b[39m \u001b[38;5;124m'\u001b[39m\u001b[38;5;124mEion\u001b[39m\u001b[38;5;124m'\u001b[39m\n",
      "\u001b[1;31mTypeError\u001b[0m: 'str' object does not support item assignment"
     ]
    }
   ],
   "source": [
    "a[8:12] = 'Eion'"
   ]
  },
  {
   "cell_type": "code",
   "execution_count": 119,
   "id": "c5fe5260-dfd4-4cf8-9586-8e988bb669ee",
   "metadata": {},
   "outputs": [
    {
     "data": {
      "text/plain": [
       "'Elon'"
      ]
     },
     "execution_count": 119,
     "metadata": {},
     "output_type": "execute_result"
    }
   ],
   "source": [
    "a = 'This is Elon Musk'\n",
    "\n",
    "a[-9:-5]"
   ]
  },
  {
   "cell_type": "code",
   "execution_count": 121,
   "id": "87a59bd3-9bb0-48ff-ae99-325fda646b92",
   "metadata": {},
   "outputs": [],
   "source": [
    "# a[start:stop:skip]"
   ]
  },
  {
   "cell_type": "code",
   "execution_count": 123,
   "id": "acb5b190-be8c-4d7e-a9e1-d740ab242fff",
   "metadata": {},
   "outputs": [
    {
     "data": {
      "text/plain": [
       "'This is E'"
      ]
     },
     "execution_count": 123,
     "metadata": {},
     "output_type": "execute_result"
    }
   ],
   "source": [
    "a[0:9:1]"
   ]
  },
  {
   "cell_type": "code",
   "execution_count": 125,
   "id": "9df01a4f-963b-4ef2-8256-bea37e78b8fe",
   "metadata": {},
   "outputs": [
    {
     "data": {
      "text/plain": [
       "'Ti sE'"
      ]
     },
     "execution_count": 125,
     "metadata": {},
     "output_type": "execute_result"
    }
   ],
   "source": [
    "a[0:9:2]"
   ]
  },
  {
   "cell_type": "code",
   "execution_count": 127,
   "id": "a997b00a-422a-420d-a924-acd494ff11ae",
   "metadata": {},
   "outputs": [],
   "source": [
    "# reverse the string"
   ]
  },
  {
   "cell_type": "code",
   "execution_count": 129,
   "id": "1de0af10-4042-4d12-88cd-5a352652b6f0",
   "metadata": {},
   "outputs": [
    {
     "data": {
      "text/plain": [
       "'This is Elon Musk'"
      ]
     },
     "execution_count": 129,
     "metadata": {},
     "output_type": "execute_result"
    }
   ],
   "source": [
    "a"
   ]
  },
  {
   "cell_type": "code",
   "execution_count": 131,
   "id": "98e3fa46-0aa9-4983-bbde-6186ea919175",
   "metadata": {},
   "outputs": [
    {
     "data": {
      "text/plain": [
       "'ksuM nolE si sihT'"
      ]
     },
     "execution_count": 131,
     "metadata": {},
     "output_type": "execute_result"
    }
   ],
   "source": [
    "a[::-1]"
   ]
  },
  {
   "cell_type": "code",
   "execution_count": 133,
   "id": "f416eb43-5788-4e14-861a-074b2a914079",
   "metadata": {},
   "outputs": [],
   "source": [
    "a = 'nitin'"
   ]
  },
  {
   "cell_type": "code",
   "execution_count": 135,
   "id": "c27d6db6-93e0-484c-a83a-6c5d2a9b85d4",
   "metadata": {},
   "outputs": [
    {
     "data": {
      "text/plain": [
       "'nitin'"
      ]
     },
     "execution_count": 135,
     "metadata": {},
     "output_type": "execute_result"
    }
   ],
   "source": [
    "a"
   ]
  },
  {
   "cell_type": "code",
   "execution_count": 137,
   "id": "67c969eb-b917-450c-9c65-fa14f8c9ea3e",
   "metadata": {},
   "outputs": [
    {
     "data": {
      "text/plain": [
       "'nitin'"
      ]
     },
     "execution_count": 137,
     "metadata": {},
     "output_type": "execute_result"
    }
   ],
   "source": [
    "a[::-1]"
   ]
  },
  {
   "cell_type": "code",
   "execution_count": 139,
   "id": "0a03128b-9c57-4e63-bd95-c9346a566c32",
   "metadata": {},
   "outputs": [],
   "source": [
    "# palindrome"
   ]
  },
  {
   "cell_type": "code",
   "execution_count": 141,
   "id": "914b45e1-3695-44dd-a02d-acf970349959",
   "metadata": {},
   "outputs": [
    {
     "name": "stdout",
     "output_type": "stream",
     "text": [
      "lucky\n"
     ]
    }
   ],
   "source": [
    "a = 'lucky'\n",
    "print(a)"
   ]
  },
  {
   "cell_type": "code",
   "execution_count": 143,
   "id": "0cb6ebe2-c51a-4293-8843-01c2404d05c7",
   "metadata": {},
   "outputs": [
    {
     "data": {
      "text/plain": [
       "'ykcul'"
      ]
     },
     "execution_count": 143,
     "metadata": {},
     "output_type": "execute_result"
    }
   ],
   "source": [
    "a[::-1]"
   ]
  },
  {
   "cell_type": "code",
   "execution_count": 145,
   "id": "f0ff57de-1ff0-4f34-8aac-dfb8d8c5970c",
   "metadata": {},
   "outputs": [],
   "source": [
    "a = 'hello '"
   ]
  },
  {
   "cell_type": "code",
   "execution_count": 149,
   "id": "c5901a8e-c186-4382-9ab7-374c597f8ffe",
   "metadata": {},
   "outputs": [
    {
     "name": "stdout",
     "output_type": "stream",
     "text": [
      "hello hello hello \n"
     ]
    }
   ],
   "source": [
    "print(a * 3)"
   ]
  },
  {
   "cell_type": "code",
   "execution_count": 151,
   "id": "19a4a98d-8618-4d49-9eec-b0fd9a709bbd",
   "metadata": {},
   "outputs": [],
   "source": [
    "# \\n: next line>> new line"
   ]
  },
  {
   "cell_type": "code",
   "execution_count": 155,
   "id": "f4f9211f-d40a-4635-8b6b-b24e867b3b24",
   "metadata": {},
   "outputs": [
    {
     "name": "stdout",
     "output_type": "stream",
     "text": [
      "This\n",
      "is\n",
      "Elon Musk\n"
     ]
    }
   ],
   "source": [
    "a = 'This\\nis\\nElon Musk'\n",
    "print(a)"
   ]
  },
  {
   "cell_type": "code",
   "execution_count": 167,
   "id": "90100946-6a8a-46ff-bec6-621bbef59af3",
   "metadata": {},
   "outputs": [],
   "source": [
    "# '\\t'>> tab button>> 4 spaces"
   ]
  },
  {
   "cell_type": "code",
   "execution_count": 171,
   "id": "47b72c26-10d8-4b40-89db-2109ba422e08",
   "metadata": {},
   "outputs": [
    {
     "name": "stdout",
     "output_type": "stream",
     "text": [
      "Hello\t\tWorld\n",
      "Hello\t\tWorld\n",
      "Hello\t\tWorld\n",
      "Hello\t\tWorld\n",
      "Hello\t\tWorld\n",
      "\n"
     ]
    }
   ],
   "source": [
    "a = 'Hello\\t\\tWorld\\n'\n",
    "print(a*5)"
   ]
  },
  {
   "cell_type": "code",
   "execution_count": 163,
   "id": "56d5bc5e-7403-412d-8306-4c1da48253b5",
   "metadata": {},
   "outputs": [
    {
     "name": "stdout",
     "output_type": "stream",
     "text": [
      "hello World\n",
      "hello World\n",
      "hello World\n",
      "hello World\n",
      "hello World\n"
     ]
    }
   ],
   "source": [
    "for i in range(5):\n",
    "    print('hello World')"
   ]
  },
  {
   "cell_type": "code",
   "execution_count": null,
   "id": "e2a85c5d-3fc9-4c28-aba2-d3c98c9186b1",
   "metadata": {},
   "outputs": [],
   "source": []
  },
  {
   "cell_type": "code",
   "execution_count": 180,
   "id": "924b5b53-4b3c-4fc3-a19e-360c1d0cf29e",
   "metadata": {},
   "outputs": [],
   "source": [
    "a = 'hello world'"
   ]
  },
  {
   "cell_type": "code",
   "execution_count": 182,
   "id": "6b68d8ed-d1fb-4755-94d4-ab0505cebd3a",
   "metadata": {},
   "outputs": [
    {
     "name": "stdout",
     "output_type": "stream",
     "text": [
      "hello world\n"
     ]
    }
   ],
   "source": [
    "print(a)"
   ]
  },
  {
   "cell_type": "code",
   "execution_count": 184,
   "id": "5a0e505a-587b-4b57-bd24-f953fe12d397",
   "metadata": {},
   "outputs": [
    {
     "data": {
      "text/plain": [
       "'HELLO WORLD'"
      ]
     },
     "execution_count": 184,
     "metadata": {},
     "output_type": "execute_result"
    }
   ],
   "source": [
    "a.upper()   # functions/methods"
   ]
  },
  {
   "cell_type": "code",
   "execution_count": 186,
   "id": "877e3de3-6f54-4d9f-a4f4-175f7482c716",
   "metadata": {},
   "outputs": [
    {
     "data": {
      "text/plain": [
       "'Hello World'"
      ]
     },
     "execution_count": 186,
     "metadata": {},
     "output_type": "execute_result"
    }
   ],
   "source": [
    "a.title()"
   ]
  },
  {
   "cell_type": "code",
   "execution_count": 188,
   "id": "c9e1a1de-7642-4bde-a1ef-c450db21ad31",
   "metadata": {},
   "outputs": [],
   "source": [
    "a = 'this is elon musk'"
   ]
  },
  {
   "cell_type": "code",
   "execution_count": 190,
   "id": "add9a63d-afa2-4e35-ad17-eb92a9039045",
   "metadata": {},
   "outputs": [
    {
     "data": {
      "text/plain": [
       "'This Is Elon Musk'"
      ]
     },
     "execution_count": 190,
     "metadata": {},
     "output_type": "execute_result"
    }
   ],
   "source": [
    "a.title()"
   ]
  },
  {
   "cell_type": "code",
   "execution_count": 198,
   "id": "4cb63876-0cfb-432b-bb63-f149362892d1",
   "metadata": {},
   "outputs": [],
   "source": [
    "a = 'HollyWood Place'"
   ]
  },
  {
   "cell_type": "code",
   "execution_count": 200,
   "id": "1899f47d-59ae-490c-a97c-acf8e1f15dbc",
   "metadata": {},
   "outputs": [
    {
     "data": {
      "text/plain": [
       "'hollywood place'"
      ]
     },
     "execution_count": 200,
     "metadata": {},
     "output_type": "execute_result"
    }
   ],
   "source": [
    "a.lower()"
   ]
  },
  {
   "cell_type": "code",
   "execution_count": 212,
   "id": "9db2f278-6c93-4e5b-ba83-bedab24cd629",
   "metadata": {},
   "outputs": [
    {
     "data": {
      "text/plain": [
       "'BOLLYWOOD'"
      ]
     },
     "execution_count": 212,
     "metadata": {},
     "output_type": "execute_result"
    }
   ],
   "source": [
    "a.replace(' Place','').upper().lower().title().upper().replace('H','B')"
   ]
  },
  {
   "cell_type": "code",
   "execution_count": 216,
   "id": "194f651e-efbb-4609-a0d1-125c8796f7a7",
   "metadata": {},
   "outputs": [],
   "source": [
    "a = 'This is Elon Musk'"
   ]
  },
  {
   "cell_type": "code",
   "execution_count": 218,
   "id": "8a7ea048-70fe-49f4-b484-bf24cda10b53",
   "metadata": {},
   "outputs": [
    {
     "data": {
      "text/plain": [
       "17"
      ]
     },
     "execution_count": 218,
     "metadata": {},
     "output_type": "execute_result"
    }
   ],
   "source": [
    "len(a)"
   ]
  },
  {
   "cell_type": "code",
   "execution_count": 220,
   "id": "1c235950-5156-44b2-a573-ba9c73d3a861",
   "metadata": {},
   "outputs": [
    {
     "data": {
      "text/plain": [
       "['This', 'is', 'Elon', 'Musk']"
      ]
     },
     "execution_count": 220,
     "metadata": {},
     "output_type": "execute_result"
    }
   ],
   "source": [
    "a.split(' ')"
   ]
  },
  {
   "cell_type": "code",
   "execution_count": 222,
   "id": "3266c4e9-04e2-469b-9d8b-99f8728dcd48",
   "metadata": {},
   "outputs": [],
   "source": [
    "a = 'This,is,Elon,Musk'"
   ]
  },
  {
   "cell_type": "code",
   "execution_count": 226,
   "id": "545814f4-ed0c-4373-ad23-3efa2b11c7e1",
   "metadata": {},
   "outputs": [],
   "source": [
    "data = a.split(',')"
   ]
  },
  {
   "cell_type": "code",
   "execution_count": 228,
   "id": "f4da9958-fda5-4803-875f-f2788fc9b335",
   "metadata": {},
   "outputs": [
    {
     "name": "stdout",
     "output_type": "stream",
     "text": [
      "['This', 'is', 'Elon', 'Musk']\n"
     ]
    }
   ],
   "source": [
    "print(data)"
   ]
  },
  {
   "cell_type": "code",
   "execution_count": 230,
   "id": "935d39f8-1366-4c90-9156-f7e35c89a16e",
   "metadata": {},
   "outputs": [
    {
     "data": {
      "text/plain": [
       "4"
      ]
     },
     "execution_count": 230,
     "metadata": {},
     "output_type": "execute_result"
    }
   ],
   "source": [
    "len(data)"
   ]
  },
  {
   "cell_type": "code",
   "execution_count": 242,
   "id": "0865ca90-1ec4-4100-859f-952052a5721c",
   "metadata": {
    "scrolled": true
   },
   "outputs": [
    {
     "name": "stdout",
     "output_type": "stream",
     "text": [
      "Twinkle Twinkle, Little Star\n",
      "How I wonder what you are\n",
      "Up above the world so high\n",
      "Like a diamond in the sky\n",
      "Twinkle Twinkle Little Star\n",
      "How I wonder what you are!\n",
      "                                    Twinkle                Twinkle, Little Star\n",
      "                                    How I wonder what you are\n",
      "                                    Up above the world so high\n",
      "                                    Like a diamond in the sky\n",
      "                                    Twinkle Twinkle Little Star\n",
      "                                    How I wonder what you are!\n"
     ]
    }
   ],
   "source": [
    "print(poem)"
   ]
  },
  {
   "cell_type": "code",
   "execution_count": 238,
   "id": "42b7cadb-5643-4344-bd6a-06f8c2ca97aa",
   "metadata": {},
   "outputs": [],
   "source": [
    "data = poem.split(' ')"
   ]
  },
  {
   "cell_type": "code",
   "execution_count": 240,
   "id": "6472a262-0bc8-4981-a498-44e9e4c5ca9c",
   "metadata": {},
   "outputs": [
    {
     "name": "stdout",
     "output_type": "stream",
     "text": [
      "['Twinkle', 'Twinkle,', 'Little', 'Star\\nHow', 'I', 'wonder', 'what', 'you', 'are\\nUp', 'above', 'the', 'world', 'so', 'high\\nLike', 'a', 'diamond', 'in', 'the', 'sky\\nTwinkle', 'Twinkle', 'Little', 'Star\\nHow', 'I', 'wonder', 'what', 'you', 'are!\\n', '', '', '', '', '', '', '', '', '', '', '', '', '', '', '', '', '', '', '', '', '', '', '', '', '', '', '', '', '', '', '', '', '', '', '', 'Twinkle', '', '', '', '', '', '', '', '', '', '', '', '', '', '', '', 'Twinkle,', 'Little', 'Star\\n', '', '', '', '', '', '', '', '', '', '', '', '', '', '', '', '', '', '', '', '', '', '', '', '', '', '', '', '', '', '', '', '', '', '', '', 'How', 'I', 'wonder', 'what', 'you', 'are\\n', '', '', '', '', '', '', '', '', '', '', '', '', '', '', '', '', '', '', '', '', '', '', '', '', '', '', '', '', '', '', '', '', '', '', '', 'Up', 'above', 'the', 'world', 'so', 'high\\n', '', '', '', '', '', '', '', '', '', '', '', '', '', '', '', '', '', '', '', '', '', '', '', '', '', '', '', '', '', '', '', '', '', '', '', 'Like', 'a', 'diamond', 'in', 'the', 'sky\\n', '', '', '', '', '', '', '', '', '', '', '', '', '', '', '', '', '', '', '', '', '', '', '', '', '', '', '', '', '', '', '', '', '', '', '', 'Twinkle', 'Twinkle', 'Little', 'Star\\n', '', '', '', '', '', '', '', '', '', '', '', '', '', '', '', '', '', '', '', '', '', '', '', '', '', '', '', '', '', '', '', '', '', '', '', 'How', 'I', 'wonder', 'what', 'you', 'are!']\n"
     ]
    }
   ],
   "source": [
    "print(data)"
   ]
  },
  {
   "cell_type": "code",
   "execution_count": 246,
   "id": "efcc0b31-c7a5-49c5-b23d-d9d59cc0b5b0",
   "metadata": {},
   "outputs": [],
   "source": [
    "data = poem.splitlines()"
   ]
  },
  {
   "cell_type": "code",
   "execution_count": 248,
   "id": "3d7b0bc7-33b8-4637-9c75-a0a4b759fde0",
   "metadata": {},
   "outputs": [
    {
     "name": "stdout",
     "output_type": "stream",
     "text": [
      "['Twinkle Twinkle, Little Star', 'How I wonder what you are', 'Up above the world so high', 'Like a diamond in the sky', 'Twinkle Twinkle Little Star', 'How I wonder what you are!', '                                    Twinkle                Twinkle, Little Star', '                                    How I wonder what you are', '                                    Up above the world so high', '                                    Like a diamond in the sky', '                                    Twinkle Twinkle Little Star', '                                    How I wonder what you are!']\n"
     ]
    }
   ],
   "source": [
    "print(data)"
   ]
  },
  {
   "cell_type": "code",
   "execution_count": 250,
   "id": "c00f849e-7ed6-43e0-ad90-e3876c1d5ea1",
   "metadata": {},
   "outputs": [],
   "source": [
    "a = '     hello world'"
   ]
  },
  {
   "cell_type": "code",
   "execution_count": 252,
   "id": "cbf76749-7fbb-4098-bd2c-d2832325cf96",
   "metadata": {},
   "outputs": [
    {
     "name": "stdout",
     "output_type": "stream",
     "text": [
      "     hello world\n"
     ]
    }
   ],
   "source": [
    "print(a)"
   ]
  },
  {
   "cell_type": "code",
   "execution_count": 254,
   "id": "d2221e99-f0af-463e-bb49-e4e36b28c3e9",
   "metadata": {},
   "outputs": [
    {
     "data": {
      "text/plain": [
       "'hello world'"
      ]
     },
     "execution_count": 254,
     "metadata": {},
     "output_type": "execute_result"
    }
   ],
   "source": [
    "a.lstrip()"
   ]
  },
  {
   "cell_type": "code",
   "execution_count": 256,
   "id": "0389959b-7349-4021-b67b-a9b40a97ba99",
   "metadata": {},
   "outputs": [],
   "source": [
    "a = 'hello world      '"
   ]
  },
  {
   "cell_type": "code",
   "execution_count": 258,
   "id": "afc52404-461b-4c7d-9cf8-cd21e0559976",
   "metadata": {},
   "outputs": [
    {
     "data": {
      "text/plain": [
       "'hello world'"
      ]
     },
     "execution_count": 258,
     "metadata": {},
     "output_type": "execute_result"
    }
   ],
   "source": [
    "a.rstrip()"
   ]
  },
  {
   "cell_type": "code",
   "execution_count": 260,
   "id": "d4be8b64-8f9d-4a74-8cd6-e7a22eecc483",
   "metadata": {},
   "outputs": [],
   "source": [
    "a = '     hello World    '"
   ]
  },
  {
   "cell_type": "code",
   "execution_count": 262,
   "id": "6227f6bb-27f0-48c0-bc78-a943c1a91e2a",
   "metadata": {},
   "outputs": [
    {
     "name": "stdout",
     "output_type": "stream",
     "text": [
      "     hello World    \n"
     ]
    }
   ],
   "source": [
    "print(a)"
   ]
  },
  {
   "cell_type": "code",
   "execution_count": 266,
   "id": "74f5e3bd-4da2-4057-9499-7705b23f3265",
   "metadata": {},
   "outputs": [
    {
     "data": {
      "text/plain": [
       "'hello World'"
      ]
     },
     "execution_count": 266,
     "metadata": {},
     "output_type": "execute_result"
    }
   ],
   "source": [
    "a.lstrip().rstrip()"
   ]
  },
  {
   "cell_type": "code",
   "execution_count": 268,
   "id": "a7abc583-45d9-4615-8b5f-ade3abb3e0a0",
   "metadata": {},
   "outputs": [],
   "source": [
    "# strip"
   ]
  },
  {
   "cell_type": "code",
   "execution_count": 270,
   "id": "c04a361d-aa6a-4ba3-97e8-a0ca83725d4c",
   "metadata": {},
   "outputs": [
    {
     "data": {
      "text/plain": [
       "'     hello World    '"
      ]
     },
     "execution_count": 270,
     "metadata": {},
     "output_type": "execute_result"
    }
   ],
   "source": [
    "a"
   ]
  },
  {
   "cell_type": "code",
   "execution_count": 272,
   "id": "af263acb-1cc0-41e5-8997-f115a2108aaa",
   "metadata": {},
   "outputs": [
    {
     "data": {
      "text/plain": [
       "'hello World'"
      ]
     },
     "execution_count": 272,
     "metadata": {},
     "output_type": "execute_result"
    }
   ],
   "source": [
    "a.strip()"
   ]
  },
  {
   "cell_type": "code",
   "execution_count": 274,
   "id": "0d94f63d-fc8a-4dd2-94a0-d69e8cb2c1c7",
   "metadata": {},
   "outputs": [],
   "source": [
    "a = '  Welcome to KBC'"
   ]
  },
  {
   "cell_type": "code",
   "execution_count": 280,
   "id": "c7f639e7-b84b-4eeb-9517-6abb648f52a3",
   "metadata": {},
   "outputs": [
    {
     "name": "stdout",
     "output_type": "stream",
     "text": [
      "Welcome to KBC\n"
     ]
    }
   ],
   "source": [
    "print(a)"
   ]
  },
  {
   "cell_type": "code",
   "execution_count": 288,
   "id": "6733959d-8cc0-44e0-8794-3ae1b87cd436",
   "metadata": {},
   "outputs": [
    {
     "name": "stdout",
     "output_type": "stream",
     "text": [
      "                                           Welcome to KBC                                           \n"
     ]
    }
   ],
   "source": [
    "print(a.center(100,' '))"
   ]
  },
  {
   "cell_type": "code",
   "execution_count": 292,
   "id": "0313e4ee-009e-425e-8d1b-7db1b378eba3",
   "metadata": {},
   "outputs": [
    {
     "name": "stdout",
     "output_type": "stream",
     "text": [
      "I have a Maruti, model year of 2025, having price is 456700\n"
     ]
    }
   ],
   "source": [
    "car = 'Maruti'\n",
    "price = 456700\n",
    "year = 2025\n",
    "\n",
    "message = 'I have a {}, model year of {}, having price is {}'.format(car,year,price)\n",
    "\n",
    "print(message)"
   ]
  },
  {
   "cell_type": "code",
   "execution_count": null,
   "id": "9334f84a-d999-42c4-8249-337baa94a360",
   "metadata": {},
   "outputs": [],
   "source": []
  },
  {
   "cell_type": "code",
   "execution_count": 307,
   "id": "1c1ef468-701c-4216-a7ab-f9c27d0ff77b",
   "metadata": {},
   "outputs": [
    {
     "name": "stdout",
     "output_type": "stream",
     "text": [
      "I have a kia car, model year of 2024, having price is 87876765\n"
     ]
    }
   ],
   "source": [
    "car = 'kia'\n",
    "price = 87876765\n",
    "year = 2024\n",
    "\n",
    "message = 'I have a {} car, model year of {}, having price is {}'.format(car,year,price)\n",
    "\n",
    "print(message)"
   ]
  },
  {
   "cell_type": "code",
   "execution_count": 311,
   "id": "98e85cc2-aecd-4e7f-a2fb-af487cddbb57",
   "metadata": {},
   "outputs": [
    {
     "name": "stdout",
     "output_type": "stream",
     "text": [
      "I have a kia car, model year of 2024, having price is 87876765\n"
     ]
    }
   ],
   "source": [
    "car = 'kia'\n",
    "price = 87876765\n",
    "year = 2024\n",
    "\n",
    "message = 'I have a {2} car, model year of {1}, having price is {0}'.format(price,year,car)\n",
    "\n",
    "print(message)"
   ]
  },
  {
   "cell_type": "code",
   "execution_count": null,
   "id": "eb3df604-beb6-4c66-804e-5540f971e9fe",
   "metadata": {},
   "outputs": [],
   "source": []
  },
  {
   "cell_type": "code",
   "execution_count": null,
   "id": "2cd8e4f9-731c-4dc4-8c0a-2c5416280c7a",
   "metadata": {},
   "outputs": [],
   "source": []
  },
  {
   "cell_type": "code",
   "execution_count": 319,
   "id": "f6cdc651-c367-4150-807c-d689934282ef",
   "metadata": {},
   "outputs": [
    {
     "name": "stdout",
     "output_type": "stream",
     "text": [
      "I have a {c} car, model year of {y}, having price is {price}\n"
     ]
    }
   ],
   "source": [
    "c = 'kia'\n",
    "price = 87876765\n",
    "y = 2024\n",
    "\n",
    "message = 'I have a {c} car, model year of {y}, having price is {price}'\n",
    "\n",
    "print(message)"
   ]
  },
  {
   "cell_type": "code",
   "execution_count": 323,
   "id": "bd03fa0e-01b1-42cf-9f65-9e712af9c800",
   "metadata": {},
   "outputs": [
    {
     "name": "stdout",
     "output_type": "stream",
     "text": [
      "Your current account balance is rs {balance}\n"
     ]
    }
   ],
   "source": [
    "balance = 3500\n",
    "msg = 'Your current account balance is rs {balance}'\n",
    "print(msg)"
   ]
  },
  {
   "cell_type": "code",
   "execution_count": 325,
   "id": "4d1e73b2-f343-4237-b756-dcf9fbffc15a",
   "metadata": {},
   "outputs": [
    {
     "name": "stdout",
     "output_type": "stream",
     "text": [
      "Your current account balance is rs 3500\n"
     ]
    }
   ],
   "source": [
    "balance = 3500\n",
    "msg = f'Your current account balance is rs {balance}'\n",
    "print(msg)"
   ]
  },
  {
   "cell_type": "code",
   "execution_count": null,
   "id": "f0046716-87b2-4a3b-8df7-d03cc2d6b775",
   "metadata": {},
   "outputs": [],
   "source": []
  }
 ],
 "metadata": {
  "kernelspec": {
   "display_name": "Python [conda env:base] *",
   "language": "python",
   "name": "conda-base-py"
  },
  "language_info": {
   "codemirror_mode": {
    "name": "ipython",
    "version": 3
   },
   "file_extension": ".py",
   "mimetype": "text/x-python",
   "name": "python",
   "nbconvert_exporter": "python",
   "pygments_lexer": "ipython3",
   "version": "3.12.7"
  }
 },
 "nbformat": 4,
 "nbformat_minor": 5
}
