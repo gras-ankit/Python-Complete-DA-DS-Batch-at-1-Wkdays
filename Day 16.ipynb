{
 "cells": [
  {
   "cell_type": "markdown",
   "id": "de3f018f-3757-46ee-b8c3-ffcd38d8b583",
   "metadata": {},
   "source": [
    "# Exception Handling"
   ]
  },
  {
   "cell_type": "code",
   "execution_count": 2,
   "id": "b28a83f1-3494-4da0-8aed-fc338b748e1b",
   "metadata": {},
   "outputs": [],
   "source": [
    "# Exception: errors comes during run time, due to logical issue or some invalid codes,but not syntax error"
   ]
  },
  {
   "cell_type": "code",
   "execution_count": 4,
   "id": "79a65e97-e0bf-45b1-bc8c-9aff67955ca6",
   "metadata": {},
   "outputs": [],
   "source": [
    "# Syntax Error: Invalid Code, Spelling, Indentation Error, IF"
   ]
  },
  {
   "cell_type": "code",
   "execution_count": 23,
   "id": "c1a79258-ffbb-4ea2-ac63-8c029fade450",
   "metadata": {},
   "outputs": [
    {
     "name": "stdout",
     "output_type": "stream",
     "text": [
      "Try Block Fails!!\n",
      "Hello World\n",
      "I Love Python\n",
      "I Love Python\n",
      "I Love Python\n",
      "I Love Python\n",
      "I Love Python\n",
      "I Love Python\n",
      "I Love Python\n",
      "I Love Python\n",
      "I Love Python\n",
      "I Love Python\n"
     ]
    }
   ],
   "source": [
    "try:\n",
    "    age = [54]\n",
    "    if age>= 18:\n",
    "        print('You can Vote!!')\n",
    "    else:\n",
    "        print('Can not Vote')\n",
    "except:\n",
    "    print('Try Block Fails!!')\n",
    "\n",
    "\n",
    "print('Hello World')\n",
    "for i in range(10):\n",
    "    print('I Love Python')"
   ]
  },
  {
   "cell_type": "code",
   "execution_count": 25,
   "id": "9d342cd7-4934-41c8-8927-65be7a381abe",
   "metadata": {},
   "outputs": [],
   "source": [
    "# nested Exception Handling"
   ]
  },
  {
   "cell_type": "code",
   "execution_count": 31,
   "id": "a978e85f-3f0f-444c-a39d-20e3b86c230f",
   "metadata": {},
   "outputs": [
    {
     "name": "stdout",
     "output_type": "stream",
     "text": [
      "other_code\n"
     ]
    }
   ],
   "source": [
    "try:\n",
    "    try:\n",
    "        try:\n",
    "            Code_1\n",
    "        except:\n",
    "            code_2\n",
    "    except:\n",
    "        try:\n",
    "            print('other_code')\n",
    "        except:\n",
    "            some_other_code\n",
    "except:\n",
    "    print('Something went Wrong!!')"
   ]
  },
  {
   "cell_type": "markdown",
   "id": "f1d2d87e-f9a0-47c4-9ca6-69d7130103d4",
   "metadata": {},
   "source": [
    "# Exception Handling\n",
    "    - try\n",
    "    - except\n",
    "    - else\n",
    "    - finally"
   ]
  },
  {
   "cell_type": "code",
   "execution_count": 40,
   "id": "30ba61cd-5e3d-4dfe-85fd-3ebfa8d39938",
   "metadata": {},
   "outputs": [
    {
     "name": "stdout",
     "output_type": "stream",
     "text": [
      "Try>> Code that can return error or chances!!\n",
      "Except>> It will only run, when try block fails!!\n",
      "Finally>> It will Run Without any Dependencies on any blocks\n",
      "Finally>> This Finally Blocks Run at any cost\n"
     ]
    }
   ],
   "source": [
    "try:\n",
    "    print('Try>> Code that can return error or chances!!')\n",
    "    print(1/0)\n",
    "except:\n",
    "    print('Except>> It will only run, when try block fails!!')\n",
    "else:\n",
    "    print('Else>> Run only When Complete try block runs Successfully!!')  \n",
    "    \n",
    "finally:\n",
    "    print('Finally>> It will Run Without any Dependencies on any blocks')\n",
    "    print('Finally>> This Finally Blocks Run at any cost')"
   ]
  },
  {
   "cell_type": "code",
   "execution_count": null,
   "id": "37eb8fcc-791f-4ed1-94b5-0ded591336a5",
   "metadata": {},
   "outputs": [],
   "source": []
  },
  {
   "cell_type": "code",
   "execution_count": 43,
   "id": "0bd74248-edbd-4eb5-92bb-c1a845544001",
   "metadata": {},
   "outputs": [
    {
     "name": "stdout",
     "output_type": "stream",
     "text": [
      "Except>> It will only run, when try block fails!!\n",
      "Finally>> It will Run Without any Dependencies on any blocks\n",
      "Finally>> This Finally Blocks Run at any cost\n"
     ]
    }
   ],
   "source": [
    "try:\n",
    "    print(1/0)\n",
    "    print('Try>> Code that can return error or chances!!')\n",
    "except:\n",
    "    print('Except>> It will only run, when try block fails!!')\n",
    "else:\n",
    "    print('Else>> Run only When Complete try block runs Successfully!!')  \n",
    "    \n",
    "finally:\n",
    "    print('Finally>> It will Run Without any Dependencies on any blocks')\n",
    "    print('Finally>> This Finally Blocks Run at any cost')"
   ]
  },
  {
   "cell_type": "code",
   "execution_count": 47,
   "id": "dae6f9ab-380e-4e61-8382-47314d72c1d0",
   "metadata": {},
   "outputs": [
    {
     "name": "stdout",
     "output_type": "stream",
     "text": [
      "Harry\n",
      "Something Went wrong with try block\n",
      "Above Code Checked by Developer!!\n"
     ]
    }
   ],
   "source": [
    "try:\n",
    "    name = 'Harry'\n",
    "    print(name)\n",
    "    print(1/0)\n",
    "    data = [23,545,676578]\n",
    "    print(data[0])\n",
    "    print('Hello World')\n",
    "    print('All code run')\n",
    "except:\n",
    "    print('Something Went wrong with try block')\n",
    "else:\n",
    "    print('All cases checked Successfully!!')\n",
    "finally:\n",
    "    print('Above Code Checked by Developer!!')"
   ]
  },
  {
   "cell_type": "code",
   "execution_count": 49,
   "id": "b49e12b9-be2f-441e-8779-5acdbeb1486b",
   "metadata": {},
   "outputs": [
    {
     "ename": "ZeroDivisionError",
     "evalue": "division by zero",
     "output_type": "error",
     "traceback": [
      "\u001b[1;31m---------------------------------------------------------------------------\u001b[0m",
      "\u001b[1;31mZeroDivisionError\u001b[0m                         Traceback (most recent call last)",
      "Cell \u001b[1;32mIn[49], line 1\u001b[0m\n\u001b[1;32m----> 1\u001b[0m \u001b[38;5;28mprint\u001b[39m(\u001b[38;5;241m1\u001b[39m\u001b[38;5;241m/\u001b[39m\u001b[38;5;241m0\u001b[39m)\n",
      "\u001b[1;31mZeroDivisionError\u001b[0m: division by zero"
     ]
    }
   ],
   "source": [
    "print(1/0)"
   ]
  },
  {
   "cell_type": "code",
   "execution_count": 51,
   "id": "8d4fd27d-948f-4669-9f3a-0a949ab820b9",
   "metadata": {},
   "outputs": [
    {
     "ename": "NameError",
     "evalue": "name 'jatin' is not defined",
     "output_type": "error",
     "traceback": [
      "\u001b[1;31m---------------------------------------------------------------------------\u001b[0m",
      "\u001b[1;31mNameError\u001b[0m                                 Traceback (most recent call last)",
      "Cell \u001b[1;32mIn[51], line 1\u001b[0m\n\u001b[1;32m----> 1\u001b[0m \u001b[38;5;28mprint\u001b[39m(jatin)\n",
      "\u001b[1;31mNameError\u001b[0m: name 'jatin' is not defined"
     ]
    }
   ],
   "source": [
    "print(jatin)"
   ]
  },
  {
   "cell_type": "code",
   "execution_count": 53,
   "id": "ddedd05e-3cab-46ee-9498-ee6e0c4c1678",
   "metadata": {},
   "outputs": [
    {
     "ename": "IndexError",
     "evalue": "list index out of range",
     "output_type": "error",
     "traceback": [
      "\u001b[1;31m---------------------------------------------------------------------------\u001b[0m",
      "\u001b[1;31mIndexError\u001b[0m                                Traceback (most recent call last)",
      "Cell \u001b[1;32mIn[53], line 3\u001b[0m\n\u001b[0;32m      1\u001b[0m data \u001b[38;5;241m=\u001b[39m [\u001b[38;5;241m235\u001b[39m,\u001b[38;5;241m46\u001b[39m,\u001b[38;5;241m7\u001b[39m]\n\u001b[1;32m----> 3\u001b[0m data[\u001b[38;5;241m5\u001b[39m]\n",
      "\u001b[1;31mIndexError\u001b[0m: list index out of range"
     ]
    }
   ],
   "source": [
    "data = [235,46,7]\n",
    "\n",
    "data[5]"
   ]
  },
  {
   "cell_type": "code",
   "execution_count": 55,
   "id": "ecd35713-8e8f-4d15-8dba-595a104c5dbd",
   "metadata": {},
   "outputs": [
    {
     "ename": "KeyError",
     "evalue": "'age'",
     "output_type": "error",
     "traceback": [
      "\u001b[1;31m---------------------------------------------------------------------------\u001b[0m",
      "\u001b[1;31mKeyError\u001b[0m                                  Traceback (most recent call last)",
      "Cell \u001b[1;32mIn[55], line 3\u001b[0m\n\u001b[0;32m      1\u001b[0m data \u001b[38;5;241m=\u001b[39m {\u001b[38;5;124m'\u001b[39m\u001b[38;5;124mName\u001b[39m\u001b[38;5;124m'\u001b[39m:\u001b[38;5;124m'\u001b[39m\u001b[38;5;124mAjay\u001b[39m\u001b[38;5;124m'\u001b[39m,\u001b[38;5;124m'\u001b[39m\u001b[38;5;124mAge\u001b[39m\u001b[38;5;124m'\u001b[39m:\u001b[38;5;241m34\u001b[39m}\n\u001b[1;32m----> 3\u001b[0m data[\u001b[38;5;124m'\u001b[39m\u001b[38;5;124mage\u001b[39m\u001b[38;5;124m'\u001b[39m]\n",
      "\u001b[1;31mKeyError\u001b[0m: 'age'"
     ]
    }
   ],
   "source": [
    "data = {'Name':'Ajay','Age':34}\n",
    "\n",
    "data['age']"
   ]
  },
  {
   "cell_type": "code",
   "execution_count": 57,
   "id": "0fd53c0f-dc6e-41e8-a716-f7cf3c9d83a4",
   "metadata": {},
   "outputs": [
    {
     "ename": "TypeError",
     "evalue": "'>=' not supported between instances of 'int' and 'list'",
     "output_type": "error",
     "traceback": [
      "\u001b[1;31m---------------------------------------------------------------------------\u001b[0m",
      "\u001b[1;31mTypeError\u001b[0m                                 Traceback (most recent call last)",
      "Cell \u001b[1;32mIn[57], line 4\u001b[0m\n\u001b[0;32m      1\u001b[0m a \u001b[38;5;241m=\u001b[39m \u001b[38;5;241m34\u001b[39m\n\u001b[0;32m      2\u001b[0m b \u001b[38;5;241m=\u001b[39m [\u001b[38;5;241m34\u001b[39m]\n\u001b[1;32m----> 4\u001b[0m a \u001b[38;5;241m>\u001b[39m\u001b[38;5;241m=\u001b[39mb\n",
      "\u001b[1;31mTypeError\u001b[0m: '>=' not supported between instances of 'int' and 'list'"
     ]
    }
   ],
   "source": [
    "a = 34\n",
    "b = [34]\n",
    "\n",
    "a >= b"
   ]
  },
  {
   "cell_type": "code",
   "execution_count": 65,
   "id": "9de82257-ff46-4683-b401-70c4b6dd8917",
   "metadata": {},
   "outputs": [
    {
     "ename": "IndentationError",
     "evalue": "expected an indented block after 'else' statement on line 4 (2046355652.py, line 5)",
     "output_type": "error",
     "traceback": [
      "\u001b[1;36m  Cell \u001b[1;32mIn[65], line 5\u001b[1;36m\u001b[0m\n\u001b[1;33m    print('No')\u001b[0m\n\u001b[1;37m    ^\u001b[0m\n\u001b[1;31mIndentationError\u001b[0m\u001b[1;31m:\u001b[0m expected an indented block after 'else' statement on line 4\n"
     ]
    }
   ],
   "source": [
    "age = 45\n",
    "if age>= 18:\n",
    "    print('Yes')\n",
    "else:\n",
    "print('No')"
   ]
  },
  {
   "cell_type": "code",
   "execution_count": 69,
   "id": "cd25fcf9-e5ce-46b0-886a-ef6a3121b6cd",
   "metadata": {},
   "outputs": [
    {
     "name": "stdout",
     "output_type": "stream",
     "text": [
      "['ArithmeticError', 'AssertionError', 'AttributeError', 'BaseException', 'BaseExceptionGroup', 'BlockingIOError', 'BrokenPipeError', 'BufferError', 'BytesWarning', 'ChildProcessError', 'ConnectionAbortedError', 'ConnectionError', 'ConnectionRefusedError', 'ConnectionResetError', 'DeprecationWarning', 'EOFError', 'Ellipsis', 'EncodingWarning', 'EnvironmentError', 'Exception', 'ExceptionGroup', 'False', 'FileExistsError', 'FileNotFoundError', 'FloatingPointError', 'FutureWarning', 'GeneratorExit', 'IOError', 'ImportError', 'ImportWarning', 'IndentationError', 'IndexError', 'InterruptedError', 'IsADirectoryError', 'KeyError', 'KeyboardInterrupt', 'LookupError', 'MemoryError', 'ModuleNotFoundError', 'NameError', 'None', 'NotADirectoryError', 'NotImplemented', 'NotImplementedError', 'OSError', 'OverflowError', 'PendingDeprecationWarning', 'PermissionError', 'ProcessLookupError', 'RecursionError', 'ReferenceError', 'ResourceWarning', 'RuntimeError', 'RuntimeWarning', 'StopAsyncIteration', 'StopIteration', 'SyntaxError', 'SyntaxWarning', 'SystemError', 'SystemExit', 'TabError', 'TimeoutError', 'True', 'TypeError', 'UnboundLocalError', 'UnicodeDecodeError', 'UnicodeEncodeError', 'UnicodeError', 'UnicodeTranslateError', 'UnicodeWarning', 'UserWarning', 'ValueError', 'Warning', 'WindowsError', 'ZeroDivisionError', '__IPYTHON__', '__build_class__', '__debug__', '__doc__', '__import__', '__loader__', '__name__', '__package__', '__spec__', 'abs', 'aiter', 'all', 'anext', 'any', 'ascii', 'bin', 'bool', 'breakpoint', 'bytearray', 'bytes', 'callable', 'chr', 'classmethod', 'compile', 'complex', 'copyright', 'credits', 'delattr', 'dict', 'dir', 'display', 'divmod', 'enumerate', 'eval', 'exec', 'execfile', 'filter', 'float', 'format', 'frozenset', 'get_ipython', 'getattr', 'globals', 'hasattr', 'hash', 'help', 'hex', 'id', 'input', 'int', 'isinstance', 'issubclass', 'iter', 'len', 'license', 'list', 'locals', 'map', 'max', 'memoryview', 'min', 'next', 'object', 'oct', 'open', 'ord', 'pow', 'print', 'property', 'range', 'repr', 'reversed', 'round', 'runfile', 'set', 'setattr', 'slice', 'sorted', 'staticmethod', 'str', 'sum', 'super', 'tuple', 'type', 'vars', 'zip']\n"
     ]
    }
   ],
   "source": [
    "print(dir(__builtins__))"
   ]
  },
  {
   "cell_type": "code",
   "execution_count": 71,
   "id": "a2f13155-237d-437d-b71e-99153a9342f2",
   "metadata": {},
   "outputs": [
    {
     "ename": "ModuleNotFoundError",
     "evalue": "No module named 'pandass'",
     "output_type": "error",
     "traceback": [
      "\u001b[1;31m---------------------------------------------------------------------------\u001b[0m",
      "\u001b[1;31mModuleNotFoundError\u001b[0m                       Traceback (most recent call last)",
      "Cell \u001b[1;32mIn[71], line 1\u001b[0m\n\u001b[1;32m----> 1\u001b[0m \u001b[38;5;28;01mimport\u001b[39;00m \u001b[38;5;21;01mpandass\u001b[39;00m\n",
      "\u001b[1;31mModuleNotFoundError\u001b[0m: No module named 'pandass'"
     ]
    }
   ],
   "source": [
    "import pandass"
   ]
  },
  {
   "cell_type": "code",
   "execution_count": 85,
   "id": "0f533b0d-7f89-43a0-ba17-074864030325",
   "metadata": {},
   "outputs": [
    {
     "name": "stdout",
     "output_type": "stream",
     "text": [
      "  ___________\n",
      "| Hello Jatin |\n",
      "  ===========\n",
      "           \\\n",
      "            \\\n",
      "              ^__^\n",
      "              (oo)\\_______\n",
      "              (__)\\       )\\/\\\n",
      "                  ||----w |\n",
      "                  ||     ||\n",
      "Module Loaded Successfully!!\n"
     ]
    }
   ],
   "source": [
    "try:\n",
    "    from cowsay import coww\n",
    "except:\n",
    "    from cowsay import cow\n",
    "    cow('Hello Jatin')\n",
    "else:\n",
    "    print('Valid Module or Function Name') \n",
    "    cow('Hello Karan')\n",
    "finally:\n",
    "    print('Module Loaded Successfully!!')"
   ]
  },
  {
   "cell_type": "code",
   "execution_count": 87,
   "id": "48392e54-83f8-400d-9ca6-7aa91707ccb3",
   "metadata": {},
   "outputs": [
    {
     "ename": "TypeError",
     "evalue": "unsupported operand type(s) for /: 'int' and 'str'",
     "output_type": "error",
     "traceback": [
      "\u001b[1;31m---------------------------------------------------------------------------\u001b[0m",
      "\u001b[1;31mTypeError\u001b[0m                                 Traceback (most recent call last)",
      "Cell \u001b[1;32mIn[87], line 1\u001b[0m\n\u001b[1;32m----> 1\u001b[0m \u001b[38;5;241m12\u001b[39m\u001b[38;5;241m/\u001b[39m\u001b[38;5;124m'\u001b[39m\u001b[38;5;124m12\u001b[39m\u001b[38;5;124m'\u001b[39m\n",
      "\u001b[1;31mTypeError\u001b[0m: unsupported operand type(s) for /: 'int' and 'str'"
     ]
    }
   ],
   "source": [
    "12/'12'"
   ]
  },
  {
   "cell_type": "code",
   "execution_count": 89,
   "id": "190e9b25-d22b-4fdf-b371-1e6a824edbe9",
   "metadata": {},
   "outputs": [
    {
     "ename": "ValueError",
     "evalue": "invalid literal for int() with base 10: '34.5'",
     "output_type": "error",
     "traceback": [
      "\u001b[1;31m---------------------------------------------------------------------------\u001b[0m",
      "\u001b[1;31mValueError\u001b[0m                                Traceback (most recent call last)",
      "Cell \u001b[1;32mIn[89], line 1\u001b[0m\n\u001b[1;32m----> 1\u001b[0m \u001b[38;5;28mint\u001b[39m(\u001b[38;5;124m'\u001b[39m\u001b[38;5;124m34.5\u001b[39m\u001b[38;5;124m'\u001b[39m)\n",
      "\u001b[1;31mValueError\u001b[0m: invalid literal for int() with base 10: '34.5'"
     ]
    }
   ],
   "source": [
    "int('34.5')"
   ]
  },
  {
   "cell_type": "code",
   "execution_count": 91,
   "id": "c42dc62c-a884-456c-99b5-5efe26bd6bcb",
   "metadata": {},
   "outputs": [
    {
     "data": {
      "text/plain": [
       "34"
      ]
     },
     "execution_count": 91,
     "metadata": {},
     "output_type": "execute_result"
    }
   ],
   "source": [
    "int('34')"
   ]
  },
  {
   "cell_type": "code",
   "execution_count": 95,
   "id": "83373bc8-05ed-4901-92cc-b260d2f9e4d8",
   "metadata": {},
   "outputs": [
    {
     "data": {
      "text/plain": [
       "34"
      ]
     },
     "execution_count": 95,
     "metadata": {},
     "output_type": "execute_result"
    }
   ],
   "source": [
    "int(float('34.5'))"
   ]
  },
  {
   "cell_type": "code",
   "execution_count": null,
   "id": "50437378-8dfe-491c-a079-a704964671b7",
   "metadata": {},
   "outputs": [],
   "source": []
  }
 ],
 "metadata": {
  "kernelspec": {
   "display_name": "Python [conda env:base] *",
   "language": "python",
   "name": "conda-base-py"
  },
  "language_info": {
   "codemirror_mode": {
    "name": "ipython",
    "version": 3
   },
   "file_extension": ".py",
   "mimetype": "text/x-python",
   "name": "python",
   "nbconvert_exporter": "python",
   "pygments_lexer": "ipython3",
   "version": "3.12.7"
  }
 },
 "nbformat": 4,
 "nbformat_minor": 5
}
