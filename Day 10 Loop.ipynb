{
 "cells": [
  {
   "cell_type": "markdown",
   "id": "1d9c0a76-f209-4e7d-9a2f-c10cd33b8d30",
   "metadata": {},
   "source": [
    "# For Loop, While Loop"
   ]
  },
  {
   "cell_type": "code",
   "execution_count": 2,
   "id": "59eec76c-58f4-476d-9c50-2193e6b97bcd",
   "metadata": {},
   "outputs": [],
   "source": [
    "# for i in collection_data_type:\n",
    "#     code block"
   ]
  },
  {
   "cell_type": "code",
   "execution_count": 4,
   "id": "5a95fe5a-c786-478b-83c0-876cce25650e",
   "metadata": {},
   "outputs": [],
   "source": [
    "# allowed: str, list, tuple, set, dict, frozenset, any collection\n",
    "# not allowed: int, float, complex, True, None"
   ]
  },
  {
   "cell_type": "markdown",
   "id": "c64777a9-522e-4d07-8400-88b9fca9af0a",
   "metadata": {},
   "source": [
    "# String with For loop"
   ]
  },
  {
   "cell_type": "code",
   "execution_count": 13,
   "id": "da3ee6ad-1bb7-4429-acaf-86437df6b198",
   "metadata": {},
   "outputs": [
    {
     "name": "stdout",
     "output_type": "stream",
     "text": [
      "H\n",
      "A\n",
      "R\n",
      "R\n",
      "Y\n"
     ]
    }
   ],
   "source": [
    "import time\n",
    "for i in 'Harry':\n",
    "    print(i.upper())\n",
    "    time.sleep(1)"
   ]
  },
  {
   "cell_type": "code",
   "execution_count": 15,
   "id": "5efd0f1d-a78f-4578-b277-1e43286dac25",
   "metadata": {},
   "outputs": [
    {
     "name": "stdout",
     "output_type": "stream",
     "text": [
      "HARRY"
     ]
    }
   ],
   "source": [
    "import time\n",
    "for i in 'Harry':\n",
    "    print(i.upper(),end = '')\n",
    "    time.sleep(1)"
   ]
  },
  {
   "cell_type": "code",
   "execution_count": 17,
   "id": "6857e569-28ad-4adf-bfee-427eff68203b",
   "metadata": {},
   "outputs": [],
   "source": [
    "p = '''Twinkle, twinkle, little star,\n",
    "How I wonder what you are!\n",
    "Up above the world so high,\n",
    "Like a diamond in the sky.\n",
    "\n",
    "When the blazing sun is gone,\n",
    "When he nothing shines upon,\n",
    "Then you show your little light,\n",
    "Twinkle, twinkle, all the night.\n",
    "\n",
    "Then the traveler in the dark\n",
    "Thanks you for your tiny spark,\n",
    "How could he see where to go,\n",
    "If you did not twinkle so?\n",
    "\n",
    "In the dark blue sky you keep,\n",
    "Often through my curtains peep\n",
    "For you never shut your eye,\n",
    "Till the sun is in the sky.\n",
    "\n",
    "As your bright and tiny spark\n",
    "Lights the traveler in the dark,\n",
    "Though I know not what you are,\n",
    "Twinkle, twinkle, little star.'''"
   ]
  },
  {
   "cell_type": "code",
   "execution_count": 27,
   "id": "b7eb83c7-e4ca-4d86-a7d2-2f1ea8152669",
   "metadata": {},
   "outputs": [
    {
     "name": "stdout",
     "output_type": "stream",
     "text": [
      "TWINKLE, TWINKLE, LITTLE STAR,\n",
      "HOW I WONDER WHAT YOU ARE!\n",
      "UP ABOVE THE WORLD SO HIGH,\n",
      "LIKE A DIAMOND IN THE SKY.\n",
      "\n",
      "WHEN THE BLAZING SUN IS GONE,\n",
      "WHEN HE NOTHING SHINES UPON,\n",
      "THEN YOU SHOW YOUR LITTLE LIGHT,\n",
      "TWINKLE, TWINKLE, ALL THE NIGHT.\n",
      "\n",
      "THEN THE TRAVELER IN THE DARK\n",
      "THANKS YOU FOR YOUR TINY SPARK,\n",
      "HOW COULD HE SEE WHERE TO GO,\n",
      "IF YOU DID NOT TWINKLE SO?\n",
      "\n",
      "IN THE DARK BLUE SKY YOU KEEP,\n",
      "OFTEN THROUGH MY CURTAINS PEEP\n",
      "FOR YOU NEVER SHUT YOUR EYE,\n",
      "TILL THE SUN IS IN THE SKY.\n",
      "\n",
      "AS YOUR BRIGHT AND TINY SPARK\n",
      "LIGHTS THE TRAVELER IN THE DARK,\n",
      "THOUGH I KNOW NOT WHAT YOU ARE,\n",
      "TWINKLE, TWINKLE, LITTLE STAR."
     ]
    }
   ],
   "source": [
    "for i in p:\n",
    "    print(i.upper(),end = '')\n",
    "    time.sleep(0.005)"
   ]
  },
  {
   "cell_type": "markdown",
   "id": "070d5d9f-d1c3-4fa9-8e2c-5c37b52308fd",
   "metadata": {},
   "source": [
    "# Loop With List"
   ]
  },
  {
   "cell_type": "code",
   "execution_count": 34,
   "id": "5fd5f128-b4a8-4b9f-bfcb-e4b4a8a627f1",
   "metadata": {},
   "outputs": [
    {
     "name": "stdout",
     "output_type": "stream",
     "text": [
      "Even List:  [356, 346, 456, 34, 56, 5436, 4, 64, 6]\n",
      "Odd List:  [3, 5, 63, 467, 45, 63, 5, 567, 45, 6785]\n"
     ]
    }
   ],
   "source": [
    "data = [356,346,3,456,34,56,5436,4,64,5,63,467,45,63,5,6,567,45,6785]\n",
    "even = []\n",
    "odd = []\n",
    "\n",
    "for i in  data:\n",
    "    if i % 2 == 0:\n",
    "        even.append(i)\n",
    "    else:\n",
    "        odd.append(i)\n",
    "\n",
    "print('Even List: ',even)\n",
    "print('Odd List: ',odd)"
   ]
  },
  {
   "cell_type": "code",
   "execution_count": 44,
   "id": "9b15c480-9761-486a-9830-01328ed7bc46",
   "metadata": {},
   "outputs": [
    {
     "name": "stdout",
     "output_type": "stream",
     "text": [
      "Vowels List ['#OLA', '#UBER', '#ADANI']\n",
      "Consonants List ['@kia', '@rapido', '@metro', '@blinkit', '@tcs']\n"
     ]
    }
   ],
   "source": [
    "companies = ['ola','uber','kia','rapido','metro','BLinKIT','adani','tcs']\n",
    "vowels = []\n",
    "consonants = []\n",
    "\n",
    "for i in companies:\n",
    "    if i[0].lower() in 'aeiou':\n",
    "        vowels.append('#'+i.upper())\n",
    "    else:\n",
    "        consonants.append('@'+i.lower())\n",
    "print('Vowels List',vowels)\n",
    "print('Consonants List',consonants)"
   ]
  },
  {
   "cell_type": "code",
   "execution_count": null,
   "id": "3f6a5c00-ddfc-4ae0-bf0b-ca767acbe3ba",
   "metadata": {},
   "outputs": [],
   "source": []
  },
  {
   "cell_type": "markdown",
   "id": "18fbc233-5978-4174-ba02-ca085368bb36",
   "metadata": {},
   "source": [
    "# Emp DataBase Design"
   ]
  },
  {
   "cell_type": "code",
   "execution_count": 56,
   "id": "2fa2a61e-7883-496e-9be8-88aade5cdc7c",
   "metadata": {},
   "outputs": [
    {
     "name": "stdin",
     "output_type": "stream",
     "text": [
      "Enter How many records you wants to Insert 2\n",
      "Enter your name:  Naman\n",
      "Enter your Age:  23\n",
      "Enter your Salary:  45000\n",
      "Enter your Department:  IT\n",
      "Enter Your Address:  Noida\n",
      "Enter your Designation:  Data Analyst\n"
     ]
    },
    {
     "name": "stdout",
     "output_type": "stream",
     "text": [
      "Naman your records has been inserted Successfully!!\n",
      "-------------------------------------------\n",
      "\n"
     ]
    },
    {
     "name": "stdin",
     "output_type": "stream",
     "text": [
      "Enter your name:  Jatin\n",
      "Enter your Age:  34\n",
      "Enter your Salary:  56789\n",
      "Enter your Department:  HR\n",
      "Enter Your Address:  Gr Noida\n",
      "Enter your Designation:  HR Manager\n"
     ]
    },
    {
     "name": "stdout",
     "output_type": "stream",
     "text": [
      "Jatin your records has been inserted Successfully!!\n",
      "-------------------------------------------\n",
      "\n"
     ]
    },
    {
     "data": {
      "text/html": [
       "<div>\n",
       "<style scoped>\n",
       "    .dataframe tbody tr th:only-of-type {\n",
       "        vertical-align: middle;\n",
       "    }\n",
       "\n",
       "    .dataframe tbody tr th {\n",
       "        vertical-align: top;\n",
       "    }\n",
       "\n",
       "    .dataframe thead th {\n",
       "        text-align: right;\n",
       "    }\n",
       "</style>\n",
       "<table border=\"1\" class=\"dataframe\">\n",
       "  <thead>\n",
       "    <tr style=\"text-align: right;\">\n",
       "      <th></th>\n",
       "      <th>Name</th>\n",
       "      <th>Age</th>\n",
       "      <th>Salary</th>\n",
       "      <th>Dept</th>\n",
       "      <th>Address</th>\n",
       "      <th>Designation</th>\n",
       "    </tr>\n",
       "  </thead>\n",
       "  <tbody>\n",
       "    <tr>\n",
       "      <th>0</th>\n",
       "      <td>Naman</td>\n",
       "      <td>23</td>\n",
       "      <td>45000</td>\n",
       "      <td>IT</td>\n",
       "      <td>Noida</td>\n",
       "      <td>Data Analyst</td>\n",
       "    </tr>\n",
       "    <tr>\n",
       "      <th>1</th>\n",
       "      <td>Jatin</td>\n",
       "      <td>34</td>\n",
       "      <td>56789</td>\n",
       "      <td>HR</td>\n",
       "      <td>Gr Noida</td>\n",
       "      <td>HR Manager</td>\n",
       "    </tr>\n",
       "  </tbody>\n",
       "</table>\n",
       "</div>"
      ],
      "text/plain": [
       "    Name Age Salary Dept   Address   Designation\n",
       "0  Naman  23  45000   IT     Noida  Data Analyst\n",
       "1  Jatin  34  56789   HR  Gr Noida    HR Manager"
      ]
     },
     "execution_count": 56,
     "metadata": {},
     "output_type": "execute_result"
    }
   ],
   "source": [
    "records = int(input('Enter How many records you wants to Insert'))\n",
    "\n",
    "data = {'Name':[], 'Age':[], 'Salary':[], 'Dept':[],'Address': [], 'Designation':[]}\n",
    "\n",
    "for i in range(records):\n",
    "    name = input('Enter your name: ')\n",
    "    age = input('Enter your Age: ')\n",
    "    salary = input('Enter your Salary: ')\n",
    "    dept = input('Enter your Department: ')\n",
    "    address = input('Enter Your Address: ')\n",
    "    designation = input('Enter your Designation: ')\n",
    "\n",
    "    data['Name'].append(name)\n",
    "    data['Age'].append(age)\n",
    "    data['Salary'].append(salary)\n",
    "    data['Dept'].append(dept)\n",
    "    data['Address'].append(address)\n",
    "    data['Designation'].append(designation)\n",
    "\n",
    "    print(f'{name} your records has been inserted Successfully!!')\n",
    "    print('-------------------------------------------\\n')\n",
    "\n",
    "import pandas as pd\n",
    "table = pd.DataFrame(data)\n",
    "table"
   ]
  },
  {
   "cell_type": "code",
   "execution_count": 58,
   "id": "12eebaa0-af05-4af6-9cc9-b115fbaee769",
   "metadata": {},
   "outputs": [
    {
     "data": {
      "text/html": [
       "<div>\n",
       "<style scoped>\n",
       "    .dataframe tbody tr th:only-of-type {\n",
       "        vertical-align: middle;\n",
       "    }\n",
       "\n",
       "    .dataframe tbody tr th {\n",
       "        vertical-align: top;\n",
       "    }\n",
       "\n",
       "    .dataframe thead th {\n",
       "        text-align: right;\n",
       "    }\n",
       "</style>\n",
       "<table border=\"1\" class=\"dataframe\">\n",
       "  <thead>\n",
       "    <tr style=\"text-align: right;\">\n",
       "      <th></th>\n",
       "      <th>Name</th>\n",
       "      <th>Age</th>\n",
       "      <th>Salary</th>\n",
       "      <th>Dept</th>\n",
       "      <th>Address</th>\n",
       "      <th>Designation</th>\n",
       "    </tr>\n",
       "  </thead>\n",
       "  <tbody>\n",
       "    <tr>\n",
       "      <th>0</th>\n",
       "      <td>Naman</td>\n",
       "      <td>23</td>\n",
       "      <td>45000</td>\n",
       "      <td>IT</td>\n",
       "      <td>Noida</td>\n",
       "      <td>Data Analyst</td>\n",
       "    </tr>\n",
       "    <tr>\n",
       "      <th>1</th>\n",
       "      <td>Jatin</td>\n",
       "      <td>34</td>\n",
       "      <td>56789</td>\n",
       "      <td>HR</td>\n",
       "      <td>Gr Noida</td>\n",
       "      <td>HR Manager</td>\n",
       "    </tr>\n",
       "  </tbody>\n",
       "</table>\n",
       "</div>"
      ],
      "text/plain": [
       "    Name Age Salary Dept   Address   Designation\n",
       "0  Naman  23  45000   IT     Noida  Data Analyst\n",
       "1  Jatin  34  56789   HR  Gr Noida    HR Manager"
      ]
     },
     "execution_count": 58,
     "metadata": {},
     "output_type": "execute_result"
    }
   ],
   "source": [
    "table"
   ]
  },
  {
   "cell_type": "code",
   "execution_count": 60,
   "id": "fcbf5e83-b3be-410e-afe6-6956e021523d",
   "metadata": {},
   "outputs": [
    {
     "name": "stdout",
     "output_type": "stream",
     "text": [
      "Done\n"
     ]
    }
   ],
   "source": [
    "table.to_excel('Emp_records.xlsx')\n",
    "print('Done')"
   ]
  },
  {
   "cell_type": "code",
   "execution_count": null,
   "id": "6b5294a2-e72a-4a3b-bf96-4835ef928e70",
   "metadata": {},
   "outputs": [],
   "source": []
  },
  {
   "cell_type": "markdown",
   "id": "2704999a-c1e0-4e16-9009-15d44bf16bf4",
   "metadata": {},
   "source": [
    "# Number Guess Game"
   ]
  },
  {
   "cell_type": "code",
   "execution_count": 70,
   "id": "5fc52be3-695f-4eab-a9c9-342cc15cf1fc",
   "metadata": {},
   "outputs": [
    {
     "name": "stdout",
     "output_type": "stream",
     "text": [
      "Welcome to KB Number Guess Game\n",
      "\n",
      "\n",
      "\n"
     ]
    },
    {
     "name": "stdin",
     "output_type": "stream",
     "text": [
      "Attempt: 1 Guess a Number (1-10):  7\n"
     ]
    },
    {
     "name": "stdout",
     "output_type": "stream",
     "text": [
      "\n",
      "    computer choice: 7\n",
      "    User Choice: 7\n",
      "You Won Rs 200🌟🎇\n",
      "\n"
     ]
    },
    {
     "name": "stdin",
     "output_type": "stream",
     "text": [
      "Attempt: 2 Guess a Number (1-10):  9\n"
     ]
    },
    {
     "name": "stdout",
     "output_type": "stream",
     "text": [
      "\n",
      "    computer choice: 7\n",
      "    User Choice: 9\n",
      "😥😥Better Luck Next Time😥😥: \n",
      "\n"
     ]
    },
    {
     "name": "stdin",
     "output_type": "stream",
     "text": [
      "Attempt: 3 Guess a Number (1-10):  3\n"
     ]
    },
    {
     "name": "stdout",
     "output_type": "stream",
     "text": [
      "\n",
      "    computer choice: 8\n",
      "    User Choice: 3\n",
      "😥😥Better Luck Next Time😥😥: \n",
      "\n"
     ]
    },
    {
     "name": "stdin",
     "output_type": "stream",
     "text": [
      "Attempt: 4 Guess a Number (1-10):  5\n"
     ]
    },
    {
     "name": "stdout",
     "output_type": "stream",
     "text": [
      "\n",
      "    computer choice: 4\n",
      "    User Choice: 5\n",
      "😥😥Better Luck Next Time😥😥: \n",
      "\n"
     ]
    },
    {
     "name": "stdin",
     "output_type": "stream",
     "text": [
      "Attempt: 5 Guess a Number (1-10):  7\n"
     ]
    },
    {
     "name": "stdout",
     "output_type": "stream",
     "text": [
      "\n",
      "    computer choice: 5\n",
      "    User Choice: 7\n",
      "😥😥Better Luck Next Time😥😥: \n",
      "\n"
     ]
    },
    {
     "name": "stdin",
     "output_type": "stream",
     "text": [
      "Attempt: 6 Guess a Number (1-10):  9\n"
     ]
    },
    {
     "name": "stdout",
     "output_type": "stream",
     "text": [
      "\n",
      "    computer choice: 2\n",
      "    User Choice: 9\n",
      "😥😥Better Luck Next Time😥😥: \n",
      "\n"
     ]
    },
    {
     "name": "stdin",
     "output_type": "stream",
     "text": [
      "Attempt: 7 Guess a Number (1-10):  1\n"
     ]
    },
    {
     "name": "stdout",
     "output_type": "stream",
     "text": [
      "\n",
      "    computer choice: 2\n",
      "    User Choice: 1\n",
      "😥😥Better Luck Next Time😥😥: \n",
      "\n"
     ]
    },
    {
     "name": "stdin",
     "output_type": "stream",
     "text": [
      "Attempt: 8 Guess a Number (1-10):  2\n"
     ]
    },
    {
     "name": "stdout",
     "output_type": "stream",
     "text": [
      "\n",
      "    computer choice: 6\n",
      "    User Choice: 2\n",
      "😥😥Better Luck Next Time😥😥: \n",
      "\n"
     ]
    },
    {
     "name": "stdin",
     "output_type": "stream",
     "text": [
      "Attempt: 9 Guess a Number (1-10):  4\n"
     ]
    },
    {
     "name": "stdout",
     "output_type": "stream",
     "text": [
      "\n",
      "    computer choice: 9\n",
      "    User Choice: 4\n",
      "😥😥Better Luck Next Time😥😥: \n",
      "\n"
     ]
    },
    {
     "name": "stdin",
     "output_type": "stream",
     "text": [
      "Attempt: 10 Guess a Number (1-10):  8\n"
     ]
    },
    {
     "name": "stdout",
     "output_type": "stream",
     "text": [
      "\n",
      "    computer choice: 6\n",
      "    User Choice: 8\n",
      "😥😥Better Luck Next Time😥😥: \n",
      "\n"
     ]
    }
   ],
   "source": [
    "##### import random\n",
    "\n",
    "print('Welcome to KB Number Guess Game')\n",
    "print('\\n\\n')\n",
    "attempts = 10\n",
    "entry_fees = 100\n",
    "company_collection = 0\n",
    "user_collection = attempts * entry_fees\n",
    "\n",
    "for i in range(attempts):\n",
    "    user_collection -= entry_fees\n",
    "    company_collection += entry_fees\n",
    "    \n",
    "    comp = random.randint(1,10)\n",
    "    user = int(input(f'Attempt: {i+1} Guess a Number (1-10): '))\n",
    "\n",
    "    print(f'''\n",
    "    computer choice: {comp}\n",
    "    User Choice: {user}''')\n",
    "    \n",
    "    if user == comp:\n",
    "        print('You Won Rs 200🌟🎇',end = '\\n'*2)\n",
    "        user_collection += entry_fees * 2\n",
    "        company_collection -= entry_fees * 2\n",
    "    else:\n",
    "        print('😥😥Better Luck Next Time😥😥: ',end = '\\n'*2)\n",
    "        "
   ]
  },
  {
   "cell_type": "code",
   "execution_count": 72,
   "id": "72bfd6b4-076d-484f-8caa-b14dadb06037",
   "metadata": {},
   "outputs": [
    {
     "name": "stdout",
     "output_type": "stream",
     "text": [
      "Company collection:  800\n",
      "User Collection:  200\n"
     ]
    }
   ],
   "source": [
    "print('Company collection: ',company_collection)\n",
    "print('User Collection: ',user_collection)"
   ]
  },
  {
   "cell_type": "code",
   "execution_count": 74,
   "id": "db7f6479-bfff-432b-a707-58a37c41a875",
   "metadata": {},
   "outputs": [],
   "source": [
    "# 900\n",
    "# 800 + 200\n",
    "# 900\n",
    "# 800\n",
    "# 700\n",
    "# 600\n",
    "# 500\n",
    "# 400\n",
    "# 300\n",
    "# 200"
   ]
  },
  {
   "cell_type": "markdown",
   "id": "9185ce1d-6133-455d-ae5d-e6641bdb4241",
   "metadata": {},
   "source": [
    "# Password Generator"
   ]
  },
  {
   "cell_type": "code",
   "execution_count": 138,
   "id": "baf138c1-c29e-43d8-9acd-84cfa1e6ad3a",
   "metadata": {},
   "outputs": [
    {
     "name": "stdout",
     "output_type": "stream",
     "text": [
      "Suggested Password is:  y<BBhhZmEp*1egdh4C64\n"
     ]
    }
   ],
   "source": [
    "import string\n",
    "import random\n",
    "all_possible_char = string.ascii_letters + string.digits + string.punctuation\n",
    "passowrd_length = 20\n",
    "password = ''\n",
    "\n",
    "for i in range(passowrd_length):\n",
    "    password += random.choice(all_possible_char)\n",
    "\n",
    "print('Suggested Password is: ',password)"
   ]
  },
  {
   "cell_type": "code",
   "execution_count": 120,
   "id": "2d93579c-b6f3-466f-844c-22a0b12f26e6",
   "metadata": {},
   "outputs": [
    {
     "data": {
      "text/plain": [
       "94"
      ]
     },
     "execution_count": 120,
     "metadata": {},
     "output_type": "execute_result"
    }
   ],
   "source": [
    "len(all_possible_char)"
   ]
  },
  {
   "cell_type": "code",
   "execution_count": null,
   "id": "08fb109b-a92e-49d2-baaf-b4cfd3097313",
   "metadata": {},
   "outputs": [],
   "source": [
    "import string\n",
    "import random\n",
    "all_possible_char = string.ascii_letters + string.digits + string.punctuation\n",
    "passowrd_length = 10\n",
    "password = ''\n",
    "\n",
    "for i in range(passowrd_length):\n",
    "    password += random.choice(all_possible_char)\n",
    "\n",
    "print('Suggested Password is: ','vinay@'+password)"
   ]
  },
  {
   "cell_type": "code",
   "execution_count": null,
   "id": "c1c8d9ef-4a25-455a-8ae5-d21be7da70fb",
   "metadata": {},
   "outputs": [],
   "source": []
  },
  {
   "cell_type": "code",
   "execution_count": null,
   "id": "54d3f8a5-0f38-45e0-b96e-0248a45a0884",
   "metadata": {},
   "outputs": [],
   "source": []
  }
 ],
 "metadata": {
  "kernelspec": {
   "display_name": "Python [conda env:base] *",
   "language": "python",
   "name": "conda-base-py"
  },
  "language_info": {
   "codemirror_mode": {
    "name": "ipython",
    "version": 3
   },
   "file_extension": ".py",
   "mimetype": "text/x-python",
   "name": "python",
   "nbconvert_exporter": "python",
   "pygments_lexer": "ipython3",
   "version": "3.12.7"
  }
 },
 "nbformat": 4,
 "nbformat_minor": 5
}
