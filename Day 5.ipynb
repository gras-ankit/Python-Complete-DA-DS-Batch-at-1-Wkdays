{
 "cells": [
  {
   "cell_type": "code",
   "execution_count": 1,
   "id": "ac859d43-faeb-43d3-8373-3e9d73c25c09",
   "metadata": {},
   "outputs": [],
   "source": [
    "# Variables declaration\n",
    "# Operators"
   ]
  },
  {
   "cell_type": "code",
   "execution_count": 3,
   "id": "ecf91655-206f-47f7-b096-d9c573bcb925",
   "metadata": {},
   "outputs": [],
   "source": [
    "a = 67"
   ]
  },
  {
   "cell_type": "code",
   "execution_count": 5,
   "id": "f0549fcd-aefd-47ba-b3a8-01f16d7dcff5",
   "metadata": {},
   "outputs": [],
   "source": [
    "b = 78"
   ]
  },
  {
   "cell_type": "code",
   "execution_count": 7,
   "id": "e0f920ae-fb6e-414c-ac39-cbf29e9b3f49",
   "metadata": {},
   "outputs": [
    {
     "ename": "SyntaxError",
     "evalue": "invalid decimal literal (1672905354.py, line 3)",
     "output_type": "error",
     "traceback": [
      "\u001b[1;36m  Cell \u001b[1;32mIn[7], line 3\u001b[1;36m\u001b[0m\n\u001b[1;33m    456name = 'Jatin'\u001b[0m\n\u001b[1;37m      ^\u001b[0m\n\u001b[1;31mSyntaxError\u001b[0m\u001b[1;31m:\u001b[0m invalid decimal literal\n"
     ]
    }
   ],
   "source": [
    "# Rules 1 can not starts with digits\n",
    "\n",
    "456name = 'Jatin'"
   ]
  },
  {
   "cell_type": "code",
   "execution_count": 9,
   "id": "ff6e3e73-083f-4d08-bc67-8774b78ff18b",
   "metadata": {},
   "outputs": [
    {
     "ename": "SyntaxError",
     "evalue": "invalid syntax (1309456619.py, line 3)",
     "output_type": "error",
     "traceback": [
      "\u001b[1;36m  Cell \u001b[1;32mIn[9], line 3\u001b[1;36m\u001b[0m\n\u001b[1;33m    full name = 'Jatin kumar'\u001b[0m\n\u001b[1;37m         ^\u001b[0m\n\u001b[1;31mSyntaxError\u001b[0m\u001b[1;31m:\u001b[0m invalid syntax\n"
     ]
    }
   ],
   "source": [
    "# Rules 2 must not contain any white spaces\n",
    "\n",
    "full name = 'Jatin kumar'"
   ]
  },
  {
   "cell_type": "code",
   "execution_count": 13,
   "id": "04a594e8-1667-4936-a8f2-65e8a8a66ff9",
   "metadata": {},
   "outputs": [
    {
     "ename": "SyntaxError",
     "evalue": "invalid syntax. Maybe you meant '==' or ':=' instead of '='? (2836940734.py, line 3)",
     "output_type": "error",
     "traceback": [
      "\u001b[1;36m  Cell \u001b[1;32mIn[13], line 3\u001b[1;36m\u001b[0m\n\u001b[1;33m    @name = 'Jatin kumar'\u001b[0m\n\u001b[1;37m     ^\u001b[0m\n\u001b[1;31mSyntaxError\u001b[0m\u001b[1;31m:\u001b[0m invalid syntax. Maybe you meant '==' or ':=' instead of '='?\n"
     ]
    }
   ],
   "source": [
    "# Rules 3 It must not contain any special characters, not allowed\n",
    "# !@#$%^&*()+=?<>:'[]\\'\n",
    "@name = 'Jatin kumar'"
   ]
  },
  {
   "cell_type": "code",
   "execution_count": 15,
   "id": "9411e8f7-27c9-4bb4-9f1a-45e29a6092a2",
   "metadata": {},
   "outputs": [],
   "source": [
    "# Rules 4 only underscore is allowed\n",
    "# _\n",
    "_a = 'Jatin kumar'"
   ]
  },
  {
   "cell_type": "code",
   "execution_count": 17,
   "id": "5c4ee423-8933-456e-8261-9b5a34238818",
   "metadata": {},
   "outputs": [],
   "source": [
    "_ = 'Mohan'"
   ]
  },
  {
   "cell_type": "code",
   "execution_count": 19,
   "id": "3e84d366-a0f0-4bec-a958-de17833439bb",
   "metadata": {},
   "outputs": [
    {
     "name": "stdout",
     "output_type": "stream",
     "text": [
      "Mohan\n"
     ]
    }
   ],
   "source": [
    "print(_)"
   ]
  },
  {
   "cell_type": "code",
   "execution_count": 23,
   "id": "597d6d41-b84a-4206-833c-6b1ffd078ca7",
   "metadata": {},
   "outputs": [],
   "source": [
    "# Rules 5 digits are allowed after first index\n",
    "# _\n",
    "y1234r= 'Jatin kumar'"
   ]
  },
  {
   "cell_type": "code",
   "execution_count": 25,
   "id": "ed11e692-ca9d-4d29-a231-a399dd0aec13",
   "metadata": {},
   "outputs": [
    {
     "name": "stdout",
     "output_type": "stream",
     "text": [
      "\n",
      "Here is a list of the Python keywords.  Enter any keyword to get more help.\n",
      "\n",
      "False               class               from                or\n",
      "None                continue            global              pass\n",
      "True                def                 if                  raise\n",
      "and                 del                 import              return\n",
      "as                  elif                in                  try\n",
      "assert              else                is                  while\n",
      "async               except              lambda              with\n",
      "await               finally             nonlocal            yield\n",
      "break               for                 not                 \n",
      "\n"
     ]
    }
   ],
   "source": [
    "help('keywords')"
   ]
  },
  {
   "cell_type": "code",
   "execution_count": 37,
   "id": "844de59f-3f22-4dd6-9c52-f4aa9a46bd77",
   "metadata": {},
   "outputs": [],
   "source": [
    "Del= 'lucky'"
   ]
  },
  {
   "cell_type": "code",
   "execution_count": 39,
   "id": "513aca6c-840a-4eb3-a7df-acb497957b5e",
   "metadata": {},
   "outputs": [],
   "source": [
    "# Rules 6 Keywords not allowed"
   ]
  },
  {
   "cell_type": "code",
   "execution_count": 41,
   "id": "688366b1-2766-4562-ba0c-9842fbdcf022",
   "metadata": {},
   "outputs": [
    {
     "ename": "SyntaxError",
     "evalue": "invalid syntax (324317781.py, line 1)",
     "output_type": "error",
     "traceback": [
      "\u001b[1;36m  Cell \u001b[1;32mIn[41], line 1\u001b[1;36m\u001b[0m\n\u001b[1;33m    del = 'lucky'\u001b[0m\n\u001b[1;37m        ^\u001b[0m\n\u001b[1;31mSyntaxError\u001b[0m\u001b[1;31m:\u001b[0m invalid syntax\n"
     ]
    }
   ],
   "source": [
    "del = 'lucky'"
   ]
  },
  {
   "cell_type": "code",
   "execution_count": 43,
   "id": "e754c26f-686c-43b1-b181-eb7b994f133c",
   "metadata": {},
   "outputs": [],
   "source": [
    "# Rule 7: Python is case sensitive"
   ]
  },
  {
   "cell_type": "code",
   "execution_count": 45,
   "id": "85ca8381-5e7c-4085-8b56-963474dec00d",
   "metadata": {},
   "outputs": [],
   "source": [
    "name = 'ajay'\n",
    "Name = 'Lucky'\n",
    "NAME = 'Karan'"
   ]
  },
  {
   "cell_type": "code",
   "execution_count": null,
   "id": "9cc6e920-e6e6-40d4-9fa9-e4716766d7e4",
   "metadata": {},
   "outputs": [],
   "source": []
  },
  {
   "cell_type": "markdown",
   "id": "dc9cd6fa-a867-4c0a-8970-7e6d971f9105",
   "metadata": {},
   "source": [
    "# Operators "
   ]
  },
  {
   "cell_type": "markdown",
   "id": "45dcff24-7479-400d-b6a3-3ec302e35488",
   "metadata": {},
   "source": [
    "# Arithmetic Op\n",
    "- -, *, +, /, //, %, **"
   ]
  },
  {
   "cell_type": "code",
   "execution_count": 50,
   "id": "647fd149-97b8-41a5-adac-01bce6f57a11",
   "metadata": {},
   "outputs": [
    {
     "name": "stdout",
     "output_type": "stream",
     "text": [
      "101\n"
     ]
    }
   ],
   "source": [
    "a = 45\n",
    "b = 56\n",
    "\n",
    "print(a + b)"
   ]
  },
  {
   "cell_type": "code",
   "execution_count": 54,
   "id": "dfe6302a-860c-4ee6-b9cf-a8de893627d2",
   "metadata": {},
   "outputs": [
    {
     "name": "stdout",
     "output_type": "stream",
     "text": [
      "-11\n"
     ]
    }
   ],
   "source": [
    "a = 45\n",
    "b = 56\n",
    "\n",
    "print(a - b)"
   ]
  },
  {
   "cell_type": "code",
   "execution_count": 58,
   "id": "a20562cd-2b41-47b5-8ded-fa529edbe2a8",
   "metadata": {},
   "outputs": [
    {
     "name": "stdout",
     "output_type": "stream",
     "text": [
      "9.6\n"
     ]
    }
   ],
   "source": [
    "a = 48\n",
    "b = 5\n",
    "\n",
    "print(a / b) #: float division: decimal"
   ]
  },
  {
   "cell_type": "code",
   "execution_count": 60,
   "id": "f42af01e-494d-4738-b6fc-eda299361fae",
   "metadata": {},
   "outputs": [
    {
     "name": "stdout",
     "output_type": "stream",
     "text": [
      "9\n"
     ]
    }
   ],
   "source": [
    "a = 48\n",
    "b = 5\n",
    "\n",
    "print(a // b) #: int division: no decimal"
   ]
  },
  {
   "cell_type": "code",
   "execution_count": 62,
   "id": "c7b211e2-65fa-4133-8b85-d4f275bae553",
   "metadata": {},
   "outputs": [
    {
     "name": "stdout",
     "output_type": "stream",
     "text": [
      "3\n"
     ]
    }
   ],
   "source": [
    "a = 48\n",
    "b = 5\n",
    "\n",
    "print(a % b) #: remainder return"
   ]
  },
  {
   "cell_type": "code",
   "execution_count": 66,
   "id": "79c11ab6-f0cd-4f72-94df-a4822ebcb619",
   "metadata": {},
   "outputs": [
    {
     "name": "stdout",
     "output_type": "stream",
     "text": [
      "32\n"
     ]
    }
   ],
   "source": [
    "a = 2\n",
    "b = 5\n",
    "\n",
    "print(a ** b) #: Power"
   ]
  },
  {
   "cell_type": "markdown",
   "id": "b8e26283-c3bc-4064-a615-8edd173bedeb",
   "metadata": {},
   "source": [
    "# Comparison/Relational Op\n",
    "- <, <=, >, >=, !=, ==\n",
    "- Bool: True, Flase"
   ]
  },
  {
   "cell_type": "code",
   "execution_count": 70,
   "id": "0d8a82b9-b687-4e73-ad06-a16c63f766f5",
   "metadata": {},
   "outputs": [
    {
     "name": "stdout",
     "output_type": "stream",
     "text": [
      "False\n"
     ]
    }
   ],
   "source": [
    "a = 48\n",
    "b = 50\n",
    "\n",
    "print(a > b) #"
   ]
  },
  {
   "cell_type": "code",
   "execution_count": 74,
   "id": "4f5aa0ca-64ce-4fa0-b690-22c14f34e7f6",
   "metadata": {},
   "outputs": [
    {
     "name": "stdout",
     "output_type": "stream",
     "text": [
      "True\n"
     ]
    }
   ],
   "source": [
    "a = 48\n",
    "b = 50\n",
    "\n",
    "print(a <= b) #"
   ]
  },
  {
   "cell_type": "code",
   "execution_count": 76,
   "id": "cdc796c3-54c2-435d-aeee-69c15bbca740",
   "metadata": {},
   "outputs": [
    {
     "name": "stdout",
     "output_type": "stream",
     "text": [
      "False\n"
     ]
    }
   ],
   "source": [
    "a = 48\n",
    "b = 50\n",
    "\n",
    "print(a == b) #"
   ]
  },
  {
   "cell_type": "code",
   "execution_count": 78,
   "id": "680999d6-e9da-4364-a8c2-4f747e5b2fd6",
   "metadata": {},
   "outputs": [
    {
     "name": "stdout",
     "output_type": "stream",
     "text": [
      "True\n"
     ]
    }
   ],
   "source": [
    "a = 48\n",
    "b = 50\n",
    "\n",
    "print(a != b) #"
   ]
  },
  {
   "cell_type": "code",
   "execution_count": null,
   "id": "ab099e5c-4b3d-4584-b64e-bf0dce5b6b37",
   "metadata": {},
   "outputs": [],
   "source": []
  },
  {
   "cell_type": "markdown",
   "id": "efb55efe-b6ce-40d4-8e92-5afd7b5f8647",
   "metadata": {},
   "source": [
    "# membership op\n",
    "- in, not in"
   ]
  },
  {
   "cell_type": "code",
   "execution_count": 85,
   "id": "e97f70e3-fd81-47df-adfb-dc4ad5e3a7f5",
   "metadata": {},
   "outputs": [],
   "source": [
    "students = ['Karan','Ravi','Ajay','Mohan','Akshay']"
   ]
  },
  {
   "cell_type": "code",
   "execution_count": 87,
   "id": "164a5ee8-6e09-4569-8995-456b58e91214",
   "metadata": {},
   "outputs": [
    {
     "data": {
      "text/plain": [
       "False"
      ]
     },
     "execution_count": 87,
     "metadata": {},
     "output_type": "execute_result"
    }
   ],
   "source": [
    "'ravi' in students"
   ]
  },
  {
   "cell_type": "code",
   "execution_count": 93,
   "id": "18de62e5-179c-4b08-8fe8-77fc1fa0a5fa",
   "metadata": {},
   "outputs": [
    {
     "name": "stdout",
     "output_type": "stream",
     "text": [
      "Password Created Successfully\n"
     ]
    }
   ],
   "source": [
    "all_pwd = ['aman@123','Aman@123','aman@1234','aman1997','aman@gras']\n",
    "\n",
    "new_pwd = 'aman@1237'\n",
    "\n",
    "if new_pwd in all_pwd:\n",
    "    print('Create Another Password')\n",
    "else:\n",
    "    print('Password Created Successfully')"
   ]
  },
  {
   "cell_type": "code",
   "execution_count": 97,
   "id": "7d2fa3c7-add8-4ee4-a7f4-f6f1b1892fcc",
   "metadata": {},
   "outputs": [
    {
     "name": "stdout",
     "output_type": "stream",
     "text": [
      "Wrong OTP\n"
     ]
    }
   ],
   "source": [
    "system_otp = 5678\n",
    "\n",
    "user_otp = 5674\n",
    "\n",
    "if user_otp == system_otp:\n",
    "    print('OTP verified')\n",
    "else:\n",
    "    print('Wrong OTP')"
   ]
  },
  {
   "cell_type": "code",
   "execution_count": 99,
   "id": "45695985-b9aa-4e5a-8305-c223afec0c71",
   "metadata": {},
   "outputs": [],
   "source": [
    "students = ['Karan','Ravi','Ajay','Mohan','Akshay']"
   ]
  },
  {
   "cell_type": "code",
   "execution_count": 101,
   "id": "6ebf0a2f-7de6-41cd-bae6-e4ad9c1037a6",
   "metadata": {},
   "outputs": [
    {
     "data": {
      "text/plain": [
       "True"
      ]
     },
     "execution_count": 101,
     "metadata": {},
     "output_type": "execute_result"
    }
   ],
   "source": [
    "'Akshay' in students"
   ]
  },
  {
   "cell_type": "code",
   "execution_count": 103,
   "id": "2a7d5223-ab7b-43a6-95aa-ffb5383159d7",
   "metadata": {},
   "outputs": [
    {
     "data": {
      "text/plain": [
       "False"
      ]
     },
     "execution_count": 103,
     "metadata": {},
     "output_type": "execute_result"
    }
   ],
   "source": [
    "'Akshay' not in students"
   ]
  },
  {
   "cell_type": "code",
   "execution_count": null,
   "id": "b6c39077-3cd0-457a-9294-1b8b6e510de1",
   "metadata": {},
   "outputs": [],
   "source": []
  },
  {
   "cell_type": "markdown",
   "id": "8773225e-8fb7-4837-85a9-8b22f0032775",
   "metadata": {},
   "source": [
    "# Logical Op\n",
    "-- To check multiple conditions result\n",
    "- and, or, not"
   ]
  },
  {
   "cell_type": "code",
   "execution_count": 108,
   "id": "d1ddf63c-3f37-499e-bb3c-230010c3a9c1",
   "metadata": {},
   "outputs": [
    {
     "name": "stdout",
     "output_type": "stream",
     "text": [
      "False\n"
     ]
    }
   ],
   "source": [
    "a = 45\n",
    "b = 67\n",
    "\n",
    "name = 'Ajay'\n",
    "age = 18\n",
    "\n",
    "print((a == b)   and  (name == 'Mohan')  and  (age >= 18))\n",
    " # F                   F                     T"
   ]
  },
  {
   "cell_type": "code",
   "execution_count": null,
   "id": "7bedc806-c8e0-45fb-a94e-541eb060cc6f",
   "metadata": {},
   "outputs": [],
   "source": []
  },
  {
   "cell_type": "code",
   "execution_count": 111,
   "id": "6f4ef307-649c-472a-adc6-0284db38681d",
   "metadata": {},
   "outputs": [
    {
     "name": "stdout",
     "output_type": "stream",
     "text": [
      "True\n"
     ]
    }
   ],
   "source": [
    "a = 45\n",
    "b = 67\n",
    "\n",
    "name = 'Ajay'\n",
    "age = 18\n",
    "\n",
    "print((a != b)   and  (name != 'Mohan')  and  (age == 18))\n",
    " # T                   T                    T"
   ]
  },
  {
   "cell_type": "code",
   "execution_count": null,
   "id": "bee4f6fa-7cb5-405b-993a-1094972138d4",
   "metadata": {},
   "outputs": [],
   "source": []
  },
  {
   "cell_type": "code",
   "execution_count": 114,
   "id": "a86acfee-c43e-4b02-b121-8257d5d32293",
   "metadata": {},
   "outputs": [
    {
     "name": "stdout",
     "output_type": "stream",
     "text": [
      "False\n"
     ]
    }
   ],
   "source": [
    "a = 45\n",
    "b = 67\n",
    "\n",
    "name = 'Ajay'\n",
    "age = 18\n",
    "\n",
    "print((a != b)   and  (name != 'Mohan')  and  (age == 18) and False)\n",
    " # T                   T                    T"
   ]
  },
  {
   "cell_type": "code",
   "execution_count": 116,
   "id": "ad9767ad-c06d-471c-8cc8-0afb444beb0f",
   "metadata": {},
   "outputs": [],
   "source": [
    "# or: Any True: Final True\n",
    "# and: All True: Final True\n",
    "# and: Any False: Final Flase\n",
    "# or ALl False: Flase\n",
    "# or Any True: Final True"
   ]
  },
  {
   "cell_type": "code",
   "execution_count": null,
   "id": "73a5ed4f-ad2b-45b4-95e7-76d8db378790",
   "metadata": {},
   "outputs": [],
   "source": []
  },
  {
   "cell_type": "code",
   "execution_count": 119,
   "id": "62da2ba6-5ba2-4f3f-a1bf-e8ac0ff7a89e",
   "metadata": {},
   "outputs": [
    {
     "data": {
      "text/plain": [
       "True"
      ]
     },
     "execution_count": 119,
     "metadata": {},
     "output_type": "execute_result"
    }
   ],
   "source": [
    "True or False"
   ]
  },
  {
   "cell_type": "code",
   "execution_count": 121,
   "id": "c8e99f93-134b-4941-a915-dcac7a67a1aa",
   "metadata": {},
   "outputs": [
    {
     "data": {
      "text/plain": [
       "False"
      ]
     },
     "execution_count": 121,
     "metadata": {},
     "output_type": "execute_result"
    }
   ],
   "source": [
    "True and False and True"
   ]
  },
  {
   "cell_type": "code",
   "execution_count": 123,
   "id": "d5a202a8-aa97-483d-8f61-44ee136de725",
   "metadata": {},
   "outputs": [
    {
     "data": {
      "text/plain": [
       "True"
      ]
     },
     "execution_count": 123,
     "metadata": {},
     "output_type": "execute_result"
    }
   ],
   "source": [
    "(False == False) and (True != False)"
   ]
  },
  {
   "cell_type": "code",
   "execution_count": 125,
   "id": "7d5ed5b4-09c8-4e51-89f2-b72fafe8ffd8",
   "metadata": {},
   "outputs": [
    {
     "data": {
      "text/plain": [
       "True"
      ]
     },
     "execution_count": 125,
     "metadata": {},
     "output_type": "execute_result"
    }
   ],
   "source": [
    "(False == False) or (True != False)"
   ]
  },
  {
   "cell_type": "code",
   "execution_count": 127,
   "id": "d465ec3f-fac6-4b09-b7f7-46be955c59ed",
   "metadata": {},
   "outputs": [
    {
     "data": {
      "text/plain": [
       "False"
      ]
     },
     "execution_count": 127,
     "metadata": {},
     "output_type": "execute_result"
    }
   ],
   "source": [
    "not True"
   ]
  },
  {
   "cell_type": "code",
   "execution_count": 133,
   "id": "b4faf3f8-b766-4d9c-a554-c3468b6be2af",
   "metadata": {},
   "outputs": [
    {
     "data": {
      "text/plain": [
       "False"
      ]
     },
     "execution_count": 133,
     "metadata": {},
     "output_type": "execute_result"
    }
   ],
   "source": [
    "not True and False"
   ]
  },
  {
   "cell_type": "code",
   "execution_count": 135,
   "id": "ff01741e-6715-4e4a-9fba-ef9d8314fe1f",
   "metadata": {},
   "outputs": [
    {
     "data": {
      "text/plain": [
       "False"
      ]
     },
     "execution_count": 135,
     "metadata": {},
     "output_type": "execute_result"
    }
   ],
   "source": [
    "(not True) and (not False)"
   ]
  },
  {
   "cell_type": "code",
   "execution_count": 137,
   "id": "f4d139df-cf33-487c-9894-a5c6e17f3afb",
   "metadata": {},
   "outputs": [
    {
     "data": {
      "text/plain": [
       "True"
      ]
     },
     "execution_count": 137,
     "metadata": {},
     "output_type": "execute_result"
    }
   ],
   "source": [
    "(not True) or (not False)"
   ]
  },
  {
   "cell_type": "code",
   "execution_count": 139,
   "id": "c23cc08f-8e16-4462-ac43-08a438544e2d",
   "metadata": {},
   "outputs": [
    {
     "data": {
      "text/plain": [
       "False"
      ]
     },
     "execution_count": 139,
     "metadata": {},
     "output_type": "execute_result"
    }
   ],
   "source": [
    "not((not True) or (not False))"
   ]
  },
  {
   "cell_type": "code",
   "execution_count": null,
   "id": "49a11870-8127-4504-bef8-3c54db74d935",
   "metadata": {},
   "outputs": [],
   "source": []
  },
  {
   "cell_type": "markdown",
   "id": "73988bee-53ab-4ac1-b85b-9f095fef3646",
   "metadata": {},
   "source": [
    "# Identity Op\n",
    "- is, is not"
   ]
  },
  {
   "cell_type": "code",
   "execution_count": 144,
   "id": "0792bb8f-e113-4057-9ca6-e6d4de4a872c",
   "metadata": {},
   "outputs": [],
   "source": [
    "# id check"
   ]
  },
  {
   "cell_type": "code",
   "execution_count": 146,
   "id": "b2283ffa-37be-4214-9d03-2f7c9edbf3fb",
   "metadata": {},
   "outputs": [],
   "source": [
    "a = 56\n",
    "b = 56"
   ]
  },
  {
   "cell_type": "code",
   "execution_count": 148,
   "id": "fbaf2edd-a004-458a-8f3f-c6ef1e0f3226",
   "metadata": {},
   "outputs": [
    {
     "data": {
      "text/plain": [
       "140733489295512"
      ]
     },
     "execution_count": 148,
     "metadata": {},
     "output_type": "execute_result"
    }
   ],
   "source": [
    "id(a)"
   ]
  },
  {
   "cell_type": "code",
   "execution_count": 150,
   "id": "a78fb9f4-7038-410a-a551-c008b51ddcd3",
   "metadata": {},
   "outputs": [
    {
     "data": {
      "text/plain": [
       "140733489295512"
      ]
     },
     "execution_count": 150,
     "metadata": {},
     "output_type": "execute_result"
    }
   ],
   "source": [
    "id(b)"
   ]
  },
  {
   "cell_type": "code",
   "execution_count": 152,
   "id": "2793c08c-eb78-4352-9d47-b6b8a297e461",
   "metadata": {},
   "outputs": [
    {
     "data": {
      "text/plain": [
       "True"
      ]
     },
     "execution_count": 152,
     "metadata": {},
     "output_type": "execute_result"
    }
   ],
   "source": [
    "a is b"
   ]
  },
  {
   "cell_type": "code",
   "execution_count": 154,
   "id": "14d452d7-8e36-4259-bfa5-f630a580bf13",
   "metadata": {},
   "outputs": [
    {
     "data": {
      "text/plain": [
       "True"
      ]
     },
     "execution_count": 154,
     "metadata": {},
     "output_type": "execute_result"
    }
   ],
   "source": [
    "a == b"
   ]
  },
  {
   "cell_type": "code",
   "execution_count": 156,
   "id": "91981fa7-b408-4278-b7c3-944b5c4b2283",
   "metadata": {},
   "outputs": [
    {
     "data": {
      "text/plain": [
       "True"
      ]
     },
     "execution_count": 156,
     "metadata": {},
     "output_type": "execute_result"
    }
   ],
   "source": [
    "a is b"
   ]
  },
  {
   "cell_type": "code",
   "execution_count": 158,
   "id": "4f9b08c1-c10e-4178-9b4f-4bb57690885c",
   "metadata": {},
   "outputs": [],
   "source": [
    "a = 258\n",
    "b = 258"
   ]
  },
  {
   "cell_type": "code",
   "execution_count": 160,
   "id": "ffcf3299-f94a-43c9-98a4-c17410d765ad",
   "metadata": {},
   "outputs": [
    {
     "data": {
      "text/plain": [
       "True"
      ]
     },
     "execution_count": 160,
     "metadata": {},
     "output_type": "execute_result"
    }
   ],
   "source": [
    "a == b"
   ]
  },
  {
   "cell_type": "code",
   "execution_count": 162,
   "id": "9af1525b-8caa-4726-a4b5-e20adf7147a6",
   "metadata": {},
   "outputs": [
    {
     "data": {
      "text/plain": [
       "2300808145904"
      ]
     },
     "execution_count": 162,
     "metadata": {},
     "output_type": "execute_result"
    }
   ],
   "source": [
    "id(a)"
   ]
  },
  {
   "cell_type": "code",
   "execution_count": 164,
   "id": "ee50f705-bf26-497b-b6d9-3c5657c15d91",
   "metadata": {},
   "outputs": [
    {
     "data": {
      "text/plain": [
       "2300808146000"
      ]
     },
     "execution_count": 164,
     "metadata": {},
     "output_type": "execute_result"
    }
   ],
   "source": [
    "id(b)"
   ]
  },
  {
   "cell_type": "code",
   "execution_count": 168,
   "id": "2b67729a-c898-4dd3-b525-69bda50b7bee",
   "metadata": {},
   "outputs": [
    {
     "data": {
      "text/plain": [
       "False"
      ]
     },
     "execution_count": 168,
     "metadata": {},
     "output_type": "execute_result"
    }
   ],
   "source": [
    "a is b"
   ]
  },
  {
   "cell_type": "code",
   "execution_count": null,
   "id": "a1b0463a-3036-4c9a-8798-fab9b23d5221",
   "metadata": {},
   "outputs": [],
   "source": []
  },
  {
   "cell_type": "markdown",
   "id": "1abd6c22-c86c-4930-9085-9389811da384",
   "metadata": {},
   "source": [
    "# Assignment op\n",
    "-  =, +=, -=, *=, /=, //=, **=, %="
   ]
  },
  {
   "cell_type": "code",
   "execution_count": 175,
   "id": "5c4f5ce4-ad3c-49d7-ba69-6eaa596f479b",
   "metadata": {},
   "outputs": [
    {
     "name": "stdout",
     "output_type": "stream",
     "text": [
      "15\n"
     ]
    }
   ],
   "source": [
    "a = 5\n",
    "a = a + 10\n",
    "print(a)"
   ]
  },
  {
   "cell_type": "code",
   "execution_count": 177,
   "id": "1f6de205-ef4f-4939-aed8-1f0f7f2c3042",
   "metadata": {},
   "outputs": [
    {
     "name": "stdout",
     "output_type": "stream",
     "text": [
      "60\n"
     ]
    }
   ],
   "source": [
    "a = 50\n",
    "a+= 10 \n",
    "print(a)"
   ]
  },
  {
   "cell_type": "code",
   "execution_count": 179,
   "id": "2404eae2-77c8-4fae-b12a-1273736244f1",
   "metadata": {},
   "outputs": [
    {
     "name": "stdout",
     "output_type": "stream",
     "text": [
      "40\n"
     ]
    }
   ],
   "source": [
    "a = 50\n",
    "a-= 10 \n",
    "print(a)"
   ]
  },
  {
   "cell_type": "code",
   "execution_count": 181,
   "id": "1067f1fd-6ceb-44ca-ba76-f41a855d8204",
   "metadata": {},
   "outputs": [
    {
     "name": "stdout",
     "output_type": "stream",
     "text": [
      "500\n"
     ]
    }
   ],
   "source": [
    "a = 50\n",
    "a*= 10 \n",
    "print(a)"
   ]
  },
  {
   "cell_type": "code",
   "execution_count": 183,
   "id": "7f8ad7e1-9438-4046-a96c-f1aa5b06151a",
   "metadata": {},
   "outputs": [
    {
     "name": "stdout",
     "output_type": "stream",
     "text": [
      "5.0\n"
     ]
    }
   ],
   "source": [
    "a = 50\n",
    "a/= 10 \n",
    "print(a)"
   ]
  },
  {
   "cell_type": "code",
   "execution_count": 189,
   "id": "b38e6963-c312-4e7c-a23f-52cc34c6c473",
   "metadata": {},
   "outputs": [
    {
     "name": "stdout",
     "output_type": "stream",
     "text": [
      "8\n"
     ]
    }
   ],
   "source": [
    "a = 85\n",
    "a//= 10 \n",
    "print(a)"
   ]
  },
  {
   "cell_type": "code",
   "execution_count": 191,
   "id": "9007be71-e2dc-49ab-924c-764458d1b03b",
   "metadata": {},
   "outputs": [
    {
     "name": "stdout",
     "output_type": "stream",
     "text": [
      "5\n"
     ]
    }
   ],
   "source": [
    "a = 85\n",
    "a%= 10 \n",
    "print(a)"
   ]
  },
  {
   "cell_type": "code",
   "execution_count": 193,
   "id": "2ec877bc-bd42-4c6d-9b32-93f03a02b410",
   "metadata": {},
   "outputs": [
    {
     "name": "stdout",
     "output_type": "stream",
     "text": [
      "16\n"
     ]
    }
   ],
   "source": [
    "a = 2\n",
    "a**= 4 \n",
    "print(a)"
   ]
  },
  {
   "cell_type": "code",
   "execution_count": null,
   "id": "900fe88b-9a46-418a-9903-e9fe2bef3819",
   "metadata": {},
   "outputs": [],
   "source": []
  },
  {
   "cell_type": "markdown",
   "id": "d0c2d206-b30c-4044-9c17-0f8c11b7a45b",
   "metadata": {},
   "source": [
    "# Bitwise op\n",
    "-- &, |, ^, ~, <<, >>"
   ]
  },
  {
   "cell_type": "code",
   "execution_count": 201,
   "id": "0a2a20f6-d3a6-4792-805e-39ebdeba6530",
   "metadata": {},
   "outputs": [
    {
     "data": {
      "text/plain": [
       "2"
      ]
     },
     "execution_count": 201,
     "metadata": {},
     "output_type": "execute_result"
    }
   ],
   "source": [
    "# Bitwise op: bit level pe ja ke solve karna:  0,1\n",
    "a = 23  #  010111\n",
    "b = 34   # 100010\n",
    "       # 000010\n",
    "\n",
    "a & b"
   ]
  },
  {
   "cell_type": "code",
   "execution_count": 203,
   "id": "ea6d4752-343b-46ef-a767-df0d255d1d16",
   "metadata": {},
   "outputs": [
    {
     "data": {
      "text/plain": [
       "55"
      ]
     },
     "execution_count": 203,
     "metadata": {},
     "output_type": "execute_result"
    }
   ],
   "source": [
    "# Bitwise op: bit level pe ja ke solve karna:  0,1\n",
    "a = 23  #  010111\n",
    "b = 34   # 100010\n",
    "       #   110111\n",
    "\n",
    "a | b"
   ]
  },
  {
   "cell_type": "code",
   "execution_count": 205,
   "id": "51603a18-74f6-4d4e-8a03-0f4f30e3ea2d",
   "metadata": {},
   "outputs": [
    {
     "data": {
      "text/plain": [
       "-46"
      ]
     },
     "execution_count": 205,
     "metadata": {},
     "output_type": "execute_result"
    }
   ],
   "source": [
    "a = 45\n",
    "~a"
   ]
  },
  {
   "cell_type": "code",
   "execution_count": 207,
   "id": "e9fced4c-9b82-41fe-a635-a1c6dce4ff95",
   "metadata": {},
   "outputs": [
    {
     "data": {
      "text/plain": [
       "21"
      ]
     },
     "execution_count": 207,
     "metadata": {},
     "output_type": "execute_result"
    }
   ],
   "source": [
    "a = 45  # 101101\n",
    "b = 56  # 111000\n",
    "        # 010101\n",
    "\n",
    "a ^ b"
   ]
  },
  {
   "cell_type": "code",
   "execution_count": 213,
   "id": "970f4fec-ecca-43ff-8769-2c6e87b1a919",
   "metadata": {},
   "outputs": [
    {
     "data": {
      "text/plain": [
       "64"
      ]
     },
     "execution_count": 213,
     "metadata": {},
     "output_type": "execute_result"
    }
   ],
   "source": [
    "a = 4  # 10110100  # result twice\n",
    "\n",
    "a << 4"
   ]
  },
  {
   "cell_type": "code",
   "execution_count": 219,
   "id": "fdc2a858-5ead-4c22-b07f-c1f279c2905a",
   "metadata": {},
   "outputs": [
    {
     "data": {
      "text/plain": [
       "0"
      ]
     },
     "execution_count": 219,
     "metadata": {},
     "output_type": "execute_result"
    }
   ],
   "source": [
    "a = 4    # result half\n",
    "\n",
    "a >> 3"
   ]
  },
  {
   "attachments": {
    "63cf1ba5-dc8d-4614-bf97-615ad8c5a1b1.png": {
     "image/png": "[encoded data removed]"
    }
   },
   "cell_type": "markdown",
   "id": "01d07dfe-a999-4cea-9f95-f81983ba379b",
   "metadata": {},
   "source": [
    "# ![image.png](attachment:63cf1ba5-dc8d-4614-bf97-615ad8c5a1b1.png)"
   ]
  },
  {
   "cell_type": "code",
   "execution_count": null,
   "id": "26aa6ebc-5f6d-49a9-9810-98b4c10c9b31",
   "metadata": {},
   "outputs": [],
   "source": []
  },
  {
   "cell_type": "markdown",
   "id": "c7ca4c5d-86bf-47f2-bc99-5d5ae2541d66",
   "metadata": {},
   "source": [
    "# String"
   ]
  },
  {
   "cell_type": "code",
   "execution_count": 234,
   "id": "d033dabf-7e44-4583-9c95-afc0d853ecf2",
   "metadata": {},
   "outputs": [],
   "source": [
    "a = 'this is elon musk'\n",
    "# a.expandtabs()"
   ]
  },
  {
   "cell_type": "code",
   "execution_count": 244,
   "id": "21d47561-c121-4943-8f36-6fbd7e8655d7",
   "metadata": {},
   "outputs": [
    {
     "data": {
      "text/plain": [
       "True"
      ]
     },
     "execution_count": 244,
     "metadata": {},
     "output_type": "execute_result"
    }
   ],
   "source": [
    "# a.capitalize()\n",
    "# a.center(100,'*')\n",
    "# a.count('s')\n",
    "# a.endswith('musk')\n",
    "# a.expandtabs()\n",
    "# a.find\n",
    "# a.format\n",
    "# a.index\n",
    "# a.isdigit\n",
    "# a.join\n",
    "# a.lower\n",
    "# a.ljust\n",
    "# a.rjust\n",
    "# a.removeprefix\n",
    "# a.title\n",
    "# a.zfill\n",
    "# a.split\n",
    "# a.splitlines\n",
    "# a.swapcase\n",
    "# a.format_map"
   ]
  },
  {
   "cell_type": "code",
   "execution_count": 262,
   "id": "56e98861-94fe-49fa-a2af-b5fffda7c827",
   "metadata": {},
   "outputs": [
    {
     "name": "stdout",
     "output_type": "stream",
     "text": [
      "this                is                  elon musk\n"
     ]
    }
   ],
   "source": [
    "a = 'this\\tis\\telon musk'\n",
    "print(a.expandtabs(20))"
   ]
  },
  {
   "cell_type": "code",
   "execution_count": 266,
   "id": "83bbc933-5368-4b8c-bbc5-2d98c04068de",
   "metadata": {},
   "outputs": [],
   "source": [
    "a = 'Python is Awesome'"
   ]
  },
  {
   "cell_type": "code",
   "execution_count": 268,
   "id": "1e23a6e5-9df3-4893-b8ea-64bfb06c31b9",
   "metadata": {},
   "outputs": [
    {
     "data": {
      "text/plain": [
       "7"
      ]
     },
     "execution_count": 268,
     "metadata": {},
     "output_type": "execute_result"
    }
   ],
   "source": [
    "a.find('is')"
   ]
  },
  {
   "cell_type": "code",
   "execution_count": 272,
   "id": "a21e6008-8f1d-4b64-b561-ae6dccb25154",
   "metadata": {},
   "outputs": [
    {
     "data": {
      "text/plain": [
       "10"
      ]
     },
     "execution_count": 272,
     "metadata": {},
     "output_type": "execute_result"
    }
   ],
   "source": [
    "a.find('Awesome')"
   ]
  },
  {
   "cell_type": "code",
   "execution_count": 274,
   "id": "8959fe63-12a4-4cec-b18a-31727997a683",
   "metadata": {},
   "outputs": [
    {
     "data": {
      "text/plain": [
       "10"
      ]
     },
     "execution_count": 274,
     "metadata": {},
     "output_type": "execute_result"
    }
   ],
   "source": [
    "a.index('Awesome')"
   ]
  },
  {
   "cell_type": "code",
   "execution_count": 276,
   "id": "7eea4663-e6a8-4faf-b7b8-188a1a996b4b",
   "metadata": {},
   "outputs": [
    {
     "ename": "ValueError",
     "evalue": "substring not found",
     "output_type": "error",
     "traceback": [
      "\u001b[1;31m---------------------------------------------------------------------------\u001b[0m",
      "\u001b[1;31mValueError\u001b[0m                                Traceback (most recent call last)",
      "Cell \u001b[1;32mIn[276], line 1\u001b[0m\n\u001b[1;32m----> 1\u001b[0m a\u001b[38;5;241m.\u001b[39mindex(\u001b[38;5;124m'\u001b[39m\u001b[38;5;124mawesome\u001b[39m\u001b[38;5;124m'\u001b[39m)\n",
      "\u001b[1;31mValueError\u001b[0m: substring not found"
     ]
    }
   ],
   "source": [
    "a.index('awesome')"
   ]
  },
  {
   "cell_type": "code",
   "execution_count": 278,
   "id": "b32600fb-5214-4deb-bcec-bfd8e59469ff",
   "metadata": {},
   "outputs": [],
   "source": [
    "a = ['Python', 'is', 'popular','programming','language']"
   ]
  },
  {
   "cell_type": "code",
   "execution_count": 280,
   "id": "6a9aa224-f2dd-4717-99a1-3d6cfb00bd97",
   "metadata": {},
   "outputs": [
    {
     "name": "stdout",
     "output_type": "stream",
     "text": [
      "['Python', 'is', 'popular', 'programming', 'language']\n"
     ]
    }
   ],
   "source": [
    "print(a)"
   ]
  },
  {
   "cell_type": "code",
   "execution_count": 286,
   "id": "e52b13a5-7be5-4cc7-b694-f0a8eaafde52",
   "metadata": {},
   "outputs": [
    {
     "data": {
      "text/plain": [
       "'Python_is_popular_programming_language'"
      ]
     },
     "execution_count": 286,
     "metadata": {},
     "output_type": "execute_result"
    }
   ],
   "source": [
    "ans = '_'\n",
    "ans.join(a)"
   ]
  },
  {
   "cell_type": "code",
   "execution_count": 290,
   "id": "765f6d74-7ce6-4f1f-be88-d7eefe15f208",
   "metadata": {},
   "outputs": [],
   "source": [
    "data = ['H','O','L','L','Y','W','O','O','D']"
   ]
  },
  {
   "cell_type": "code",
   "execution_count": 300,
   "id": "2d963003-074a-4daf-a9a1-109ffd811189",
   "metadata": {},
   "outputs": [
    {
     "data": {
      "text/plain": [
       "'H O L L Y W O O D'"
      ]
     },
     "execution_count": 300,
     "metadata": {},
     "output_type": "execute_result"
    }
   ],
   "source": [
    "' '.join(data)"
   ]
  },
  {
   "cell_type": "code",
   "execution_count": 302,
   "id": "b1cc1729-677d-4b9f-aa17-897acf704579",
   "metadata": {},
   "outputs": [],
   "source": [
    "# methods\n",
    "# Conditional Programming\n",
    "# Functional Programming\n",
    "# OOps"
   ]
  },
  {
   "cell_type": "code",
   "execution_count": null,
   "id": "a4590bf5-f883-4dd4-ad36-6b71fe112e93",
   "metadata": {},
   "outputs": [],
   "source": []
  }
 ],
 "metadata": {
  "kernelspec": {
   "display_name": "Python [conda env:base] *",
   "language": "python",
   "name": "conda-base-py"
  },
  "language_info": {
   "codemirror_mode": {
    "name": "ipython",
    "version": 3
   },
   "file_extension": ".py",
   "mimetype": "text/x-python",
   "name": "python",
   "nbconvert_exporter": "python",
   "pygments_lexer": "ipython3",
   "version": "3.12.7"
  }
 },
 "nbformat": 4,
 "nbformat_minor": 5
}
